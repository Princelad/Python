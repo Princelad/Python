{
 "cells": [
  {
   "cell_type": "code",
   "execution_count": 1,
   "id": "7d30c5d2-b929-4af2-b0ba-7bc28eaaac1a",
   "metadata": {},
   "outputs": [
    {
     "name": "stdout",
     "output_type": "stream",
     "text": [
      "Set of unique elements: {1, 2, 3}\n"
     ]
    }
   ],
   "source": [
    "# Create a set to store unique elements.\n",
    "\n",
    "# Create an empty set\n",
    "unique_elements = set()\n",
    "\n",
    "# Add elements to the set\n",
    "unique_elements.add(1)\n",
    "unique_elements.add(2)\n",
    "unique_elements.add(3)\n",
    "unique_elements.add(1)  # This will not be added again as sets only store unique elements\n",
    "\n",
    "# Print the set\n",
    "print(\"Set of unique elements:\", unique_elements)\n"
   ]
  },
  {
   "cell_type": "code",
   "execution_count": 2,
   "id": "40af67c3-3a5d-4d65-aae4-3a07165100c5",
   "metadata": {},
   "outputs": [
    {
     "name": "stdout",
     "output_type": "stream",
     "text": [
      "Set after adding a single element: {1, 2, 3, 4}\n",
      "Set after adding multiple elements: {1, 2, 3, 4, 5, 6}\n"
     ]
    }
   ],
   "source": [
    "# Add elements to a set.\n",
    "\n",
    "# Create a set\n",
    "my_set = {1, 2, 3}\n",
    "\n",
    "# Add a single element\n",
    "my_set.add(4)\n",
    "\n",
    "# Print the updated set\n",
    "print(\"Set after adding a single element:\", my_set)\n",
    "\n",
    "\n",
    "# Add a multiple element\n",
    "\n",
    "# Create a set\n",
    "my_set = {1, 2, 3}\n",
    "\n",
    "# Add multiple elements using the update() method\n",
    "my_set.update([4, 5, 6])\n",
    "\n",
    "# Print the updated set\n",
    "print(\"Set after adding multiple elements:\", my_set)"
   ]
  },
  {
   "cell_type": "code",
   "execution_count": 3,
   "id": "e374d0ae-97f5-43c0-9dd6-e88db674425b",
   "metadata": {},
   "outputs": [
    {
     "name": "stdout",
     "output_type": "stream",
     "text": [
      "Set after removing an element: {1, 2, 4, 5}\n",
      "Set after discarding an element: {1, 2, 4, 5}\n",
      "Set after discarding a non-existing element: {1, 2, 4, 5}\n",
      "Popped element: 1\n",
      "Set after popping an element: {2, 3, 4, 5}\n",
      "Set after clearing all elements: set()\n"
     ]
    }
   ],
   "source": [
    "# Remove elements from a set\n",
    "\n",
    "# Create a set\n",
    "my_set = {1, 2, 3, 4, 5}\n",
    "\n",
    "# Remove an element\n",
    "my_set.remove(3)\n",
    "\n",
    "# Print the updated set\n",
    "print(\"Set after removing an element:\", my_set)\n",
    "\n",
    "\n",
    "\n",
    "# Create a set\n",
    "my_set = {1, 2, 3, 4, 5}\n",
    "\n",
    "# Discard an element\n",
    "my_set.discard(3)\n",
    "\n",
    "# Print the updated set\n",
    "print(\"Set after discarding an element:\", my_set)\n",
    "\n",
    "# Discarding an element that doesn't exist will not raise an error\n",
    "my_set.discard(10)  # No error even though 10 isn't in the set\n",
    "print(\"Set after discarding a non-existing element:\", my_set)\n",
    "\n",
    "\n",
    "\n",
    "# Create a set\n",
    "my_set = {1, 2, 3, 4, 5}\n",
    "\n",
    "# Pop an arbitrary element\n",
    "popped_element = my_set.pop()\n",
    "\n",
    "# Print the popped element and the updated set\n",
    "print(\"Popped element:\", popped_element)\n",
    "print(\"Set after popping an element:\", my_set)\n",
    "\n",
    "\n",
    "\n",
    "# Create a set\n",
    "my_set = {1, 2, 3, 4, 5}\n",
    "\n",
    "# Clear all elements from the set\n",
    "my_set.clear()\n",
    "\n",
    "# Print the cleared set\n",
    "print(\"Set after clearing all elements:\", my_set)\n",
    "\n"
   ]
  },
  {
   "cell_type": "code",
   "execution_count": 4,
   "id": "79fa8d9d-63d1-4e72-afb4-15b4ab7e6a92",
   "metadata": {},
   "outputs": [
    {
     "name": "stdout",
     "output_type": "stream",
     "text": [
      "Combined set using union(): {1, 2, 3, 4, 5}\n",
      "Combined set using | operator: {1, 2, 3, 4, 5}\n"
     ]
    }
   ],
   "source": [
    "# Combine elements from two sets.\n",
    "\n",
    "\n",
    "# Define two sets\n",
    "set1 = {1, 2, 3}\n",
    "set2 = {3, 4, 5}\n",
    "\n",
    "# Combine the sets using union() method\n",
    "combined_set = set1.union(set2)\n",
    "\n",
    "# Print the combined set\n",
    "print(\"Combined set using union():\", combined_set)\n",
    "\n",
    "\n",
    "\n",
    "# Define two sets\n",
    "set1 = {1, 2, 3}\n",
    "set2 = {3, 4, 5}\n",
    "\n",
    "# Combine the sets using the | operator\n",
    "combined_set = set1 | set2\n",
    "\n",
    "# Print the combined set\n",
    "print(\"Combined set using | operator:\", combined_set)\n"
   ]
  },
  {
   "cell_type": "code",
   "execution_count": 5,
   "id": "c14489dd-fdde-4ed3-aec2-7efca2a243c6",
   "metadata": {},
   "outputs": [
    {
     "name": "stdout",
     "output_type": "stream",
     "text": [
      "Common elements using intersection(): {3, 4, 5}\n",
      "Common elements using & operator: {3, 4, 5}\n"
     ]
    }
   ],
   "source": [
    "# Find common elements between two sets.\n",
    "\n",
    "# Define two sets\n",
    "set1 = {1, 2, 3, 4, 5}\n",
    "set2 = {3, 4, 5, 6, 7}\n",
    "\n",
    "# Find the common elements using intersection() method\n",
    "common_elements = set1.intersection(set2)\n",
    "\n",
    "# Print the common elements\n",
    "print(\"Common elements using intersection():\", common_elements)\n",
    "\n",
    "\n",
    "\n",
    "# Define two sets\n",
    "set1 = {1, 2, 3, 4, 5}\n",
    "set2 = {3, 4, 5, 6, 7}\n",
    "\n",
    "# Find the common elements using the & operator\n",
    "common_elements = set1 & set2\n",
    "\n",
    "# Print the common elements\n",
    "print(\"Common elements using & operator:\", common_elements)\n",
    "\n"
   ]
  },
  {
   "cell_type": "code",
   "execution_count": 6,
   "id": "08bbb9a3-7d39-47be-84a7-4110ec98bf4e",
   "metadata": {},
   "outputs": [
    {
     "name": "stdout",
     "output_type": "stream",
     "text": [
      "Elements in set1 but not in set2 using difference(): {1, 2}\n",
      "Elements in set1 but not in set2 using - operator: {1, 2}\n"
     ]
    }
   ],
   "source": [
    "# Find elements present in one set but not in another.\n",
    "\n",
    "# Define two sets\n",
    "set1 = {1, 2, 3, 4, 5}\n",
    "set2 = {3, 4, 5, 6, 7}\n",
    "\n",
    "# Find the elements in set1 but not in set2\n",
    "difference_set = set1.difference(set2)\n",
    "\n",
    "# Print the result\n",
    "print(\"Elements in set1 but not in set2 using difference():\", difference_set)\n",
    "\n",
    "\n",
    "\n",
    "# Define two sets\n",
    "set1 = {1, 2, 3, 4, 5}\n",
    "set2 = {3, 4, 5, 6, 7}\n",
    "\n",
    "# Find the elements in set1 but not in set2 using the - operator\n",
    "difference_set = set1 - set2\n",
    "\n",
    "# Print the result\n",
    "print(\"Elements in set1 but not in set2 using - operator:\", difference_set)\n"
   ]
  },
  {
   "cell_type": "code",
   "execution_count": 7,
   "id": "d2e56d79-ce34-4cf5-b19a-2a51ceed3b6c",
   "metadata": {},
   "outputs": [
    {
     "name": "stdout",
     "output_type": "stream",
     "text": [
      "Elements in either of the sets but not in their intersection using symmetric_difference(): {1, 2, 6, 7}\n",
      "Elements in either of the sets but not in their intersection using ^ operator: {1, 2, 6, 7}\n"
     ]
    }
   ],
   "source": [
    "# Find elements present in either of the sets but not in their intersection.\n",
    "\n",
    "\n",
    "# Define two sets\n",
    "set1 = {1, 2, 3, 4, 5}\n",
    "set2 = {3, 4, 5, 6, 7}\n",
    "\n",
    "# Find the elements present in either of the sets but not in their intersection\n",
    "symmetric_difference_set = set1.symmetric_difference(set2)\n",
    "\n",
    "# Print the result\n",
    "print(\"Elements in either of the sets but not in their intersection using symmetric_difference():\", symmetric_difference_set)\n",
    "\n",
    "\n",
    "\n",
    "\n",
    "# Define two sets\n",
    "set1 = {1, 2, 3, 4, 5}\n",
    "set2 = {3, 4, 5, 6, 7}\n",
    "\n",
    "# Find the elements present in either of the sets but not in their intersection using ^ operator\n",
    "symmetric_difference_set = set1 ^ set2\n",
    "\n",
    "# Print the result\n",
    "print(\"Elements in either of the sets but not in their intersection using ^ operator:\", symmetric_difference_set)\n"
   ]
  },
  {
   "cell_type": "code",
   "execution_count": 8,
   "id": "18566978-486d-4890-906b-2c827eaf51b5",
   "metadata": {},
   "outputs": [
    {
     "name": "stdout",
     "output_type": "stream",
     "text": [
      "Is set1 a subset of set2 using issubset(): True\n",
      "Is set1 a subset of set2 using <= operator: True\n"
     ]
    }
   ],
   "source": [
    "# Check if one set is a subset of another.\n",
    "\n",
    "\n",
    "# Define two sets\n",
    "set1 = {1, 2, 3}\n",
    "set2 = {1, 2, 3, 4, 5}\n",
    "\n",
    "# Check if set1 is a subset of set2\n",
    "is_subset = set1.issubset(set2)\n",
    "\n",
    "# Print the result\n",
    "print(\"Is set1 a subset of set2 using issubset():\", is_subset)\n",
    "\n",
    "\n",
    "\n",
    "\n",
    "\n",
    "# Define two sets\n",
    "set1 = {1, 2, 3}\n",
    "set2 = {1, 2, 3, 4, 5}\n",
    "\n",
    "# Check if set1 is a subset of set2 using the <= operator\n",
    "is_subset = set1 <= set2\n",
    "\n",
    "# Print the result\n",
    "print(\"Is set1 a subset of set2 using <= operator:\", is_subset)\n"
   ]
  },
  {
   "cell_type": "code",
   "execution_count": 9,
   "id": "91786bbd-c7b2-49e0-9236-f74e9d0e16c4",
   "metadata": {},
   "outputs": [
    {
     "name": "stdout",
     "output_type": "stream",
     "text": [
      "Is set1 a superset of set2 using issuperset(): True\n",
      "Is set1 a superset of set2 using >= operator: True\n"
     ]
    }
   ],
   "source": [
    "# Check if one set is a superset of another.\n",
    "\n",
    "\n",
    "# Define two sets\n",
    "set1 = {1, 2, 3, 4, 5}\n",
    "set2 = {1, 2, 3}\n",
    "\n",
    "# Check if set1 is a superset of set2\n",
    "is_superset = set1.issuperset(set2)\n",
    "\n",
    "# Print the result\n",
    "print(\"Is set1 a superset of set2 using issuperset():\", is_superset)\n",
    "\n",
    "\n",
    "\n",
    "\n",
    "# Define two sets\n",
    "set1 = {1, 2, 3, 4, 5}\n",
    "set2 = {1, 2, 3}\n",
    "\n",
    "# Check if set1 is a superset of set2 using the >= operator\n",
    "is_superset = set1 >= set2\n",
    "\n",
    "# Print the result\n",
    "print(\"Is set1 a superset of set2 using >= operator:\", is_superset)\n"
   ]
  },
  {
   "cell_type": "code",
   "execution_count": 10,
   "id": "b6f719f3-bcdb-4510-a360-422df264ad18",
   "metadata": {},
   "outputs": [
    {
     "name": "stdout",
     "output_type": "stream",
     "text": [
      "Set after removing all elements: set()\n"
     ]
    }
   ],
   "source": [
    "# \n",
    "\n",
    "# Define a set\n",
    "my_set = {1, 2, 3, 4, 5}\n",
    "\n",
    "# Remove all elements from the set\n",
    "my_set.clear()\n",
    "\n",
    "# Print the set after clearing\n",
    "print(\"Set after removing all elements:\", my_set)\n"
   ]
  }
 ],
 "metadata": {
  "kernelspec": {
   "display_name": ".venv",
   "language": "python",
   "name": "python3"
  },
  "language_info": {
   "codemirror_mode": {
    "name": "ipython",
    "version": 3
   },
   "file_extension": ".py",
   "mimetype": "text/x-python",
   "name": "python",
   "nbconvert_exporter": "python",
   "pygments_lexer": "ipython3",
   "version": "3.13.2"
  }
 },
 "nbformat": 4,
 "nbformat_minor": 5
}
