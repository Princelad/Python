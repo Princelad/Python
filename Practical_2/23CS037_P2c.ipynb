{
 "cells": [
  {
   "cell_type": "markdown",
   "metadata": {},
   "source": [
    "# Practical 2c"
   ]
  },
  {
   "cell_type": "markdown",
   "metadata": {},
   "source": [
    "### * Create a dictionary to store key-value pairs."
   ]
  },
  {
   "cell_type": "code",
   "execution_count": 3,
   "metadata": {},
   "outputs": [
    {
     "name": "stdout",
     "output_type": "stream",
     "text": [
      "{'name': 'Prince', 'age': 18, 'dept.': 'Computer Science', 'marks': {'DAA': 80, 'DBMS': 60}}\n"
     ]
    }
   ],
   "source": [
    "student_dic = {\n",
    "    \"name\": \"Prince\",\n",
    "    \"age\": 18,\n",
    "    \"dept.\": \"Computer Science\",\n",
    "    \"marks\": {\n",
    "        \"DAA\": 80,\n",
    "        \"DBMS\":60\n",
    "    }\n",
    "}\n",
    "\n",
    "print(student_dic)"
   ]
  }
 ],
 "metadata": {
  "kernelspec": {
   "display_name": ".conda",
   "language": "python",
   "name": "python3"
  },
  "language_info": {
   "codemirror_mode": {
    "name": "ipython",
    "version": 3
   },
   "file_extension": ".py",
   "mimetype": "text/x-python",
   "name": "python",
   "nbconvert_exporter": "python",
   "pygments_lexer": "ipython3",
   "version": "3.11.11"
  }
 },
 "nbformat": 4,
 "nbformat_minor": 2
}
