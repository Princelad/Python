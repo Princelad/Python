{
 "cells": [
  {
   "cell_type": "markdown",
   "metadata": {},
   "source": [
    "## Practical 2_a"
   ]
  },
  {
   "cell_type": "markdown",
   "metadata": {},
   "source": [
    "## Creating tuples with different datatypes (int, float, string, mixed)"
   ]
  },
  {
   "cell_type": "code",
   "execution_count": null,
   "metadata": {},
   "outputs": [],
   "source": [
    "tuple_int = (1, 2, 3, 4, 5)\n",
    "print(tuple_int)\n",
    "\n",
    "tuple_float = (1.1, 2.2, 3.3, 4.4, 5.5)\n",
    "print(tuple_float)\n",
    "\n",
    "tuple_str = ('Prince', 'Aryan', 'Aarav', 'Suhana', 'Navya')\n",
    "print(tuple_str)\n",
    "\n",
    "tuples_mixed = (1, 2.2, 'Prince', 4.4, True)\n",
    "print(tuples_mixed)\n"
   ]
  },
  {
   "cell_type": "markdown",
   "metadata": {},
   "source": [
    "# Access tuple elements using and positive and negative indices"
   ]
  },
  {
   "cell_type": "code",
   "execution_count": null,
   "metadata": {},
   "outputs": [],
   "source": [
    "t = (10, 20, 30, 40, 50)\n",
    "\n",
    "print(t[0])\n",
    "print(t[2])\n",
    "print(t[-1])\n",
    "print(t[-2])"
   ]
  },
  {
   "cell_type": "markdown",
   "metadata": {},
   "source": [
    "#  Slicing"
   ]
  },
  {
   "cell_type": "code",
   "execution_count": 3,
   "metadata": {},
   "outputs": [
    {
     "name": "stdout",
     "output_type": "stream",
     "text": [
      "(20, 30)\n",
      "(10, 20, 30, 40)\n",
      "(10, 30, 50)\n",
      "(10, 20, 30)\n",
      "(50, 30, 10)\n"
     ]
    }
   ],
   "source": [
    "t = (10, 20, 30, 40, 50)\n",
    "\n",
    "print(t[1:3])\n",
    "print(t[:4])\n",
    "print(t[::2])\n",
    "print(t[:-2])\n",
    "print(t[::-2])"
   ]
  },
  {
   "cell_type": "markdown",
   "metadata": {},
   "source": [
    "# Count the number occurrence in tuple."
   ]
  },
  {
   "cell_type": "code",
   "execution_count": null,
   "metadata": {},
   "outputs": [],
   "source": [
    "print(\"number of 10 : \", t.count(10))\n",
    "print(\"number of 20 : \", t.count(20))"
   ]
  },
  {
   "cell_type": "markdown",
   "metadata": {},
   "source": [
    "# Index of the element"
   ]
  },
  {
   "cell_type": "code",
   "execution_count": null,
   "metadata": {},
   "outputs": [],
   "source": [
    "print(\"number of 30 : \", t.index(30))\n",
    "print(\"number of 40 : \", t.index(40))\n",
    "print(\"number of 50 : \", t.index(50))\n",
    "\n",
    "# using try...expect for unnavigable values\n",
    "\n",
    "try:\n",
    "    print(t.index(100))\n",
    "except Exception as e:\n",
    "    print(e)"
   ]
  },
  {
   "cell_type": "markdown",
   "metadata": {},
   "source": [
    "# In-built Functions len(), max(), min() and sum()"
   ]
  },
  {
   "cell_type": "code",
   "execution_count": null,
   "metadata": {},
   "outputs": [],
   "source": [
    "print(\"Length of tuple : \", len(t))\n",
    "print(\"Max of tuple : \", max(t))\n",
    "print(\"Min of tuple : \", min(t))\n",
    "print(\"Sum of tuple : \", sum(t))"
   ]
  },
  {
   "cell_type": "markdown",
   "metadata": {},
   "source": [
    "# Write a program to count and print distinct elements from the tuple"
   ]
  },
  {
   "cell_type": "code",
   "execution_count": null,
   "metadata": {},
   "outputs": [],
   "source": [
    "new_tuple = (1, 2, 3, 3, 4, 5, 5, 10, 1, 1)\n",
    "\n",
    "print(\"Distinct elements in tuple 'new_tuple': '\", set(new_tuple))\n",
    "\n",
    "for element in set(new_tuple):\n",
    "    print(f\"Element {element} appears in tuple : {new_tuple.count(element)}\")"
   ]
  },
  {
   "cell_type": "markdown",
   "metadata": {},
   "source": [
    "# Convert a list to tuple and vice versa"
   ]
  },
  {
   "cell_type": "code",
   "execution_count": null,
   "metadata": {},
   "outputs": [],
   "source": [
    "print(\"List : \",list(new_tuple))\n",
    "t_list = list(new_tuple)\n",
    "print(\"Tuple : \",tuple(t_list))"
   ]
  },
  {
   "cell_type": "markdown",
   "metadata": {},
   "source": [
    "# Demonstrate unpacking of elements in a tuple"
   ]
  },
  {
   "cell_type": "code",
   "execution_count": null,
   "metadata": {},
   "outputs": [],
   "source": [
    "person = (\"Prince\", \"Lad\", 19)\n",
    "\n",
    "(f_name, l_name, age) = person\n",
    "\n",
    "print(\"First name : \", f_name)\n",
    "print(\"Last name : \", l_name)\n",
    "print(\"Age : \", age)"
   ]
  }
 ],
 "metadata": {
  "kernelspec": {
   "display_name": ".conda",
   "language": "python",
   "name": "python3"
  },
  "language_info": {
   "codemirror_mode": {
    "name": "ipython",
    "version": 3
   },
   "file_extension": ".py",
   "mimetype": "text/x-python",
   "name": "python",
   "nbconvert_exporter": "python",
   "pygments_lexer": "ipython3",
   "version": "3.11.11"
  }
 },
 "nbformat": 4,
 "nbformat_minor": 4
}
