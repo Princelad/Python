{
 "cells": [
  {
   "cell_type": "markdown",
   "metadata": {},
   "source": [
    "## => Practical 2b"
   ]
  },
  {
   "cell_type": "markdown",
   "metadata": {},
   "source": [
    "* Create a list of integers, strings, and mixed data types."
   ]
  },
  {
   "cell_type": "code",
   "execution_count": 2,
   "metadata": {},
   "outputs": [
    {
     "name": "stdout",
     "output_type": "stream",
     "text": [
      "[1, 2, 3, 4, 5]\n",
      "['Hi', 'my', 'name', 'is', 'Prince']\n",
      "['My', 'age', 'is', 18]\n"
     ]
    }
   ],
   "source": [
    "data = [5, 3, 8, 3, 1, 9, 5, 2, 8, 7]\n",
    "\n",
    "integers = [1, 2, 3, 4, 5]\n",
    "strings = [\"Hi\", \"my\", \"name\", \"is\", \"Prince\"]\n",
    "mixed = [\"My\", \"age\", \"is\", 18]\n",
    "\n",
    "print(integers)\n",
    "print(strings)\n",
    "print(mixed)"
   ]
  },
  {
   "cell_type": "markdown",
   "metadata": {},
   "source": [
    "* Access elements using indices, perform slicing, and update list elements."
   ]
  },
  {
   "cell_type": "code",
   "execution_count": 3,
   "metadata": {},
   "outputs": [
    {
     "name": "stdout",
     "output_type": "stream",
     "text": [
      "5\n",
      "1\n",
      "7\n",
      "2\n",
      "[8, 3, 1]\n",
      "[100, 3, 8, 3, 1, 9, 5, 2, 8, 7]\n"
     ]
    }
   ],
   "source": [
    "print(data[0])\n",
    "print(data[4])\n",
    "print(data[-1])\n",
    "print(data[-3])\n",
    "\n",
    "print(data[2:5])\n",
    "\n",
    "data[0] = 100\n",
    "print(data)"
   ]
  },
  {
   "cell_type": "markdown",
   "metadata": {},
   "source": [
    "* Add and remove elements using append(), insert(), remove(), and pop() methods"
   ]
  },
  {
   "cell_type": "code",
   "execution_count": 4,
   "metadata": {},
   "outputs": [
    {
     "name": "stdout",
     "output_type": "stream",
     "text": [
      "[100, 3, 8, 3, 1, 9, 5, 2, 8, 7]\n",
      "[100, 3, 8, 3, 1, 9, 5, 2, 8, 7, 60]\n",
      "[100, 3, 8, 35, 3, 1, 9, 5, 2, 8, 7, 60]\n",
      "[100, 3, 8, 35, 3, 1, 9, 5, 2, 8, 60]\n",
      "[100, 3, 35, 3, 1, 9, 5, 2, 8, 60]\n"
     ]
    }
   ],
   "source": [
    "print(data)\n",
    "\n",
    "data.append(60)\n",
    "print(data)\n",
    "\n",
    "data.insert(3, 35)\n",
    "print(data)\n",
    "\n",
    "data.remove(7)\n",
    "print(data)\n",
    "\n",
    "data.pop(2)\n",
    "print(data)"
   ]
  },
  {
   "cell_type": "markdown",
   "metadata": {},
   "source": [
    "* Concatenate and repeat lists using operators."
   ]
  },
  {
   "cell_type": "code",
   "execution_count": 5,
   "metadata": {},
   "outputs": [
    {
     "name": "stdout",
     "output_type": "stream",
     "text": [
      "[100, 3, 35, 3, 1, 9, 5, 2, 8, 60, 100, 3, 35, 3, 1, 9, 5, 2, 8, 60]\n"
     ]
    }
   ],
   "source": [
    "data2 = data + data\n",
    "print(data2)"
   ]
  },
  {
   "cell_type": "markdown",
   "metadata": {},
   "source": [
    "* Create a list of squares of the first 10 natural numbers using list comprehension. "
   ]
  },
  {
   "cell_type": "code",
   "execution_count": 6,
   "metadata": {},
   "outputs": [
    {
     "name": "stdout",
     "output_type": "stream",
     "text": [
      "[1, 4, 9, 16, 25, 36, 49, 64, 81, 100]\n"
     ]
    }
   ],
   "source": [
    "square = [x**2 for x in range(1, 11)]\n",
    "print(square)"
   ]
  },
  {
   "cell_type": "markdown",
   "metadata": {},
   "source": [
    "* Filter even numbers from a list using list comprehension. "
   ]
  },
  {
   "cell_type": "code",
   "execution_count": 7,
   "metadata": {},
   "outputs": [
    {
     "name": "stdout",
     "output_type": "stream",
     "text": [
      "[2, 4, 6, 8, 10]\n"
     ]
    }
   ],
   "source": [
    "even = [x for x in range(1, 11) if x % 2 == 0]\n",
    "print(even)"
   ]
  },
  {
   "cell_type": "markdown",
   "metadata": {},
   "source": [
    "* Demonstrate sorting, reversing, and copying lists."
   ]
  },
  {
   "cell_type": "code",
   "execution_count": 8,
   "metadata": {},
   "outputs": [
    {
     "name": "stdout",
     "output_type": "stream",
     "text": [
      "[1, 2, 3, 3, 5, 8, 9, 35, 60, 100]\n",
      "[60, 8, 2, 5, 9, 1, 3, 35, 3, 100]\n",
      "[100, 3, 35, 3, 1, 9, 5, 2, 8, 60]\n"
     ]
    }
   ],
   "source": [
    "sort = data.copy()\n",
    "sort.sort()\n",
    "print(sort)\n",
    "\n",
    "rev = data.copy()\n",
    "rev.reverse()\n",
    "print(rev)\n",
    "\n",
    "copy = data.copy()\n",
    "print(copy)"
   ]
  },
  {
   "cell_type": "markdown",
   "metadata": {},
   "source": [
    "* Write a program to remove duplicates from a list."
   ]
  },
  {
   "cell_type": "code",
   "execution_count": 9,
   "metadata": {},
   "outputs": [
    {
     "name": "stdout",
     "output_type": "stream",
     "text": [
      "[1, 2, 35, 3, 100, 5, 8, 9, 60]\n"
     ]
    }
   ],
   "source": [
    "data = list(set(data))\n",
    "\n",
    "print(data)"
   ]
  }
 ],
 "metadata": {
  "kernelspec": {
   "display_name": ".venv",
   "language": "python",
   "name": "python3"
  },
  "language_info": {
   "codemirror_mode": {
    "name": "ipython",
    "version": 3
   },
   "file_extension": ".py",
   "mimetype": "text/x-python",
   "name": "python",
   "nbconvert_exporter": "python",
   "pygments_lexer": "ipython3",
   "version": "3.13.2"
  }
 },
 "nbformat": 4,
 "nbformat_minor": 2
}
