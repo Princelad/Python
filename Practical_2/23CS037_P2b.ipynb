{
 "cells": [
  {
   "cell_type": "markdown",
   "metadata": {},
   "source": [
    "# Practical 2b"
   ]
  },
  {
   "cell_type": "markdown",
   "metadata": {},
   "source": [
    "### * Create a list of integers, strings, and mixed data types."
   ]
  },
  {
   "cell_type": "code",
   "execution_count": null,
   "metadata": {},
   "outputs": [],
   "source": [
    "intergers = [1, 2, 3, 4, 5]\n",
    "strings = [\"Hi\", \"my\", \"name\", \"is\", \"Prince\"]\n",
    "mixed = [\"My\", \"age\", \"is\", 18]\n",
    "\n",
    "print(intergers)\n",
    "print(strings)\n",
    "print(mixed)"
   ]
  },
  {
   "cell_type": "markdown",
   "metadata": {},
   "source": [
    "### * Access elements using indices, perform slicing, and update list elements."
   ]
  },
  {
   "cell_type": "code",
   "execution_count": null,
   "metadata": {},
   "outputs": [],
   "source": [
    "data = [10, 20 ,30, 40, 50]\n",
    "\n",
    "print(data[0])\n",
    "print(data[4])\n",
    "print(data[-1])\n",
    "print(data[-3])\n",
    "\n",
    "print(data[2:5])\n",
    "\n",
    "data[0] = 100\n",
    "print(data)"
   ]
  },
  {
   "cell_type": "markdown",
   "metadata": {},
   "source": [
    "### * Add and remove elements using append(), insert(), remove(), and pop() methods"
   ]
  },
  {
   "cell_type": "code",
   "execution_count": 3,
   "metadata": {},
   "outputs": [
    {
     "name": "stdout",
     "output_type": "stream",
     "text": [
      "[10, 20, 30, 40, 50]\n",
      "[10, 20, 30, 40, 50, 60]\n",
      "[10, 20, 30, 35, 40, 50, 60]\n",
      "[10, 30, 35, 40, 50, 60]\n",
      "[10, 30, 40, 50, 60]\n"
     ]
    }
   ],
   "source": [
    "data = [10, 20 ,30, 40, 50]\n",
    "print(data)\n",
    "\n",
    "data.append(60)\n",
    "print(data)\n",
    "\n",
    "data.insert(3, 35)\n",
    "print(data)\n",
    "\n",
    "data.remove(20)\n",
    "print(data)\n",
    "\n",
    "data.pop(2)\n",
    "print(data)\n",
    "\n"
   ]
  },
  {
   "cell_type": "markdown",
   "metadata": {},
   "source": [
    "### * Concatenate and repeat lists using operators."
   ]
  },
  {
   "cell_type": "code",
   "execution_count": null,
   "metadata": {},
   "outputs": [],
   "source": [
    "data = [30, 10, 60, 40, 20, 50]\n",
    "\n",
    "data2 = data + data\n",
    "\n",
    "print(data2)"
   ]
  },
  {
   "cell_type": "markdown",
   "metadata": {},
   "source": [
    "### * Sqaure of first 10 numbers"
   ]
  },
  {
   "cell_type": "code",
   "execution_count": 4,
   "metadata": {},
   "outputs": [
    {
     "name": "stdout",
     "output_type": "stream",
     "text": [
      "[1, 4, 9, 16, 25, 36, 49, 64, 81, 100]\n"
     ]
    }
   ],
   "source": [
    "square = [x**2 for x in range(1, 11)]\n",
    "print(square)"
   ]
  },
  {
   "cell_type": "markdown",
   "metadata": {},
   "source": [
    "### * Filter even number"
   ]
  },
  {
   "cell_type": "code",
   "execution_count": 5,
   "metadata": {},
   "outputs": [
    {
     "name": "stdout",
     "output_type": "stream",
     "text": [
      "[2, 4, 6, 8, 10]\n"
     ]
    }
   ],
   "source": [
    "even = [x for x in range(1, 11) if x % 2 == 0]\n",
    "print(even)"
   ]
  },
  {
   "cell_type": "markdown",
   "metadata": {},
   "source": [
    "### * Demonstrate sorting, reversing, and copying lists."
   ]
  },
  {
   "cell_type": "code",
   "execution_count": 8,
   "metadata": {},
   "outputs": [
    {
     "name": "stdout",
     "output_type": "stream",
     "text": [
      "[10, 20, 30, 40, 50, 60]\n",
      "[50, 20, 40, 60, 10, 30]\n",
      "[30, 10, 60, 40, 20, 50]\n"
     ]
    }
   ],
   "source": [
    "data = [30, 10, 60, 40, 20, 50]\n",
    "\n",
    "sort = data.copy()\n",
    "sort.sort()\n",
    "print(sort)\n",
    "\n",
    "rev = data.copy()\n",
    "rev.reverse()\n",
    "print(rev)\n",
    "\n",
    "copy = data.copy()\n",
    "print(copy)"
   ]
  },
  {
   "cell_type": "markdown",
   "metadata": {},
   "source": [
    "### * Write a program to remove duplicates from a list."
   ]
  },
  {
   "cell_type": "code",
   "execution_count": 12,
   "metadata": {},
   "outputs": [
    {
     "name": "stdout",
     "output_type": "stream",
     "text": [
      "[40, 10, 20, 60, 30]\n"
     ]
    }
   ],
   "source": [
    "data = [30, 10, 60, 40, 20, 10, 20]\n",
    "\n",
    "data = list(set(data))\n",
    "\n",
    "print(data)"
   ]
  }
 ],
 "metadata": {
  "kernelspec": {
   "display_name": ".conda",
   "language": "python",
   "name": "python3"
  },
  "language_info": {
   "codemirror_mode": {
    "name": "ipython",
    "version": 3
   },
   "file_extension": ".py",
   "mimetype": "text/x-python",
   "name": "python",
   "nbconvert_exporter": "python",
   "pygments_lexer": "ipython3",
   "version": "3.11.11"
  }
 },
 "nbformat": 4,
 "nbformat_minor": 2
}
