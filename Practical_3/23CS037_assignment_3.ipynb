{
 "cells": [
  {
   "cell_type": "markdown",
   "metadata": {},
   "source": [
    "* Write a program to create a basic calculator with functions for addition, subtraction, multiplication, and division."
   ]
  },
  {
   "cell_type": "code",
   "execution_count": null,
   "metadata": {},
   "outputs": [],
   "source": [
    "print(\"Options :\")\n",
    "print(\"1. Addition\")\n",
    "print(\"2. Subtraction\")\n",
    "print(\"3. Multiplication\")\n",
    "print(\"4. Division\")\n",
    "option = int(input(\"Enter your choice : \"))\n",
    "\n",
    "num1 = int(input(\"Enter first number : \"))\n",
    "num2 = int(input(\"Enter second number : \"))\n",
    "\n",
    "match option:\n",
    "    case 1:\n",
    "        print(f\"Addition of {num1} and {num2} is {num1 + num2}\")\n",
    "    case 2:\n",
    "        print(f\"Subtraction of {num1} and {num2} is {num1 - num2}\")\n",
    "    case 3:\n",
    "        print(f\"Multiplication of {num1} and {num2} is {num1 * num2}\")\n",
    "    case 4:\n",
    "        print(f\"Division of {num1} and {num2} is {num1 / num2}\")"
   ]
  },
  {
   "cell_type": "markdown",
   "metadata": {},
   "source": [
    "* Write a recursive function to calculate the factorial of a number."
   ]
  },
  {
   "cell_type": "code",
   "execution_count": null,
   "metadata": {},
   "outputs": [],
   "source": [
    "def factorial(n):\n",
    "    return 1 if n == 0 else n * factorial(n - 1)\n",
    "\n",
    "\n",
    "num1 = int(input(\"Enter a number to find factorial : \"))\n",
    "print(f\"Factorial of {num1} is {factorial(num1)}\")"
   ]
  },
  {
   "cell_type": "markdown",
   "metadata": {},
   "source": [
    "* Write functions to perform various list operations such as finding the maximum, minimum, sum, and average of a list of numbers."
   ]
  },
  {
   "cell_type": "code",
   "execution_count": null,
   "metadata": {},
   "outputs": [],
   "source": [
    "def maximum(list):\n",
    "    return max(list)\n",
    "\n",
    "\n",
    "def minimum(list):\n",
    "    return min(list)\n",
    "\n",
    "\n",
    "def total(list):\n",
    "    return sum(list)\n",
    "\n",
    "\n",
    "def average(list):\n",
    "    return sum(list) / len(list)\n",
    "\n",
    "\n",
    "list = [int(x) for x in input(\"Enter numbers separated by space : \").split()]\n",
    "\n",
    "print(f\"Maximum number in the list is {maximum(list)}\")\n",
    "print(f\"Minimum number in the list is {minimum(list)}\")\n",
    "print(f\"Total of numbers in the list is {total(list)}\")\n",
    "print(f\"Average of numbers in the list is {average(list)}\")"
   ]
  },
  {
   "cell_type": "markdown",
   "metadata": {},
   "source": [
    "* Write a function that generates the Fibonacci sequence up to a given number of terms using a for loop."
   ]
  },
  {
   "cell_type": "code",
   "execution_count": null,
   "metadata": {},
   "outputs": [],
   "source": [
    "def fibonnaci(n):\n",
    "    num1 = 0\n",
    "    num2 = 1\n",
    "    for i in range(n):\n",
    "        print(num1, end=\" \")\n",
    "        num1, num2 = num2, num1 + num2\n",
    "\n",
    "\n",
    "num1 = int(input(\"Enter a number to find fibonnaci series : \"))\n",
    "fibonnaci(num1)"
   ]
  },
  {
   "cell_type": "markdown",
   "metadata": {},
   "source": [
    "* Write functions to add, update, and delete key-value pairs in a dictionary, merge two dictionaries, and display the dictionary contents using loops."
   ]
  },
  {
   "cell_type": "code",
   "execution_count": null,
   "metadata": {},
   "outputs": [],
   "source": [
    "def add_pair(key, value):\n",
    "    dict[key] = value\n",
    "\n",
    "\n",
    "def remove_pair(key):\n",
    "    del dict[key]\n",
    "\n",
    "\n",
    "def update_pair(key, value):\n",
    "    dict[key] = value\n",
    "\n",
    "\n",
    "def merge(dict, dict1):\n",
    "    dict.update(dict1)\n",
    "\n",
    "\n",
    "def display(dict):\n",
    "    for key, value in dict.items():\n",
    "        print(f\"{key} : {value}\")\n",
    "\n",
    "\n",
    "dict = {\n",
    "    \"Name\": \"John\",\n",
    "    \"Age\": 25\n",
    "}\n",
    "\n",
    "add_pair(\"City\", \"New York\")\n",
    "display(dict)\n",
    "\n",
    "remove_pair(\"Age\")\n",
    "display(dict)\n",
    "\n",
    "update_pair(\"Name\", \"Doe\")\n",
    "display(dict)\n",
    "\n",
    "dict1 = {\n",
    "    \"Country\": \"USA\"\n",
    "}\n",
    "merge(dict, dict1)\n",
    "display(dict)"
   ]
  },
  {
   "cell_type": "markdown",
   "metadata": {},
   "source": [
    "* Write a program to create a simple to-do list application that allows users to add, remove, and view tasks."
   ]
  },
  {
   "cell_type": "code",
   "execution_count": null,
   "metadata": {},
   "outputs": [],
   "source": [
    "option = 0\n",
    "while option != 4:\n",
    "    print(\"Options :\")\n",
    "    print(\"1. Add task\")\n",
    "    print(\"2. Remove task\")\n",
    "    print(\"3. Display tasks\")\n",
    "    print(\"4. Exit\")\n",
    "    option = int(input(\"Enter your choice : \"))\n",
    "\n",
    "    tasks = []\n",
    "\n",
    "    match option:\n",
    "        case 1:\n",
    "            task = input(\"Enter task : \")\n",
    "            tasks.append(task)\n",
    "        case 2:\n",
    "            task = input(\"Enter task to remove : \")\n",
    "            tasks.remove(task)\n",
    "        case 3:\n",
    "            for task in tasks:\n",
    "                print(task)"
   ]
  },
  {
   "cell_type": "markdown",
   "metadata": {},
   "source": [
    "* Write a program that accepts a list of numbers and returns a new list containing only the even numbers."
   ]
  },
  {
   "cell_type": "code",
   "execution_count": null,
   "metadata": {},
   "outputs": [],
   "source": [
    "def get_even_list(list):\n",
    "    return [x for x in list if x % 2 == 0]\n",
    "\n",
    "print(get_even_list([1, 2, 3, 4, 5, 6, 7, 8, 9, 10]))"
   ]
  },
  {
   "cell_type": "markdown",
   "metadata": {},
   "source": [
    "* Write a program that finds the largest and smallest numbers in a list without using built-in functions like max() and min()."
   ]
  },
  {
   "cell_type": "code",
   "execution_count": null,
   "metadata": {},
   "outputs": [],
   "source": [
    "def find_largest_smallest(numbers):\n",
    "    if not numbers:\n",
    "        return None, None\n",
    "\n",
    "    largest = smallest = numbers[0]\n",
    "\n",
    "    for number in numbers[1:]:\n",
    "        if number > largest:\n",
    "            largest = number\n",
    "        if number < smallest:\n",
    "            smallest = number\n",
    "\n",
    "    return largest, smallest\n",
    "\n",
    "numbers = [int(x) for x in input(\"Enter numbers separated by space: \").split()]\n",
    "largest, smallest = find_largest_smallest(numbers)\n",
    "print(f\"Largest number in the list is {largest}\")\n",
    "print(f\"Smallest number in the list is {smallest}\")"
   ]
  }
 ],
 "metadata": {
  "kernelspec": {
   "display_name": ".venv",
   "language": "python",
   "name": "python3"
  },
  "language_info": {
   "codemirror_mode": {
    "name": "ipython",
    "version": 3
   },
   "file_extension": ".py",
   "mimetype": "text/x-python",
   "name": "python",
   "nbconvert_exporter": "python",
   "pygments_lexer": "ipython3",
   "version": "3.13.1"
  }
 },
 "nbformat": 4,
 "nbformat_minor": 2
}
