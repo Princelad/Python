{
 "cells": [
  {
   "cell_type": "markdown",
   "metadata": {},
   "source": [
    "* Create a Student class with attributes for name, age, and grades, and methods to calculate the average grade and display student information."
   ]
  },
  {
   "cell_type": "code",
   "execution_count": 18,
   "metadata": {},
   "outputs": [
    {
     "name": "stdout",
     "output_type": "stream",
     "text": [
      "John is 20 years old and has an average score of 84.0.\n"
     ]
    }
   ],
   "source": [
    "class Student:\n",
    "    def __init__(self, name, age, score):\n",
    "        self.name = name\n",
    "        self.age = age\n",
    "        self.score = score\n",
    "\n",
    "    def average(self):\n",
    "        return sum(self.score)/len(self.score)\n",
    "\n",
    "    def __str__(self):\n",
    "        return f'{self.name} is {self.age} years old and has an average score of {self.average()}.'\n",
    "\n",
    "\n",
    "s1 = Student('John', 20, [80, 70, 90, 85, 95])\n",
    "print(s1)  # John is 20 years old and has an average score of 84.0."
   ]
  },
  {
   "cell_type": "markdown",
   "metadata": {},
   "source": [
    "* Create a BankAccount class with attributes for account number, balance, and account type, and methods to deposit, withdraw, and display account information"
   ]
  },
  {
   "cell_type": "code",
   "execution_count": 19,
   "metadata": {},
   "outputs": [
    {
     "name": "stdout",
     "output_type": "stream",
     "text": [
      "Account number: 123\n",
      "Account type: savings\n",
      "Balance: 600\n"
     ]
    }
   ],
   "source": [
    "class BankAccount:\n",
    "    def __init__(self, account_number, balance, account_type):\n",
    "        self.account_number = account_number\n",
    "        self.balance = balance\n",
    "        self.account_type = account_type\n",
    "\n",
    "    def deposit(self, amount):\n",
    "        self.balance += amount\n",
    "\n",
    "    def withdraw(self, amount):\n",
    "        self.balance -= amount\n",
    "\n",
    "    def __str__(self):\n",
    "        return f'Account number: {self.account_number}\\nAccount type: {self.account_type}\\nBalance: {self.balance}'\n",
    "\n",
    "\n",
    "b1 = BankAccount('123', 500, 'savings')\n",
    "b1.deposit(200)\n",
    "b1.withdraw(100)\n",
    "print(b1)\n",
    "# Account number: 123\n",
    "# Account type: savings\n",
    "# Balance: 600"
   ]
  },
  {
   "cell_type": "markdown",
   "metadata": {},
   "source": [
    "* Create a Person superclass with attributes for name and age, and a Student subclass that inherits from Person and adds an attribute for student ID and a method to display student information."
   ]
  },
  {
   "cell_type": "code",
   "execution_count": 20,
   "metadata": {},
   "outputs": [
    {
     "name": "stdout",
     "output_type": "stream",
     "text": [
      "John is 20 years old and has a student ID of 102.\n"
     ]
    }
   ],
   "source": [
    "class Person:\n",
    "    def __init__(self, name, age):\n",
    "        self.name = name\n",
    "        self.age = age\n",
    "\n",
    "    def __str__(self):\n",
    "        return f'{self.name} is {self.age} years old.'\n",
    "\n",
    "class Student1(Person):\n",
    "    def __init__(self, name, age, student_id):\n",
    "        super().__init__(name, age)\n",
    "        self.student_id = student_id\n",
    "        \n",
    "    def __str__(self):\n",
    "        return f'{self.name} is {self.age} years old and has a student ID of {self.student_id}.'\n",
    "    \n",
    "s1 = Student1('John', 20, '102')\n",
    "print(s1)  # John is 20 years old and has a student ID of 102.3"
   ]
  }
 ],
 "metadata": {
  "kernelspec": {
   "display_name": ".venv",
   "language": "python",
   "name": "python3"
  },
  "language_info": {
   "codemirror_mode": {
    "name": "ipython",
    "version": 3
   },
   "file_extension": ".py",
   "mimetype": "text/x-python",
   "name": "python",
   "nbconvert_exporter": "python",
   "pygments_lexer": "ipython3",
   "version": "3.13.2"
  }
 },
 "nbformat": 4,
 "nbformat_minor": 2
}
