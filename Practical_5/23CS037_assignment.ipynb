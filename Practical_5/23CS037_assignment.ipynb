{
 "cells": [
  {
   "cell_type": "markdown",
   "metadata": {},
   "source": [
    "* Create a Shape superclass with a method to calculate the area, and Circle and Rectangle subclasses that override the area calculation method to demonstrate polymorphism."
   ]
  },
  {
   "cell_type": "code",
   "execution_count": null,
   "metadata": {},
   "outputs": [],
   "source": [
    "from math import pi\n",
    "\n",
    "class Shape:\n",
    "    __area = None\n",
    "    \n",
    "    def area():\n",
    "        pass\n",
    "    \n",
    "    def get_area(self):\n",
    "        return self.__area\n",
    "    \n",
    "    def set_area(self, area):\n",
    "        self.__area = area\n",
    "    \n",
    "class Circle(Shape):\n",
    "    def area(self, radius):\n",
    "        self.set_area(pi * (radius ** 2))\n",
    "        \n",
    "class Rectangle(Shape):\n",
    "    def area(self, length, breadth):\n",
    "        self.set_area(length * breadth)\n",
    "        \n"
   ]
  },
  {
   "cell_type": "markdown",
   "metadata": {},
   "source": [
    "* Create a Book class with private attributes for title, author, and ISBN, and public getter and setter methods to access and modify these attributes, demonstrating encapsulation."
   ]
  },
  {
   "cell_type": "code",
   "execution_count": null,
   "metadata": {},
   "outputs": [],
   "source": [
    "class Book:\n",
    "    def __init__(self, title, author, isbn):\n",
    "        self.__title = title\n",
    "        self.__author = author\n",
    "        self.__isbn = isbn\n",
    "\n",
    "    def get_title(self):\n",
    "        return self.__title\n",
    "\n",
    "    def set_title(self, title):\n",
    "        self.__title = title\n",
    "\n",
    "    def get_author(self):\n",
    "        return self.__author\n",
    "\n",
    "    def set_author(self, author):\n",
    "        self.__author = author\n",
    "\n",
    "    def get_isbn(self):\n",
    "        return self.__isbn\n",
    "\n",
    "    def set_isbn(self, isbn):\n",
    "        self.__isbn = isbn\n",
    "\n",
    "# Example usage\n",
    "book = Book(\"1984\", \"George Orwell\", \"1234567890\")\n",
    "print(book.get_title())\n",
    "print(book.get_author())\n",
    "print(book.get_isbn())\n",
    "\n",
    "book.set_title(\"Animal Farm\")\n",
    "print(book.get_title())"
   ]
  }
 ],
 "metadata": {
  "kernelspec": {
   "display_name": ".venv",
   "language": "python",
   "name": "python3"
  },
  "language_info": {
   "name": "python",
   "version": "3.13.2"
  }
 },
 "nbformat": 4,
 "nbformat_minor": 2
}
