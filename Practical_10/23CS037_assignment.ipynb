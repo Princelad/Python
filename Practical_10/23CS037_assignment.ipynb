{
 "cells": [
  {
   "cell_type": "markdown",
   "metadata": {
    "_uuid": "bf7265d79ded8d1b32c6ac6cf2ba89d6eba96461"
   },
   "source": [
    "#### 1. Import the numpy package under the name `np` (★☆☆)"
   ]
  },
  {
   "cell_type": "code",
   "execution_count": 3,
   "metadata": {
    "_uuid": "1f42e0ab79d92a23b119e23ab8dda63393447466",
    "execution": {
     "iopub.execute_input": "2025-03-19T04:16:28.108947Z",
     "iopub.status.busy": "2025-03-19T04:16:28.108535Z",
     "iopub.status.idle": "2025-03-19T04:16:28.132126Z",
     "shell.execute_reply": "2025-03-19T04:16:28.131008Z",
     "shell.execute_reply.started": "2025-03-19T04:16:28.108870Z"
    },
    "trusted": true
   },
   "outputs": [],
   "source": [
    "# %pip install numpy\n",
    "import numpy as np"
   ]
  },
  {
   "cell_type": "markdown",
   "metadata": {
    "_uuid": "2a9c567c3500905ffd716f33d72f2ce455931c6b"
   },
   "source": [
    "#### 2. Print the numpy version and the configuration (★☆☆)"
   ]
  },
  {
   "cell_type": "code",
   "execution_count": 4,
   "metadata": {
    "_uuid": "f92ca9022729c7247a92da557f1898051c1bf21d",
    "execution": {
     "iopub.execute_input": "2025-03-19T04:16:28.133730Z",
     "iopub.status.busy": "2025-03-19T04:16:28.133493Z",
     "iopub.status.idle": "2025-03-19T04:16:28.140130Z",
     "shell.execute_reply": "2025-03-19T04:16:28.139089Z",
     "shell.execute_reply.started": "2025-03-19T04:16:28.133687Z"
    },
    "trusted": true
   },
   "outputs": [
    {
     "name": "stdout",
     "output_type": "stream",
     "text": [
      "2.2.4\n",
      "{\n",
      "  \"Compilers\": {\n",
      "    \"c\": {\n",
      "      \"name\": \"gcc\",\n",
      "      \"linker\": \"ld.bfd\",\n",
      "      \"version\": \"10.2.1\",\n",
      "      \"commands\": \"cc\"\n",
      "    },\n",
      "    \"cython\": {\n",
      "      \"name\": \"cython\",\n",
      "      \"linker\": \"cython\",\n",
      "      \"version\": \"3.0.12\",\n",
      "      \"commands\": \"cython\"\n",
      "    },\n",
      "    \"c++\": {\n",
      "      \"name\": \"gcc\",\n",
      "      \"linker\": \"ld.bfd\",\n",
      "      \"version\": \"10.2.1\",\n",
      "      \"commands\": \"c++\"\n",
      "    }\n",
      "  },\n",
      "  \"Machine Information\": {\n",
      "    \"host\": {\n",
      "      \"cpu\": \"x86_64\",\n",
      "      \"family\": \"x86_64\",\n",
      "      \"endian\": \"little\",\n",
      "      \"system\": \"linux\"\n",
      "    },\n",
      "    \"build\": {\n",
      "      \"cpu\": \"x86_64\",\n",
      "      \"family\": \"x86_64\",\n",
      "      \"endian\": \"little\",\n",
      "      \"system\": \"linux\"\n",
      "    }\n",
      "  },\n",
      "  \"Build Dependencies\": {\n",
      "    \"blas\": {\n",
      "      \"name\": \"scipy-openblas\",\n",
      "      \"found\": true,\n",
      "      \"version\": \"0.3.28\",\n",
      "      \"detection method\": \"pkgconfig\",\n",
      "      \"include directory\": \"/opt/_internal/cpython-3.13.0/lib/python3.13/site-packages/scipy_openblas64/include\",\n",
      "      \"lib directory\": \"/opt/_internal/cpython-3.13.0/lib/python3.13/site-packages/scipy_openblas64/lib\",\n",
      "      \"openblas configuration\": \"OpenBLAS 0.3.28  USE64BITINT DYNAMIC_ARCH NO_AFFINITY Haswell MAX_THREADS=64\",\n",
      "      \"pc file directory\": \"/project/.openblas\"\n",
      "    },\n",
      "    \"lapack\": {\n",
      "      \"name\": \"scipy-openblas\",\n",
      "      \"found\": true,\n",
      "      \"version\": \"0.3.28\",\n",
      "      \"detection method\": \"pkgconfig\",\n",
      "      \"include directory\": \"/opt/_internal/cpython-3.13.0/lib/python3.13/site-packages/scipy_openblas64/include\",\n",
      "      \"lib directory\": \"/opt/_internal/cpython-3.13.0/lib/python3.13/site-packages/scipy_openblas64/lib\",\n",
      "      \"openblas configuration\": \"OpenBLAS 0.3.28  USE64BITINT DYNAMIC_ARCH NO_AFFINITY Haswell MAX_THREADS=64\",\n",
      "      \"pc file directory\": \"/project/.openblas\"\n",
      "    }\n",
      "  },\n",
      "  \"Python Information\": {\n",
      "    \"path\": \"/tmp/build-env-cd9kfynb/bin/python\",\n",
      "    \"version\": \"3.13\"\n",
      "  },\n",
      "  \"SIMD Extensions\": {\n",
      "    \"baseline\": [\n",
      "      \"SSE\",\n",
      "      \"SSE2\",\n",
      "      \"SSE3\"\n",
      "    ],\n",
      "    \"found\": [\n",
      "      \"SSSE3\",\n",
      "      \"SSE41\",\n",
      "      \"POPCNT\",\n",
      "      \"SSE42\",\n",
      "      \"AVX\",\n",
      "      \"F16C\",\n",
      "      \"FMA3\",\n",
      "      \"AVX2\"\n",
      "    ],\n",
      "    \"not found\": [\n",
      "      \"AVX512F\",\n",
      "      \"AVX512CD\",\n",
      "      \"AVX512_KNL\",\n",
      "      \"AVX512_KNM\",\n",
      "      \"AVX512_SKX\",\n",
      "      \"AVX512_CLX\",\n",
      "      \"AVX512_CNL\",\n",
      "      \"AVX512_ICL\"\n",
      "    ]\n",
      "  }\n",
      "}\n"
     ]
    },
    {
     "name": "stderr",
     "output_type": "stream",
     "text": [
      "/home/plad/Documents/Python/.venv/lib64/python3.13/site-packages/numpy/__config__.py:155: UserWarning: Install `pyyaml` for better output\n",
      "  warnings.warn(\"Install `pyyaml` for better output\", stacklevel=1)\n"
     ]
    }
   ],
   "source": [
    "print(np.__version__)\n",
    "np.show_config()"
   ]
  },
  {
   "cell_type": "markdown",
   "metadata": {
    "_uuid": "77978f9afb5f957440f180861ccb06c2f644c317"
   },
   "source": [
    "#### 3. Create a null vector of size 10 (★☆☆)"
   ]
  },
  {
   "cell_type": "code",
   "execution_count": 5,
   "metadata": {
    "_uuid": "beeb301d90b0fd6cb0f015969c969870bee981e8",
    "execution": {
     "iopub.execute_input": "2025-03-19T04:16:28.142010Z",
     "iopub.status.busy": "2025-03-19T04:16:28.141658Z",
     "iopub.status.idle": "2025-03-19T04:16:28.157414Z",
     "shell.execute_reply": "2025-03-19T04:16:28.156509Z",
     "shell.execute_reply.started": "2025-03-19T04:16:28.141925Z"
    },
    "trusted": true
   },
   "outputs": [
    {
     "name": "stdout",
     "output_type": "stream",
     "text": [
      "[0. 0. 0. 0. 0. 0. 0. 0. 0. 0.]\n"
     ]
    }
   ],
   "source": [
    "Z = np.zeros(10)\n",
    "print(Z)"
   ]
  },
  {
   "cell_type": "markdown",
   "metadata": {
    "_uuid": "9f2912dbc92ebcc2e86ac09930187d5d101552da"
   },
   "source": [
    "#### 4.  How to find the memory size of any array (★☆☆)"
   ]
  },
  {
   "cell_type": "code",
   "execution_count": 6,
   "metadata": {
    "_uuid": "114a14936bde56cae519ed2f781f0b241251bdab",
    "execution": {
     "iopub.execute_input": "2025-03-19T04:16:28.159287Z",
     "iopub.status.busy": "2025-03-19T04:16:28.158933Z",
     "iopub.status.idle": "2025-03-19T04:16:28.173709Z",
     "shell.execute_reply": "2025-03-19T04:16:28.172611Z",
     "shell.execute_reply.started": "2025-03-19T04:16:28.159226Z"
    },
    "trusted": true
   },
   "outputs": [
    {
     "name": "stdout",
     "output_type": "stream",
     "text": [
      "800 bytes\n"
     ]
    }
   ],
   "source": [
    "Z = np.zeros((10,10))\n",
    "print(\"%d bytes\" % (Z.size * Z.itemsize))"
   ]
  },
  {
   "cell_type": "markdown",
   "metadata": {
    "_uuid": "61e755128e8631d194790854804d41362353f79d"
   },
   "source": [
    "#### 5.  How to get the documentation of the numpy add function from the command line? (★☆☆)"
   ]
  },
  {
   "cell_type": "code",
   "execution_count": 7,
   "metadata": {
    "_uuid": "aa773a98c7db3465372105c510a7627ae6dfee5d",
    "execution": {
     "iopub.execute_input": "2025-03-19T04:16:28.175614Z",
     "iopub.status.busy": "2025-03-19T04:16:28.175218Z",
     "iopub.status.idle": "2025-03-19T04:16:28.188237Z",
     "shell.execute_reply": "2025-03-19T04:16:28.187429Z",
     "shell.execute_reply.started": "2025-03-19T04:16:28.175542Z"
    },
    "trusted": true
   },
   "outputs": [
    {
     "name": "stdout",
     "output_type": "stream",
     "text": [
      "add(x1, x2, /, out=None, *, where=True, casting='same_kind', order='K', dtype=None, subok=True[, signature])\n",
      "\n",
      "Add arguments element-wise.\n",
      "\n",
      "Parameters\n",
      "----------\n",
      "x1, x2 : array_like\n",
      "    The arrays to be added.\n",
      "    If ``x1.shape != x2.shape``, they must be broadcastable to a common\n",
      "    shape (which becomes the shape of the output).\n",
      "out : ndarray, None, or tuple of ndarray and None, optional\n",
      "    A location into which the result is stored. If provided, it must have\n",
      "    a shape that the inputs broadcast to. If not provided or None,\n",
      "    a freshly-allocated array is returned. A tuple (possible only as a\n",
      "    keyword argument) must have length equal to the number of outputs.\n",
      "where : array_like, optional\n",
      "    This condition is broadcast over the input. At locations where the\n",
      "    condition is True, the `out` array will be set to the ufunc result.\n",
      "    Elsewhere, the `out` array will retain its original value.\n",
      "    Note that if an uninitialized `out` array is created via the default\n",
      "    ``out=None``, locations within it where the condition is False will\n",
      "    remain uninitialized.\n",
      "**kwargs\n",
      "    For other keyword-only arguments, see the\n",
      "    :ref:`ufunc docs <ufuncs.kwargs>`.\n",
      "\n",
      "Returns\n",
      "-------\n",
      "add : ndarray or scalar\n",
      "    The sum of `x1` and `x2`, element-wise.\n",
      "    This is a scalar if both `x1` and `x2` are scalars.\n",
      "\n",
      "Notes\n",
      "-----\n",
      "Equivalent to `x1` + `x2` in terms of array broadcasting.\n",
      "\n",
      "Examples\n",
      "--------\n",
      ">>> import numpy as np\n",
      ">>> np.add(1.0, 4.0)\n",
      "5.0\n",
      ">>> x1 = np.arange(9.0).reshape((3, 3))\n",
      ">>> x2 = np.arange(3.0)\n",
      ">>> np.add(x1, x2)\n",
      "array([[  0.,   2.,   4.],\n",
      "       [  3.,   5.,   7.],\n",
      "       [  6.,   8.,  10.]])\n",
      "\n",
      "The ``+`` operator can be used as a shorthand for ``np.add`` on ndarrays.\n",
      "\n",
      ">>> x1 = np.arange(9.0).reshape((3, 3))\n",
      ">>> x2 = np.arange(3.0)\n",
      ">>> x1 + x2\n",
      "array([[ 0.,  2.,  4.],\n",
      "       [ 3.,  5.,  7.],\n",
      "       [ 6.,  8., 10.]])\n"
     ]
    }
   ],
   "source": [
    "!python -c \"import numpy; numpy.info(numpy.add)\""
   ]
  },
  {
   "cell_type": "markdown",
   "metadata": {
    "_uuid": "c75ba6ea73f0a23f837c1553a0f564fbb8748557"
   },
   "source": [
    "#### 6.  Create a null vector of size 10 but the fifth value which is 1 (★☆☆)"
   ]
  },
  {
   "cell_type": "code",
   "execution_count": 8,
   "metadata": {
    "_uuid": "a916d1332f7e1d7499fd9de3bb422651711df025",
    "execution": {
     "iopub.execute_input": "2025-03-19T04:16:28.190342Z",
     "iopub.status.busy": "2025-03-19T04:16:28.189956Z",
     "iopub.status.idle": "2025-03-19T04:16:28.205310Z",
     "shell.execute_reply": "2025-03-19T04:16:28.204110Z",
     "shell.execute_reply.started": "2025-03-19T04:16:28.190273Z"
    },
    "trusted": true
   },
   "outputs": [
    {
     "name": "stdout",
     "output_type": "stream",
     "text": [
      "[0. 0. 0. 0. 1. 0. 0. 0. 0. 0.]\n"
     ]
    }
   ],
   "source": [
    "Z = np.zeros(10)\n",
    "Z[4] = 1\n",
    "print(Z)"
   ]
  },
  {
   "cell_type": "markdown",
   "metadata": {
    "_uuid": "118478fd9f22dc99584c1517078f1cdd4a4b36fc"
   },
   "source": [
    "#### 7.  Create a vector with values ranging from 10 to 49 (★☆☆)"
   ]
  },
  {
   "cell_type": "code",
   "execution_count": 9,
   "metadata": {
    "_uuid": "ac7cbc58129168a298298ae6d3a756a2a94c2a5d",
    "execution": {
     "iopub.execute_input": "2025-03-19T04:16:28.207129Z",
     "iopub.status.busy": "2025-03-19T04:16:28.206757Z",
     "iopub.status.idle": "2025-03-19T04:16:28.220227Z",
     "shell.execute_reply": "2025-03-19T04:16:28.219181Z",
     "shell.execute_reply.started": "2025-03-19T04:16:28.207011Z"
    },
    "trusted": true
   },
   "outputs": [
    {
     "name": "stdout",
     "output_type": "stream",
     "text": [
      "[10 11 12 13 14 15 16 17 18 19 20 21 22 23 24 25 26 27 28 29 30 31 32 33\n",
      " 34 35 36 37 38 39 40 41 42 43 44 45 46 47 48 49]\n"
     ]
    }
   ],
   "source": [
    "Z = np.arange(10,50)\n",
    "print(Z)"
   ]
  },
  {
   "cell_type": "markdown",
   "metadata": {
    "_uuid": "1c153cfc18b4c413b602d9fa073a4c049f1e703b"
   },
   "source": [
    "#### 8.  Reverse a vector (first element becomes last) (★☆☆)"
   ]
  },
  {
   "cell_type": "code",
   "execution_count": 10,
   "metadata": {
    "_uuid": "f1498235d2137116b1a7fabc6626dc8549235aba",
    "execution": {
     "iopub.execute_input": "2025-03-19T04:16:28.222421Z",
     "iopub.status.busy": "2025-03-19T04:16:28.222062Z",
     "iopub.status.idle": "2025-03-19T04:16:28.233897Z",
     "shell.execute_reply": "2025-03-19T04:16:28.232934Z",
     "shell.execute_reply.started": "2025-03-19T04:16:28.222351Z"
    },
    "trusted": true
   },
   "outputs": [
    {
     "name": "stdout",
     "output_type": "stream",
     "text": [
      "[49 48 47 46 45 44 43 42 41 40 39 38 37 36 35 34 33 32 31 30 29 28 27 26\n",
      " 25 24 23 22 21 20 19 18 17 16 15 14 13 12 11 10  9  8  7  6  5  4  3  2\n",
      "  1  0]\n"
     ]
    }
   ],
   "source": [
    "Z = np.arange(50)\n",
    "Z = Z[::-1]\n",
    "print(Z)"
   ]
  },
  {
   "cell_type": "markdown",
   "metadata": {
    "_uuid": "647011edcdd237ef4bfa0ec4ce3a108805bbd11f"
   },
   "source": [
    "#### 9.  Create a 3x3 matrix with values ranging from 0 to 8 (★☆☆)"
   ]
  },
  {
   "cell_type": "code",
   "execution_count": 11,
   "metadata": {
    "_uuid": "d6bf86992dbc3539332876b2caf973bafdb9a790",
    "execution": {
     "iopub.execute_input": "2025-03-19T04:16:28.235904Z",
     "iopub.status.busy": "2025-03-19T04:16:28.235649Z",
     "iopub.status.idle": "2025-03-19T04:16:28.250587Z",
     "shell.execute_reply": "2025-03-19T04:16:28.249506Z",
     "shell.execute_reply.started": "2025-03-19T04:16:28.235860Z"
    },
    "trusted": true
   },
   "outputs": [
    {
     "name": "stdout",
     "output_type": "stream",
     "text": [
      "[[0 1 2]\n",
      " [3 4 5]\n",
      " [6 7 8]]\n"
     ]
    }
   ],
   "source": [
    "Z = np.arange(9).reshape(3,3)\n",
    "print(Z)"
   ]
  },
  {
   "cell_type": "markdown",
   "metadata": {
    "_uuid": "c7d5733bee779737b5ad4250b257d0a1423ffbff"
   },
   "source": [
    "#### 10. Find indices of non-zero elements from \\[1,2,0,0,4,0\\] (★☆☆)"
   ]
  },
  {
   "cell_type": "code",
   "execution_count": 12,
   "metadata": {
    "_uuid": "e6e0544a4326eaf8f3ea6390a16422a9844d48fc",
    "execution": {
     "iopub.execute_input": "2025-03-19T04:16:28.252411Z",
     "iopub.status.busy": "2025-03-19T04:16:28.252061Z",
     "iopub.status.idle": "2025-03-19T04:16:28.266852Z",
     "shell.execute_reply": "2025-03-19T04:16:28.265885Z",
     "shell.execute_reply.started": "2025-03-19T04:16:28.252335Z"
    },
    "trusted": true
   },
   "outputs": [
    {
     "name": "stdout",
     "output_type": "stream",
     "text": [
      "(array([0, 1, 4]),)\n"
     ]
    }
   ],
   "source": [
    "nz = np.nonzero([1,2,0,0,4,0])\n",
    "print(nz)"
   ]
  },
  {
   "cell_type": "markdown",
   "metadata": {
    "_uuid": "ab5c1aaf0377ab923c6dbb7452671c181544734a"
   },
   "source": [
    "#### 11. Create a 3x3 identity matrix (★☆☆)"
   ]
  },
  {
   "cell_type": "code",
   "execution_count": 13,
   "metadata": {
    "_uuid": "0e10bd7b228cff4c485d80142fa5afcea12eb0e1",
    "execution": {
     "iopub.execute_input": "2025-03-19T04:16:28.268756Z",
     "iopub.status.busy": "2025-03-19T04:16:28.268389Z",
     "iopub.status.idle": "2025-03-19T04:16:28.282173Z",
     "shell.execute_reply": "2025-03-19T04:16:28.281033Z",
     "shell.execute_reply.started": "2025-03-19T04:16:28.268685Z"
    },
    "trusted": true
   },
   "outputs": [
    {
     "name": "stdout",
     "output_type": "stream",
     "text": [
      "[[1. 0. 0.]\n",
      " [0. 1. 0.]\n",
      " [0. 0. 1.]]\n"
     ]
    }
   ],
   "source": [
    "Z = np.eye(3)\n",
    "print(Z)"
   ]
  },
  {
   "cell_type": "markdown",
   "metadata": {
    "_uuid": "9c3d53fd277d07937bc04838c4ca57a0aaaec498"
   },
   "source": [
    "#### 12. Create a 3x3x3 array with random values (★☆☆)"
   ]
  },
  {
   "cell_type": "code",
   "execution_count": 14,
   "metadata": {
    "_uuid": "77840458ba47b330dd84bab7a119e85299856c57",
    "execution": {
     "iopub.execute_input": "2025-03-19T04:16:28.283900Z",
     "iopub.status.busy": "2025-03-19T04:16:28.283607Z",
     "iopub.status.idle": "2025-03-19T04:16:28.297874Z",
     "shell.execute_reply": "2025-03-19T04:16:28.296815Z",
     "shell.execute_reply.started": "2025-03-19T04:16:28.283840Z"
    },
    "trusted": true
   },
   "outputs": [
    {
     "name": "stdout",
     "output_type": "stream",
     "text": [
      "[[[0.5490309  0.3016272  0.94659257]\n",
      "  [0.72801815 0.35685293 0.87145153]\n",
      "  [0.16258977 0.77939507 0.3383464 ]]\n",
      "\n",
      " [[0.36991962 0.28161499 0.87193376]\n",
      "  [0.63674814 0.13919511 0.7805259 ]\n",
      "  [0.27513143 0.1999304  0.15447802]]\n",
      "\n",
      " [[0.2322942  0.31840748 0.26706811]\n",
      "  [0.96664108 0.28387496 0.17910836]\n",
      "  [0.34701543 0.63451461 0.07566836]]]\n"
     ]
    }
   ],
   "source": [
    "Z = np.random.random((3,3,3))\n",
    "print(Z)"
   ]
  },
  {
   "cell_type": "markdown",
   "metadata": {
    "_uuid": "886bef95cd1aa9af4133902b45b50127b5da54cb"
   },
   "source": [
    "#### 13. Create a 10x10 array with random values and find the minimum and maximum values (★☆☆)"
   ]
  },
  {
   "cell_type": "code",
   "execution_count": 15,
   "metadata": {
    "_uuid": "a8c13dc011c6afb824c3a7031330b6bd1a77e497",
    "execution": {
     "iopub.execute_input": "2025-03-19T04:16:28.299734Z",
     "iopub.status.busy": "2025-03-19T04:16:28.299473Z",
     "iopub.status.idle": "2025-03-19T04:16:28.314323Z",
     "shell.execute_reply": "2025-03-19T04:16:28.313160Z",
     "shell.execute_reply.started": "2025-03-19T04:16:28.299689Z"
    },
    "trusted": true
   },
   "outputs": [
    {
     "name": "stdout",
     "output_type": "stream",
     "text": [
      "0.009356405330525286 0.9851716368126455\n"
     ]
    }
   ],
   "source": [
    "Z = np.random.random((10,10))\n",
    "Zmin, Zmax = Z.min(), Z.max()\n",
    "print(Zmin, Zmax)"
   ]
  },
  {
   "cell_type": "markdown",
   "metadata": {
    "_uuid": "07db1e47dcff92113a6d4c696e92a5578b20d89f"
   },
   "source": [
    "#### 14. Create a random vector of size 30 and find the mean value (★☆☆)"
   ]
  },
  {
   "cell_type": "code",
   "execution_count": 16,
   "metadata": {
    "_uuid": "a6533f70b28d583e6e1926a0e3e668b465d6ef6c",
    "execution": {
     "iopub.execute_input": "2025-03-19T04:16:28.316113Z",
     "iopub.status.busy": "2025-03-19T04:16:28.315804Z",
     "iopub.status.idle": "2025-03-19T04:16:28.328751Z",
     "shell.execute_reply": "2025-03-19T04:16:28.327813Z",
     "shell.execute_reply.started": "2025-03-19T04:16:28.316059Z"
    },
    "trusted": true
   },
   "outputs": [
    {
     "name": "stdout",
     "output_type": "stream",
     "text": [
      "0.4760807256621079\n"
     ]
    }
   ],
   "source": [
    "Z = np.random.random(30)\n",
    "m = Z.mean()\n",
    "print(m)"
   ]
  },
  {
   "cell_type": "markdown",
   "metadata": {
    "_uuid": "2234dffb1dffc779d1d24f269da232a560848ad0"
   },
   "source": [
    "#### 15. Create a 2d array with 1 on the border and 0 inside (★☆☆)"
   ]
  },
  {
   "cell_type": "code",
   "execution_count": 17,
   "metadata": {
    "_uuid": "03bef7c11ab2593768ce88331a92c0c7cc10d463",
    "execution": {
     "iopub.execute_input": "2025-03-19T04:16:28.330587Z",
     "iopub.status.busy": "2025-03-19T04:16:28.330310Z",
     "iopub.status.idle": "2025-03-19T04:16:28.344155Z",
     "shell.execute_reply": "2025-03-19T04:16:28.343106Z",
     "shell.execute_reply.started": "2025-03-19T04:16:28.330537Z"
    },
    "trusted": true
   },
   "outputs": [
    {
     "name": "stdout",
     "output_type": "stream",
     "text": [
      "[[1. 1. 1. 1. 1. 1. 1. 1. 1. 1.]\n",
      " [1. 0. 0. 0. 0. 0. 0. 0. 0. 1.]\n",
      " [1. 0. 0. 0. 0. 0. 0. 0. 0. 1.]\n",
      " [1. 0. 0. 0. 0. 0. 0. 0. 0. 1.]\n",
      " [1. 0. 0. 0. 0. 0. 0. 0. 0. 1.]\n",
      " [1. 0. 0. 0. 0. 0. 0. 0. 0. 1.]\n",
      " [1. 0. 0. 0. 0. 0. 0. 0. 0. 1.]\n",
      " [1. 0. 0. 0. 0. 0. 0. 0. 0. 1.]\n",
      " [1. 0. 0. 0. 0. 0. 0. 0. 0. 1.]\n",
      " [1. 1. 1. 1. 1. 1. 1. 1. 1. 1.]]\n"
     ]
    }
   ],
   "source": [
    "Z = np.ones((10,10))\n",
    "Z[1:-1,1:-1] = 0\n",
    "print(Z)"
   ]
  },
  {
   "cell_type": "markdown",
   "metadata": {
    "_uuid": "6e24eff853c1ead319eba0adf0efdf31a58c6944"
   },
   "source": [
    "#### 16. How to add a border (filled with 0's) around an existing array? (★☆☆)"
   ]
  },
  {
   "cell_type": "code",
   "execution_count": 18,
   "metadata": {
    "_uuid": "573dd1238aef49fed4a9cfeb645c09119a307916",
    "execution": {
     "iopub.execute_input": "2025-03-19T04:16:28.345809Z",
     "iopub.status.busy": "2025-03-19T04:16:28.345501Z",
     "iopub.status.idle": "2025-03-19T04:16:28.359966Z",
     "shell.execute_reply": "2025-03-19T04:16:28.359101Z",
     "shell.execute_reply.started": "2025-03-19T04:16:28.345752Z"
    },
    "trusted": true
   },
   "outputs": [
    {
     "name": "stdout",
     "output_type": "stream",
     "text": [
      "[[0. 0. 0. 0. 0. 0. 0.]\n",
      " [0. 1. 1. 1. 1. 1. 0.]\n",
      " [0. 1. 1. 1. 1. 1. 0.]\n",
      " [0. 1. 1. 1. 1. 1. 0.]\n",
      " [0. 1. 1. 1. 1. 1. 0.]\n",
      " [0. 1. 1. 1. 1. 1. 0.]\n",
      " [0. 0. 0. 0. 0. 0. 0.]]\n"
     ]
    }
   ],
   "source": [
    "Z = np.ones((5,5))\n",
    "Z = np.pad(Z, pad_width=1, mode='constant', constant_values=0)\n",
    "print(Z)"
   ]
  },
  {
   "cell_type": "markdown",
   "metadata": {
    "_uuid": "1f657aee797f18a40aa7a5e98362719bc73ebdee"
   },
   "source": [
    "#### 17. What is the result of the following expression? (★☆☆)"
   ]
  },
  {
   "cell_type": "code",
   "execution_count": 19,
   "metadata": {
    "_uuid": "5bd51740ffe0b687da93acf403807897292ebbc5",
    "execution": {
     "iopub.execute_input": "2025-03-19T04:16:28.361420Z",
     "iopub.status.busy": "2025-03-19T04:16:28.361147Z",
     "iopub.status.idle": "2025-03-19T04:16:28.372550Z",
     "shell.execute_reply": "2025-03-19T04:16:28.371589Z",
     "shell.execute_reply.started": "2025-03-19T04:16:28.361373Z"
    },
    "trusted": true
   },
   "outputs": [
    {
     "name": "stdout",
     "output_type": "stream",
     "text": [
      "nan\n",
      "False\n",
      "False\n",
      "nan\n",
      "True\n",
      "False\n"
     ]
    }
   ],
   "source": [
    "print(0 * np.nan)\n",
    "print(np.nan == np.nan)\n",
    "print(np.inf > np.nan)\n",
    "print(np.nan - np.nan)\n",
    "print(np.nan in set([np.nan]))\n",
    "print(0.3 == 3 * 0.1)"
   ]
  },
  {
   "cell_type": "markdown",
   "metadata": {
    "_uuid": "e22023622e0ec70b97ca378772dae42cff45d73c"
   },
   "source": [
    "#### 18. Create a 5x5 matrix with values 1,2,3,4 just below the diagonal (★☆☆)"
   ]
  },
  {
   "cell_type": "code",
   "execution_count": 20,
   "metadata": {
    "_uuid": "f1aaa690119ec31eb516c96023250ff10f2800be",
    "execution": {
     "iopub.execute_input": "2025-03-19T04:16:28.374303Z",
     "iopub.status.busy": "2025-03-19T04:16:28.373964Z",
     "iopub.status.idle": "2025-03-19T04:16:28.384620Z",
     "shell.execute_reply": "2025-03-19T04:16:28.383552Z",
     "shell.execute_reply.started": "2025-03-19T04:16:28.374230Z"
    },
    "trusted": true
   },
   "outputs": [
    {
     "name": "stdout",
     "output_type": "stream",
     "text": [
      "[[0 0 0 0 0]\n",
      " [1 0 0 0 0]\n",
      " [0 2 0 0 0]\n",
      " [0 0 3 0 0]\n",
      " [0 0 0 4 0]]\n"
     ]
    }
   ],
   "source": [
    "Z = np.diag(1+np.arange(4),k=-1)\n",
    "print(Z)"
   ]
  },
  {
   "cell_type": "markdown",
   "metadata": {
    "_uuid": "2e1e85761e1eafa4cd8986a3aa28763f2b8197e2"
   },
   "source": [
    "#### 19. Create a 8x8 matrix and fill it with a checkerboard pattern (★☆☆)"
   ]
  },
  {
   "cell_type": "code",
   "execution_count": 21,
   "metadata": {
    "_uuid": "467504e8796a218a3faa0a787775d8aa577f4c32",
    "execution": {
     "iopub.execute_input": "2025-03-19T04:16:28.386033Z",
     "iopub.status.busy": "2025-03-19T04:16:28.385773Z",
     "iopub.status.idle": "2025-03-19T04:16:28.397910Z",
     "shell.execute_reply": "2025-03-19T04:16:28.397018Z",
     "shell.execute_reply.started": "2025-03-19T04:16:28.385964Z"
    },
    "trusted": true
   },
   "outputs": [
    {
     "name": "stdout",
     "output_type": "stream",
     "text": [
      "[[0 1 0 1 0 1 0 1]\n",
      " [1 0 1 0 1 0 1 0]\n",
      " [0 1 0 1 0 1 0 1]\n",
      " [1 0 1 0 1 0 1 0]\n",
      " [0 1 0 1 0 1 0 1]\n",
      " [1 0 1 0 1 0 1 0]\n",
      " [0 1 0 1 0 1 0 1]\n",
      " [1 0 1 0 1 0 1 0]]\n"
     ]
    }
   ],
   "source": [
    "Z = np.zeros((8,8),dtype=int)\n",
    "Z[1::2,::2] = 1\n",
    "Z[::2,1::2] = 1\n",
    "print(Z)"
   ]
  },
  {
   "cell_type": "markdown",
   "metadata": {
    "_uuid": "87e644b2696a16879dcf96b35b17a48db550cd04"
   },
   "source": [
    "#### 20. Consider a (6,7,8) shape array, what is the index (x,y,z) of the 100th element?"
   ]
  },
  {
   "cell_type": "code",
   "execution_count": 22,
   "metadata": {
    "_uuid": "eabdb2c5e23366c763f0cc39939ee68866c3f111",
    "execution": {
     "iopub.execute_input": "2025-03-19T04:16:28.399527Z",
     "iopub.status.busy": "2025-03-19T04:16:28.399258Z",
     "iopub.status.idle": "2025-03-19T04:16:28.413309Z",
     "shell.execute_reply": "2025-03-19T04:16:28.412164Z",
     "shell.execute_reply.started": "2025-03-19T04:16:28.399473Z"
    },
    "trusted": true
   },
   "outputs": [
    {
     "name": "stdout",
     "output_type": "stream",
     "text": [
      "(np.int64(1), np.int64(5), np.int64(4))\n"
     ]
    }
   ],
   "source": [
    "print(np.unravel_index(100,(6,7,8)))"
   ]
  },
  {
   "cell_type": "markdown",
   "metadata": {
    "_uuid": "13a635e9f2af055ba88eb102eeb4d8025570a93d"
   },
   "source": [
    "#### 21. Create a checkerboard 8x8 matrix using the tile function (★☆☆)"
   ]
  },
  {
   "cell_type": "code",
   "execution_count": 23,
   "metadata": {
    "_uuid": "ba1c748cbe8cf6a2cf8840b07c95cc9d17f1a596",
    "execution": {
     "iopub.execute_input": "2025-03-19T04:16:28.415456Z",
     "iopub.status.busy": "2025-03-19T04:16:28.415180Z",
     "iopub.status.idle": "2025-03-19T04:16:28.429468Z",
     "shell.execute_reply": "2025-03-19T04:16:28.428143Z",
     "shell.execute_reply.started": "2025-03-19T04:16:28.415410Z"
    },
    "trusted": true
   },
   "outputs": [
    {
     "name": "stdout",
     "output_type": "stream",
     "text": [
      "[[0 1 0 1 0 1 0 1]\n",
      " [1 0 1 0 1 0 1 0]\n",
      " [0 1 0 1 0 1 0 1]\n",
      " [1 0 1 0 1 0 1 0]\n",
      " [0 1 0 1 0 1 0 1]\n",
      " [1 0 1 0 1 0 1 0]\n",
      " [0 1 0 1 0 1 0 1]\n",
      " [1 0 1 0 1 0 1 0]]\n"
     ]
    }
   ],
   "source": [
    "Z = np.tile( np.array([[0,1],[1,0]]), (4,4))\n",
    "print(Z)"
   ]
  },
  {
   "cell_type": "markdown",
   "metadata": {
    "_uuid": "87fb9e8995db8ee27d3c209c840f3f2c6acb9bc5"
   },
   "source": [
    "#### 22. Normalize a 5x5 random matrix (★☆☆)"
   ]
  },
  {
   "cell_type": "code",
   "execution_count": 24,
   "metadata": {
    "_uuid": "70b01b18cef5e31ffcc4c0219859e607e7a6d998",
    "execution": {
     "iopub.execute_input": "2025-03-19T04:16:28.431053Z",
     "iopub.status.busy": "2025-03-19T04:16:28.430737Z",
     "iopub.status.idle": "2025-03-19T04:16:28.445801Z",
     "shell.execute_reply": "2025-03-19T04:16:28.444827Z",
     "shell.execute_reply.started": "2025-03-19T04:16:28.430958Z"
    },
    "trusted": true
   },
   "outputs": [
    {
     "name": "stdout",
     "output_type": "stream",
     "text": [
      "[[-0.10714458  0.29233443  1.78279264 -1.30292193  0.70070602]\n",
      " [ 0.8753006  -0.98273302 -0.96558573 -1.35259914  0.01022897]\n",
      " [-0.97405097 -0.79554969 -1.42876201  0.45629526 -0.21553775]\n",
      " [ 1.27640628 -0.77177147  0.79026726 -1.20788823  1.06301439]\n",
      " [-0.55728021  1.04866081 -0.18215012  1.99393497  0.55403321]]\n"
     ]
    }
   ],
   "source": [
    "Z = np.random.random((5,5))\n",
    "Z = (Z - np.mean (Z)) / (np.std (Z))\n",
    "print(Z)"
   ]
  },
  {
   "cell_type": "markdown",
   "metadata": {
    "_uuid": "a86da96f18b0eef155a85b49e36aaa51b2403a61"
   },
   "source": [
    "#### 23. Create a custom dtype that describes a color as four unsigned bytes (RGBA) (★☆☆)"
   ]
  },
  {
   "cell_type": "code",
   "execution_count": 25,
   "metadata": {
    "_uuid": "30ac92f0e3667aacb75ec6fba40c34bcfec9529e",
    "execution": {
     "iopub.execute_input": "2025-03-19T04:16:28.447402Z",
     "iopub.status.busy": "2025-03-19T04:16:28.447109Z",
     "iopub.status.idle": "2025-03-19T04:16:28.459510Z",
     "shell.execute_reply": "2025-03-19T04:16:28.458336Z",
     "shell.execute_reply.started": "2025-03-19T04:16:28.447346Z"
    },
    "trusted": true
   },
   "outputs": [],
   "source": [
    "color = np.dtype([(\"r\", np.ubyte, 1),\n",
    "                  (\"g\", np.ubyte, 1),\n",
    "                  (\"b\", np.ubyte, 1),\n",
    "                  (\"a\", np.ubyte, 1)])"
   ]
  },
  {
   "cell_type": "markdown",
   "metadata": {
    "_uuid": "659926bf5bf80842361a658fd0f84bf24084fbf3"
   },
   "source": [
    "#### 24. Multiply a 5x3 matrix by a 3x2 matrix (real matrix product) (★☆☆)"
   ]
  },
  {
   "cell_type": "code",
   "execution_count": 26,
   "metadata": {
    "_uuid": "8be73ba1bd9778d487ac20ef5658c7b8e57c3d67",
    "execution": {
     "iopub.execute_input": "2025-03-19T04:16:28.461495Z",
     "iopub.status.busy": "2025-03-19T04:16:28.461123Z",
     "iopub.status.idle": "2025-03-19T04:16:28.486123Z",
     "shell.execute_reply": "2025-03-19T04:16:28.484850Z",
     "shell.execute_reply.started": "2025-03-19T04:16:28.461427Z"
    },
    "trusted": true
   },
   "outputs": [
    {
     "name": "stdout",
     "output_type": "stream",
     "text": [
      "[[3. 3.]\n",
      " [3. 3.]\n",
      " [3. 3.]\n",
      " [3. 3.]\n",
      " [3. 3.]]\n"
     ]
    }
   ],
   "source": [
    "Z = np.dot(np.ones((5,3)), np.ones((3,2)))\n",
    "print(Z)\n",
    "\n",
    "# Alternative solution, in Python 3.5 and above\n",
    "Z = np.ones((5,3)) @ np.ones((3,2))"
   ]
  },
  {
   "cell_type": "markdown",
   "metadata": {
    "_uuid": "0a65567844ac53a18dbb387a8694da2b1c78294a"
   },
   "source": [
    "#### 25. Given a 1D array, negate all elements which are between 3 and 8, in place. (★☆☆)"
   ]
  },
  {
   "cell_type": "code",
   "execution_count": 27,
   "metadata": {
    "_uuid": "d48512adb16f06371f651dd8dc1ae9ea1c3586b1",
    "execution": {
     "iopub.execute_input": "2025-03-19T04:16:28.487666Z",
     "iopub.status.busy": "2025-03-19T04:16:28.487417Z",
     "iopub.status.idle": "2025-03-19T04:16:28.492691Z",
     "shell.execute_reply": "2025-03-19T04:16:28.491612Z",
     "shell.execute_reply.started": "2025-03-19T04:16:28.487621Z"
    },
    "trusted": true
   },
   "outputs": [
    {
     "name": "stdout",
     "output_type": "stream",
     "text": [
      "[ 0  1  2  3 -4 -5 -6 -7 -8  9 10]\n"
     ]
    }
   ],
   "source": [
    "# Author: Evgeni Burovski\n",
    "\n",
    "Z = np.arange(11)\n",
    "Z[(3 < Z) & (Z <= 8)] *= -1\n",
    "print(Z)"
   ]
  },
  {
   "cell_type": "markdown",
   "metadata": {
    "_uuid": "dad4e194cbf30833bbc7dba6714e300239088610"
   },
   "source": [
    "#### 26. What is the output of the following script? (★☆☆)"
   ]
  },
  {
   "cell_type": "code",
   "execution_count": 28,
   "metadata": {
    "_uuid": "094e225f24cf70ad8c7caeb1dcbd6788e5af562a",
    "execution": {
     "iopub.execute_input": "2025-03-19T04:16:28.494464Z",
     "iopub.status.busy": "2025-03-19T04:16:28.494126Z",
     "iopub.status.idle": "2025-03-19T04:16:28.507367Z",
     "shell.execute_reply": "2025-03-19T04:16:28.506013Z",
     "shell.execute_reply.started": "2025-03-19T04:16:28.494400Z"
    },
    "trusted": true
   },
   "outputs": [
    {
     "name": "stdout",
     "output_type": "stream",
     "text": [
      "9\n",
      "10\n"
     ]
    }
   ],
   "source": [
    "# Author: Jake VanderPlas\n",
    "\n",
    "print(sum(range(5),-1))\n",
    "from numpy import *\n",
    "print(sum(range(5),-1))"
   ]
  },
  {
   "cell_type": "markdown",
   "metadata": {
    "_uuid": "c13814936adf93d11212e3e85e67a37e48b1fd72"
   },
   "source": [
    "#### 27. Consider an integer vector Z, which of these expressions are legal? (★☆☆)"
   ]
  },
  {
   "cell_type": "code",
   "execution_count": 29,
   "metadata": {
    "_uuid": "2d41e8fd1c2a4970ea55fcf50524a01e083d7f01",
    "execution": {
     "iopub.execute_input": "2025-03-19T04:16:28.508967Z",
     "iopub.status.busy": "2025-03-19T04:16:28.508673Z",
     "iopub.status.idle": "2025-03-19T04:16:28.906929Z",
     "shell.execute_reply": "2025-03-19T04:16:28.725756Z",
     "shell.execute_reply.started": "2025-03-19T04:16:28.508919Z"
    },
    "trusted": true
   },
   "outputs": [
    {
     "ename": "ValueError",
     "evalue": "Integers to negative integer powers are not allowed.",
     "output_type": "error",
     "traceback": [
      "\u001b[31m---------------------------------------------------------------------------\u001b[39m",
      "\u001b[31mValueError\u001b[39m                                Traceback (most recent call last)",
      "\u001b[36mCell\u001b[39m\u001b[36m \u001b[39m\u001b[32mIn[29]\u001b[39m\u001b[32m, line 1\u001b[39m\n\u001b[32m----> \u001b[39m\u001b[32m1\u001b[39m \u001b[43mZ\u001b[49m\u001b[43m*\u001b[49m\u001b[43m*\u001b[49m\u001b[43mZ\u001b[49m\n\u001b[32m      2\u001b[39m \u001b[32m2\u001b[39m << Z >> \u001b[32m2\u001b[39m\n\u001b[32m      3\u001b[39m Z <- Z\n",
      "\u001b[31mValueError\u001b[39m: Integers to negative integer powers are not allowed."
     ]
    }
   ],
   "source": [
    "Z**Z\n",
    "2 << Z >> 2\n",
    "Z <- Z\n",
    "1j*Z\n",
    "Z/1/1\n",
    "Z<Z>Z"
   ]
  },
  {
   "cell_type": "markdown",
   "metadata": {
    "_uuid": "87cfa6cec4f5f3efa4d92b7d01be3e15e92eb8d9"
   },
   "source": [
    "#### 28. What are the result of the following expressions?"
   ]
  },
  {
   "cell_type": "code",
   "execution_count": null,
   "metadata": {
    "_uuid": "8b9ea83b2b3a14de49b957a490ded427b2fdf473",
    "execution": {
     "iopub.status.busy": "2025-03-19T04:16:28.726742Z",
     "iopub.status.idle": "2025-03-19T04:16:28.727390Z",
     "shell.execute_reply": "2025-03-19T04:16:28.727088Z"
    },
    "trusted": true
   },
   "outputs": [
    {
     "name": "stdout",
     "output_type": "stream",
     "text": [
      "nan\n",
      "0\n",
      "[-9.22337204e+18]\n"
     ]
    },
    {
     "name": "stderr",
     "output_type": "stream",
     "text": [
      "/tmp/ipykernel_14573/3912170336.py:1: RuntimeWarning: invalid value encountered in divide\n",
      "  print(np.array(0) / np.array(0))\n",
      "/tmp/ipykernel_14573/3912170336.py:2: RuntimeWarning: divide by zero encountered in floor_divide\n",
      "  print(np.array(0) // np.array(0))\n",
      "/tmp/ipykernel_14573/3912170336.py:3: RuntimeWarning: invalid value encountered in cast\n",
      "  print(np.array([np.nan]).astype(int).astype(float))\n"
     ]
    }
   ],
   "source": [
    "print(np.array(0) / np.array(0))\n",
    "print(np.array(0) // np.array(0))\n",
    "print(np.array([np.nan]).astype(int).astype(float))"
   ]
  },
  {
   "cell_type": "markdown",
   "metadata": {
    "_uuid": "748fc33413222da461b2aac2a9fcabff3e18e057"
   },
   "source": [
    "#### 29. How to round away from zero a float array ? (★☆☆)"
   ]
  },
  {
   "cell_type": "code",
   "execution_count": null,
   "metadata": {
    "_uuid": "b9e1b1bef8f15c72cc7ce5e2ce14def4a98ed41c",
    "execution": {
     "iopub.status.busy": "2025-03-19T04:16:28.728449Z",
     "iopub.status.idle": "2025-03-19T04:16:28.729033Z",
     "shell.execute_reply": "2025-03-19T04:16:28.728701Z"
    },
    "trusted": true
   },
   "outputs": [
    {
     "name": "stdout",
     "output_type": "stream",
     "text": [
      "[ 9.  8.  9.  2.  8.  9.  8. -4. -8. -5.]\n"
     ]
    }
   ],
   "source": [
    "# Author: Charles R Harris\n",
    "\n",
    "Z = np.random.uniform(-10,+10,10)\n",
    "print (np.copysign(np.ceil(np.abs(Z)), Z))"
   ]
  },
  {
   "cell_type": "markdown",
   "metadata": {
    "_uuid": "e49ca0d2249b4a5cf25b264e42c6feb3057889ed"
   },
   "source": [
    "#### 30. How to find common values between two arrays? (★☆☆)"
   ]
  },
  {
   "cell_type": "code",
   "execution_count": null,
   "metadata": {
    "_uuid": "b7a1b2802e4c4a2ac5baf737e2065c55bef226b6",
    "execution": {
     "iopub.status.busy": "2025-03-19T04:16:28.729905Z",
     "iopub.status.idle": "2025-03-19T04:16:28.730494Z",
     "shell.execute_reply": "2025-03-19T04:16:28.730168Z"
    },
    "trusted": true
   },
   "outputs": [
    {
     "name": "stdout",
     "output_type": "stream",
     "text": [
      "[0 3 6]\n"
     ]
    }
   ],
   "source": [
    "Z1 = np.random.randint(0,10,10)\n",
    "Z2 = np.random.randint(0,10,10)\n",
    "print(np.intersect1d(Z1,Z2))"
   ]
  },
  {
   "cell_type": "markdown",
   "metadata": {
    "_uuid": "18843482db38cbb4ca8de77cb7c7e787acd5fa20"
   },
   "source": [
    "#### 31. How to ignore all numpy warnings (not recommended)? (★☆☆)"
   ]
  },
  {
   "cell_type": "code",
   "execution_count": null,
   "metadata": {
    "_uuid": "c71bd60875133429395886e0b8e3bfa343d40b42",
    "execution": {
     "iopub.status.busy": "2025-03-19T04:16:28.731720Z",
     "iopub.status.idle": "2025-03-19T04:16:28.732283Z",
     "shell.execute_reply": "2025-03-19T04:16:28.731962Z"
    },
    "trusted": true
   },
   "outputs": [],
   "source": [
    "# Suicide mode on\n",
    "defaults = np.seterr(all=\"ignore\")\n",
    "Z = np.ones(1) / 0\n",
    "\n",
    "# Back to sanity\n",
    "_ = np.seterr(**defaults)\n",
    "\n",
    "# An equivalent way, with a context manager:\n",
    "\n",
    "with np.errstate(divide='ignore'):\n",
    "    Z = np.ones(1) / 0"
   ]
  },
  {
   "cell_type": "markdown",
   "metadata": {
    "_uuid": "dcb0cd567860239870f01fd07f5afa59961b6b89"
   },
   "source": [
    "#### 32. Is the following expressions true? (★☆☆)"
   ]
  },
  {
   "cell_type": "code",
   "execution_count": null,
   "metadata": {
    "_uuid": "e494de30ea8f90e4263b3c3de452105d762a2996",
    "execution": {
     "iopub.status.busy": "2025-03-19T04:16:28.733109Z",
     "iopub.status.idle": "2025-03-19T04:16:28.733680Z",
     "shell.execute_reply": "2025-03-19T04:16:28.733362Z"
    },
    "trusted": true
   },
   "outputs": [
    {
     "name": "stderr",
     "output_type": "stream",
     "text": [
      "/tmp/ipykernel_14573/244602691.py:1: RuntimeWarning: invalid value encountered in sqrt\n",
      "  np.sqrt(-1) == np.emath.sqrt(-1)\n"
     ]
    },
    {
     "data": {
      "text/plain": [
       "np.False_"
      ]
     },
     "execution_count": 10,
     "metadata": {},
     "output_type": "execute_result"
    }
   ],
   "source": [
    "np.sqrt(-1) == np.emath.sqrt(-1)"
   ]
  },
  {
   "cell_type": "markdown",
   "metadata": {
    "_uuid": "68d59ad2323d4ede5a110e8d9650aab01eb5174d"
   },
   "source": [
    "#### 33. How to get the dates of yesterday, today and tomorrow? (★☆☆)"
   ]
  },
  {
   "cell_type": "code",
   "execution_count": null,
   "metadata": {
    "_uuid": "1525d48cd65e2639eeb08299708319a07e6b80de",
    "execution": {
     "iopub.status.busy": "2025-03-19T04:16:28.734875Z",
     "iopub.status.idle": "2025-03-19T04:16:28.735579Z",
     "shell.execute_reply": "2025-03-19T04:16:28.735221Z"
    },
    "trusted": true
   },
   "outputs": [],
   "source": [
    "yesterday = np.datetime64('today', 'D') - np.timedelta64(1, 'D')\n",
    "today     = np.datetime64('today', 'D')\n",
    "tomorrow  = np.datetime64('today', 'D') + np.timedelta64(1, 'D')"
   ]
  },
  {
   "cell_type": "markdown",
   "metadata": {
    "_uuid": "d8e6dcb1cf0ae2d7c4fc08a657a186df0f4f171f"
   },
   "source": [
    "#### 34. How to get all the dates corresponding to the month of July 2016? (★★☆)"
   ]
  },
  {
   "cell_type": "code",
   "execution_count": null,
   "metadata": {
    "_uuid": "f5f3000257839f44772b54320bd185b8046ed0e2",
    "execution": {
     "iopub.status.busy": "2025-03-19T04:16:28.736366Z",
     "iopub.status.idle": "2025-03-19T04:16:28.736948Z",
     "shell.execute_reply": "2025-03-19T04:16:28.736594Z"
    },
    "trusted": true
   },
   "outputs": [
    {
     "name": "stdout",
     "output_type": "stream",
     "text": [
      "['2016-07-01' '2016-07-02' '2016-07-03' '2016-07-04' '2016-07-05'\n",
      " '2016-07-06' '2016-07-07' '2016-07-08' '2016-07-09' '2016-07-10'\n",
      " '2016-07-11' '2016-07-12' '2016-07-13' '2016-07-14' '2016-07-15'\n",
      " '2016-07-16' '2016-07-17' '2016-07-18' '2016-07-19' '2016-07-20'\n",
      " '2016-07-21' '2016-07-22' '2016-07-23' '2016-07-24' '2016-07-25'\n",
      " '2016-07-26' '2016-07-27' '2016-07-28' '2016-07-29' '2016-07-30'\n",
      " '2016-07-31']\n"
     ]
    }
   ],
   "source": [
    "Z = np.arange('2016-07', '2016-08', dtype='datetime64[D]')\n",
    "print(Z)"
   ]
  },
  {
   "cell_type": "markdown",
   "metadata": {
    "_uuid": "9e2512ad8b29d3599cababc7009febce91929869"
   },
   "source": [
    "#### 35. How to compute ((A+B)\\*(-A/2)) in place (without copy)? (★★☆)"
   ]
  },
  {
   "cell_type": "code",
   "execution_count": null,
   "metadata": {
    "_uuid": "4fb34450b8dfabe74d9e411ec45c717e15a0efcd",
    "execution": {
     "iopub.status.busy": "2025-03-19T04:16:28.738084Z",
     "iopub.status.idle": "2025-03-19T04:16:28.738619Z",
     "shell.execute_reply": "2025-03-19T04:16:28.738336Z"
    },
    "trusted": true
   },
   "outputs": [
    {
     "data": {
      "text/plain": [
       "array([-1.5, -1.5, -1.5])"
      ]
     },
     "execution_count": 13,
     "metadata": {},
     "output_type": "execute_result"
    }
   ],
   "source": [
    "A = np.ones(3)*1\n",
    "B = np.ones(3)*2\n",
    "C = np.ones(3)*3\n",
    "np.add(A,B,out=B)\n",
    "np.divide(A,2,out=A)\n",
    "np.negative(A,out=A)\n",
    "np.multiply(A,B,out=A)"
   ]
  },
  {
   "cell_type": "markdown",
   "metadata": {
    "_uuid": "861564e1209df602ba9acf76b21764166d941f64"
   },
   "source": [
    "#### 36. Extract the integer part of a random array using 5 different methods (★★☆)"
   ]
  },
  {
   "cell_type": "code",
   "execution_count": null,
   "metadata": {
    "_uuid": "26071c39ddc28c65fe06329b480504455890609e",
    "execution": {
     "iopub.status.busy": "2025-03-19T04:16:28.739550Z",
     "iopub.status.idle": "2025-03-19T04:16:28.740444Z",
     "shell.execute_reply": "2025-03-19T04:16:28.739860Z"
    },
    "trusted": true
   },
   "outputs": [
    {
     "name": "stdout",
     "output_type": "stream",
     "text": [
      "[1. 2. 4. 1. 9. 6. 4. 7. 7. 5.]\n",
      "[1. 2. 4. 1. 9. 6. 4. 7. 7. 5.]\n",
      "[1. 2. 4. 1. 9. 6. 4. 7. 7. 5.]\n",
      "[1 2 4 1 9 6 4 7 7 5]\n",
      "[1. 2. 4. 1. 9. 6. 4. 7. 7. 5.]\n"
     ]
    }
   ],
   "source": [
    "Z = np.random.uniform(0,10,10)\n",
    "\n",
    "print (Z - Z%1)\n",
    "print (np.floor(Z))\n",
    "print (np.ceil(Z)-1)\n",
    "print (Z.astype(int))\n",
    "print (np.trunc(Z))"
   ]
  },
  {
   "cell_type": "markdown",
   "metadata": {
    "_uuid": "1acff22fb998865b58d5a9b37b0a5ce5b7f13387"
   },
   "source": [
    "#### 37. Create a 5x5 matrix with row values ranging from 0 to 4 (★★☆)"
   ]
  },
  {
   "cell_type": "code",
   "execution_count": null,
   "metadata": {
    "_uuid": "728c78dc7d9477e3300f58d589fbbc888df3cecb",
    "execution": {
     "iopub.status.busy": "2025-03-19T04:16:28.741329Z",
     "iopub.status.idle": "2025-03-19T04:16:28.741904Z",
     "shell.execute_reply": "2025-03-19T04:16:28.741553Z"
    },
    "trusted": true
   },
   "outputs": [
    {
     "name": "stdout",
     "output_type": "stream",
     "text": [
      "[[0. 1. 2. 3. 4.]\n",
      " [0. 1. 2. 3. 4.]\n",
      " [0. 1. 2. 3. 4.]\n",
      " [0. 1. 2. 3. 4.]\n",
      " [0. 1. 2. 3. 4.]]\n"
     ]
    }
   ],
   "source": [
    "Z = np.zeros((5,5))\n",
    "Z += np.arange(5)\n",
    "print(Z)"
   ]
  },
  {
   "cell_type": "markdown",
   "metadata": {
    "_uuid": "dd54ec03c8ce814c994611575b49cd2e14b4071a"
   },
   "source": [
    "#### 38. Consider a generator function that generates 10 integers and use it to build an array (★☆☆)"
   ]
  },
  {
   "cell_type": "code",
   "execution_count": null,
   "metadata": {
    "_uuid": "229a68e06163a294e63f0b377aa697aa8c925cb2",
    "execution": {
     "iopub.status.busy": "2025-03-19T04:16:28.742817Z",
     "iopub.status.idle": "2025-03-19T04:16:28.743598Z",
     "shell.execute_reply": "2025-03-19T04:16:28.743250Z"
    },
    "trusted": true
   },
   "outputs": [
    {
     "name": "stdout",
     "output_type": "stream",
     "text": [
      "[0. 1. 2. 3. 4. 5. 6. 7. 8. 9.]\n"
     ]
    }
   ],
   "source": [
    "def generate():\n",
    "    for x in range(10):\n",
    "        yield x\n",
    "Z = np.fromiter(generate(),dtype=float,count=-1)\n",
    "print(Z)"
   ]
  },
  {
   "cell_type": "markdown",
   "metadata": {
    "_uuid": "c52ceff787ef50f22325107cb5f5b1bfac61858f"
   },
   "source": [
    "#### 39. Create a vector of size 10 with values ranging from 0 to 1, both excluded (★★☆)"
   ]
  },
  {
   "cell_type": "code",
   "execution_count": null,
   "metadata": {
    "_uuid": "bcdb9a3b3a6a47768f53ea8e25b70070566c87eb",
    "execution": {
     "iopub.status.busy": "2025-03-19T04:16:28.744445Z",
     "iopub.status.idle": "2025-03-19T04:16:28.744989Z",
     "shell.execute_reply": "2025-03-19T04:16:28.744670Z"
    },
    "trusted": true
   },
   "outputs": [
    {
     "name": "stdout",
     "output_type": "stream",
     "text": [
      "[0.09090909 0.18181818 0.27272727 0.36363636 0.45454545 0.54545455\n",
      " 0.63636364 0.72727273 0.81818182 0.90909091]\n"
     ]
    }
   ],
   "source": [
    "Z = np.linspace(0,1,11,endpoint=False)[1:]\n",
    "print(Z)"
   ]
  },
  {
   "cell_type": "markdown",
   "metadata": {
    "_uuid": "34f5d6e2e269678714f1e5aafec8a92d6411ecd3"
   },
   "source": [
    "#### 40. Create a random vector of size 10 and sort it (★★☆)"
   ]
  },
  {
   "cell_type": "code",
   "execution_count": null,
   "metadata": {
    "_uuid": "650bd640404dd8cfdbeb0d91b8fc5ea844ee60a8",
    "execution": {
     "iopub.status.busy": "2025-03-19T04:16:28.745797Z",
     "iopub.status.idle": "2025-03-19T04:16:28.747081Z",
     "shell.execute_reply": "2025-03-19T04:16:28.746565Z"
    },
    "trusted": true
   },
   "outputs": [
    {
     "name": "stdout",
     "output_type": "stream",
     "text": [
      "[0.13055538 0.14154618 0.17243957 0.18245563 0.56268434 0.62481694\n",
      " 0.79238412 0.84612453 0.9230027  0.98011007]\n"
     ]
    }
   ],
   "source": [
    "Z = np.random.random(10)\n",
    "Z.sort()\n",
    "print(Z)"
   ]
  },
  {
   "cell_type": "markdown",
   "metadata": {
    "_uuid": "83c5fbdf8c61a57380aa9deeb60fb1546c5560bc"
   },
   "source": [
    "#### 41. How to sum a small array faster than np.sum? (★★☆)"
   ]
  },
  {
   "cell_type": "code",
   "execution_count": null,
   "metadata": {
    "_uuid": "1c694d4f7a152005de0201d7459cca0fb9daf820",
    "execution": {
     "iopub.status.busy": "2025-03-19T04:16:28.747883Z",
     "iopub.status.idle": "2025-03-19T04:16:28.748669Z",
     "shell.execute_reply": "2025-03-19T04:16:28.748159Z"
    },
    "trusted": true
   },
   "outputs": [
    {
     "data": {
      "text/plain": [
       "np.int64(45)"
      ]
     },
     "execution_count": 19,
     "metadata": {},
     "output_type": "execute_result"
    }
   ],
   "source": [
    "# Author: Evgeni Burovski\n",
    "\n",
    "Z = np.arange(10)\n",
    "np.add.reduce(Z)"
   ]
  },
  {
   "cell_type": "markdown",
   "metadata": {
    "_uuid": "0502011982ec9de8f998bdcc76ff2d00dc9bad6e"
   },
   "source": [
    "#### 42. Consider two random array A and B, check if they are equal (★★☆)"
   ]
  },
  {
   "cell_type": "code",
   "execution_count": null,
   "metadata": {
    "_uuid": "bc542c3112954260eac0bcf08bc8b0ae2ce0ae33",
    "execution": {
     "iopub.status.busy": "2025-03-19T04:16:28.749553Z",
     "iopub.status.idle": "2025-03-19T04:16:28.750074Z",
     "shell.execute_reply": "2025-03-19T04:16:28.749776Z"
    },
    "trusted": true
   },
   "outputs": [
    {
     "name": "stdout",
     "output_type": "stream",
     "text": [
      "False\n",
      "False\n"
     ]
    }
   ],
   "source": [
    "A = np.random.randint(0,2,5)\n",
    "B = np.random.randint(0,2,5)\n",
    "\n",
    "# Assuming identical shape of the arrays and a tolerance for the comparison of values\n",
    "equal = np.allclose(A,B)\n",
    "print(equal)\n",
    "\n",
    "# Checking both the shape and the element values, no tolerance (values have to be exactly equal)\n",
    "equal = np.array_equal(A,B)\n",
    "print(equal)"
   ]
  },
  {
   "cell_type": "markdown",
   "metadata": {
    "_uuid": "100623c44dc702d6ac2ac5d35b4e5173c906f317"
   },
   "source": [
    "#### 43. Make an array immutable (read-only) (★★☆)"
   ]
  },
  {
   "cell_type": "code",
   "execution_count": null,
   "metadata": {
    "_uuid": "14189438d83341e3e1f92c6a2ced78eefe330569",
    "execution": {
     "iopub.status.busy": "2025-03-19T04:16:28.750861Z",
     "iopub.status.idle": "2025-03-19T04:16:28.751420Z",
     "shell.execute_reply": "2025-03-19T04:16:28.751101Z"
    },
    "trusted": true
   },
   "outputs": [
    {
     "ename": "ValueError",
     "evalue": "assignment destination is read-only",
     "output_type": "error",
     "traceback": [
      "\u001b[31m---------------------------------------------------------------------------\u001b[39m",
      "\u001b[31mValueError\u001b[39m                                Traceback (most recent call last)",
      "\u001b[36mCell\u001b[39m\u001b[36m \u001b[39m\u001b[32mIn[21]\u001b[39m\u001b[32m, line 3\u001b[39m\n\u001b[32m      1\u001b[39m Z = np.zeros(\u001b[32m10\u001b[39m)\n\u001b[32m      2\u001b[39m Z.flags.writeable = \u001b[38;5;28;01mFalse\u001b[39;00m\n\u001b[32m----> \u001b[39m\u001b[32m3\u001b[39m \u001b[43mZ\u001b[49m\u001b[43m[\u001b[49m\u001b[32;43m0\u001b[39;49m\u001b[43m]\u001b[49m = \u001b[32m1\u001b[39m\n",
      "\u001b[31mValueError\u001b[39m: assignment destination is read-only"
     ]
    }
   ],
   "source": [
    "Z = np.zeros(10)\n",
    "Z.flags.writeable = False\n",
    "Z[0] = 1"
   ]
  },
  {
   "cell_type": "markdown",
   "metadata": {
    "_uuid": "acb91faea0d29424787d28d2b532530712d96843"
   },
   "source": [
    "#### 44. Consider a random 10x2 matrix representing cartesian coordinates, convert them to polar coordinates (★★☆)"
   ]
  },
  {
   "cell_type": "code",
   "execution_count": null,
   "metadata": {
    "_uuid": "cc45f36860f02c3fcedb45f0c5358e6d432334d7",
    "execution": {
     "iopub.status.busy": "2025-03-19T04:16:28.752765Z",
     "iopub.status.idle": "2025-03-19T04:16:28.753674Z",
     "shell.execute_reply": "2025-03-19T04:16:28.753064Z"
    },
    "trusted": true
   },
   "outputs": [
    {
     "name": "stdout",
     "output_type": "stream",
     "text": [
      "[0.80960607 0.87626374 1.17269915 0.44919727 1.2652993  0.60580436\n",
      " 1.06381236 1.00158934 1.16135314 0.79623537]\n",
      "[0.10366748 1.43062095 0.71478641 0.6706435  0.75300131 0.07675238\n",
      " 1.00087875 1.15133623 1.02416511 1.53529233]\n"
     ]
    }
   ],
   "source": [
    "Z = np.random.random((10,2))\n",
    "X,Y = Z[:,0], Z[:,1]\n",
    "R = np.sqrt(X**2+Y**2)\n",
    "T = np.arctan2(Y,X)\n",
    "print(R)\n",
    "print(T)"
   ]
  },
  {
   "cell_type": "markdown",
   "metadata": {
    "_uuid": "353f854c6c99f2889b0d31cc69bc1fd7fccd0fe1"
   },
   "source": [
    "#### 45. Create random vector of size 10 and replace the maximum value by 0 (★★☆)"
   ]
  },
  {
   "cell_type": "code",
   "execution_count": null,
   "metadata": {
    "_uuid": "fd9c6de99887f58497e8880f38b8aab24beaef6a",
    "execution": {
     "iopub.status.busy": "2025-03-19T04:16:28.754513Z",
     "iopub.status.idle": "2025-03-19T04:16:28.755073Z",
     "shell.execute_reply": "2025-03-19T04:16:28.754762Z"
    },
    "trusted": true
   },
   "outputs": [
    {
     "name": "stdout",
     "output_type": "stream",
     "text": [
      "[0.76039708 0.69078752 0.51961059 0.         0.32918881 0.83799421\n",
      " 0.26315556 0.2353312  0.04626556 0.35709155]\n"
     ]
    }
   ],
   "source": [
    "Z = np.random.random(10)\n",
    "Z[Z.argmax()] = 0\n",
    "print(Z)"
   ]
  },
  {
   "cell_type": "markdown",
   "metadata": {
    "_uuid": "f7790f5d373c9f35e4407da026b1f432678e6a54"
   },
   "source": [
    "#### 46. Create a structured array with `x` and `y` coordinates covering the \\[0,1\\]x\\[0,1\\] area (★★☆)"
   ]
  },
  {
   "cell_type": "code",
   "execution_count": null,
   "metadata": {
    "_uuid": "d41b7ebb14c22e1a447c4fed771bcc806a2e30b1",
    "execution": {
     "iopub.status.busy": "2025-03-19T04:16:28.756165Z",
     "iopub.status.idle": "2025-03-19T04:16:28.756774Z",
     "shell.execute_reply": "2025-03-19T04:16:28.756424Z"
    },
    "trusted": true
   },
   "outputs": [
    {
     "name": "stdout",
     "output_type": "stream",
     "text": [
      "[[(0.  , 0.  ) (0.25, 0.  ) (0.5 , 0.  ) (0.75, 0.  ) (1.  , 0.  )]\n",
      " [(0.  , 0.25) (0.25, 0.25) (0.5 , 0.25) (0.75, 0.25) (1.  , 0.25)]\n",
      " [(0.  , 0.5 ) (0.25, 0.5 ) (0.5 , 0.5 ) (0.75, 0.5 ) (1.  , 0.5 )]\n",
      " [(0.  , 0.75) (0.25, 0.75) (0.5 , 0.75) (0.75, 0.75) (1.  , 0.75)]\n",
      " [(0.  , 1.  ) (0.25, 1.  ) (0.5 , 1.  ) (0.75, 1.  ) (1.  , 1.  )]]\n"
     ]
    }
   ],
   "source": [
    "Z = np.zeros((5,5), [('x',float),('y',float)])\n",
    "Z['x'], Z['y'] = np.meshgrid(np.linspace(0,1,5),\n",
    "                             np.linspace(0,1,5))\n",
    "print(Z)"
   ]
  },
  {
   "cell_type": "markdown",
   "metadata": {
    "_uuid": "1300814d19e6012622274d6a0a7b5551159278dc"
   },
   "source": [
    "####  47. Given two arrays, X and Y, construct the Cauchy matrix C (Cij =1/(xi - yj))"
   ]
  },
  {
   "cell_type": "code",
   "execution_count": null,
   "metadata": {
    "_uuid": "991ae1730e3cfac3214f49ffa0734512d4136779",
    "execution": {
     "iopub.status.busy": "2025-03-19T04:16:28.757604Z",
     "iopub.status.idle": "2025-03-19T04:16:28.758298Z",
     "shell.execute_reply": "2025-03-19T04:16:28.757889Z"
    },
    "trusted": true
   },
   "outputs": [
    {
     "name": "stdout",
     "output_type": "stream",
     "text": [
      "3638.163637117973\n"
     ]
    }
   ],
   "source": [
    "# Author: Evgeni Burovski\n",
    "\n",
    "X = np.arange(8)\n",
    "Y = X + 0.5\n",
    "C = 1.0 / np.subtract.outer(X, Y)\n",
    "print(np.linalg.det(C))"
   ]
  },
  {
   "cell_type": "markdown",
   "metadata": {
    "_uuid": "879952e7f6a37f63e8ebadf4baa516325eeb60c6"
   },
   "source": [
    "#### 48. Print the minimum and maximum representable value for each numpy scalar type (★★☆)"
   ]
  },
  {
   "cell_type": "code",
   "execution_count": null,
   "metadata": {
    "_uuid": "c0582da4b3a82183e3230a0249e9a07bb9329698",
    "execution": {
     "iopub.status.busy": "2025-03-19T04:16:28.759382Z",
     "iopub.status.idle": "2025-03-19T04:16:28.759933Z",
     "shell.execute_reply": "2025-03-19T04:16:28.759611Z"
    },
    "trusted": true
   },
   "outputs": [
    {
     "name": "stdout",
     "output_type": "stream",
     "text": [
      "-128\n",
      "127\n",
      "-2147483648\n",
      "2147483647\n",
      "-9223372036854775808\n",
      "9223372036854775807\n",
      "-3.4028235e+38\n",
      "3.4028235e+38\n",
      "1.1920929e-07\n",
      "-1.7976931348623157e+308\n",
      "1.7976931348623157e+308\n",
      "2.220446049250313e-16\n"
     ]
    }
   ],
   "source": [
    "for dtype in [np.int8, np.int32, np.int64]:\n",
    "   print(np.iinfo(dtype).min)\n",
    "   print(np.iinfo(dtype).max)\n",
    "for dtype in [np.float32, np.float64]:\n",
    "   print(np.finfo(dtype).min)\n",
    "   print(np.finfo(dtype).max)\n",
    "   print(np.finfo(dtype).eps)"
   ]
  },
  {
   "cell_type": "markdown",
   "metadata": {
    "_uuid": "7ce0b16c0951d51c8a9755e83432bcb5faa7b542"
   },
   "source": [
    "#### 49. How to print all the values of an array? (★★☆)"
   ]
  },
  {
   "cell_type": "code",
   "execution_count": null,
   "metadata": {
    "_uuid": "b79dd172d33c2f817244df8ebafda90e1974ea26",
    "execution": {
     "iopub.status.busy": "2025-03-19T04:16:28.760761Z",
     "iopub.status.idle": "2025-03-19T04:16:28.761623Z",
     "shell.execute_reply": "2025-03-19T04:16:28.761072Z"
    },
    "trusted": true
   },
   "outputs": [
    {
     "ename": "ValueError",
     "evalue": "threshold must be non-NAN, try sys.maxsize for untruncated representation",
     "output_type": "error",
     "traceback": [
      "\u001b[31m---------------------------------------------------------------------------\u001b[39m",
      "\u001b[31mValueError\u001b[39m                                Traceback (most recent call last)",
      "\u001b[36mCell\u001b[39m\u001b[36m \u001b[39m\u001b[32mIn[27]\u001b[39m\u001b[32m, line 1\u001b[39m\n\u001b[32m----> \u001b[39m\u001b[32m1\u001b[39m \u001b[43mnp\u001b[49m\u001b[43m.\u001b[49m\u001b[43mset_printoptions\u001b[49m\u001b[43m(\u001b[49m\u001b[43mthreshold\u001b[49m\u001b[43m=\u001b[49m\u001b[43mnp\u001b[49m\u001b[43m.\u001b[49m\u001b[43mnan\u001b[49m\u001b[43m)\u001b[49m\n\u001b[32m      2\u001b[39m Z = np.zeros((\u001b[32m16\u001b[39m,\u001b[32m16\u001b[39m))\n\u001b[32m      3\u001b[39m \u001b[38;5;28mprint\u001b[39m(Z)\n",
      "\u001b[36mFile \u001b[39m\u001b[32m~/Documents/Python/.venv/lib64/python3.13/site-packages/numpy/_core/arrayprint.py:293\u001b[39m, in \u001b[36mset_printoptions\u001b[39m\u001b[34m(precision, threshold, edgeitems, linewidth, suppress, nanstr, infstr, formatter, sign, floatmode, legacy, override_repr)\u001b[39m\n\u001b[32m    113\u001b[39m \u001b[38;5;129m@set_module\u001b[39m(\u001b[33m'\u001b[39m\u001b[33mnumpy\u001b[39m\u001b[33m'\u001b[39m)\n\u001b[32m    114\u001b[39m \u001b[38;5;28;01mdef\u001b[39;00m\u001b[38;5;250m \u001b[39m\u001b[34mset_printoptions\u001b[39m(precision=\u001b[38;5;28;01mNone\u001b[39;00m, threshold=\u001b[38;5;28;01mNone\u001b[39;00m, edgeitems=\u001b[38;5;28;01mNone\u001b[39;00m,\n\u001b[32m    115\u001b[39m                      linewidth=\u001b[38;5;28;01mNone\u001b[39;00m, suppress=\u001b[38;5;28;01mNone\u001b[39;00m, nanstr=\u001b[38;5;28;01mNone\u001b[39;00m,\n\u001b[32m    116\u001b[39m                      infstr=\u001b[38;5;28;01mNone\u001b[39;00m, formatter=\u001b[38;5;28;01mNone\u001b[39;00m, sign=\u001b[38;5;28;01mNone\u001b[39;00m, floatmode=\u001b[38;5;28;01mNone\u001b[39;00m,\n\u001b[32m    117\u001b[39m                      *, legacy=\u001b[38;5;28;01mNone\u001b[39;00m, override_repr=\u001b[38;5;28;01mNone\u001b[39;00m):\n\u001b[32m    118\u001b[39m \u001b[38;5;250m    \u001b[39m\u001b[33;03m\"\"\"\u001b[39;00m\n\u001b[32m    119\u001b[39m \u001b[33;03m    Set printing options.\u001b[39;00m\n\u001b[32m    120\u001b[39m \n\u001b[32m   (...)\u001b[39m\u001b[32m    291\u001b[39m \n\u001b[32m    292\u001b[39m \u001b[33;03m    \"\"\"\u001b[39;00m\n\u001b[32m--> \u001b[39m\u001b[32m293\u001b[39m     \u001b[43m_set_printoptions\u001b[49m\u001b[43m(\u001b[49m\u001b[43mprecision\u001b[49m\u001b[43m,\u001b[49m\u001b[43m \u001b[49m\u001b[43mthreshold\u001b[49m\u001b[43m,\u001b[49m\u001b[43m \u001b[49m\u001b[43medgeitems\u001b[49m\u001b[43m,\u001b[49m\u001b[43m \u001b[49m\u001b[43mlinewidth\u001b[49m\u001b[43m,\u001b[49m\u001b[43m \u001b[49m\u001b[43msuppress\u001b[49m\u001b[43m,\u001b[49m\n\u001b[32m    294\u001b[39m \u001b[43m                      \u001b[49m\u001b[43mnanstr\u001b[49m\u001b[43m,\u001b[49m\u001b[43m \u001b[49m\u001b[43minfstr\u001b[49m\u001b[43m,\u001b[49m\u001b[43m \u001b[49m\u001b[43mformatter\u001b[49m\u001b[43m,\u001b[49m\u001b[43m \u001b[49m\u001b[43msign\u001b[49m\u001b[43m,\u001b[49m\u001b[43m \u001b[49m\u001b[43mfloatmode\u001b[49m\u001b[43m,\u001b[49m\n\u001b[32m    295\u001b[39m \u001b[43m                      \u001b[49m\u001b[43mlegacy\u001b[49m\u001b[43m=\u001b[49m\u001b[43mlegacy\u001b[49m\u001b[43m,\u001b[49m\u001b[43m \u001b[49m\u001b[43moverride_repr\u001b[49m\u001b[43m=\u001b[49m\u001b[43moverride_repr\u001b[49m\u001b[43m)\u001b[49m\n",
      "\u001b[36mFile \u001b[39m\u001b[32m~/Documents/Python/.venv/lib64/python3.13/site-packages/numpy/_core/arrayprint.py:302\u001b[39m, in \u001b[36m_set_printoptions\u001b[39m\u001b[34m(precision, threshold, edgeitems, linewidth, suppress, nanstr, infstr, formatter, sign, floatmode, legacy, override_repr)\u001b[39m\n\u001b[32m    298\u001b[39m \u001b[38;5;28;01mdef\u001b[39;00m\u001b[38;5;250m \u001b[39m\u001b[34m_set_printoptions\u001b[39m(precision=\u001b[38;5;28;01mNone\u001b[39;00m, threshold=\u001b[38;5;28;01mNone\u001b[39;00m, edgeitems=\u001b[38;5;28;01mNone\u001b[39;00m,\n\u001b[32m    299\u001b[39m                       linewidth=\u001b[38;5;28;01mNone\u001b[39;00m, suppress=\u001b[38;5;28;01mNone\u001b[39;00m, nanstr=\u001b[38;5;28;01mNone\u001b[39;00m,\n\u001b[32m    300\u001b[39m                       infstr=\u001b[38;5;28;01mNone\u001b[39;00m, formatter=\u001b[38;5;28;01mNone\u001b[39;00m, sign=\u001b[38;5;28;01mNone\u001b[39;00m, floatmode=\u001b[38;5;28;01mNone\u001b[39;00m,\n\u001b[32m    301\u001b[39m                       *, legacy=\u001b[38;5;28;01mNone\u001b[39;00m, override_repr=\u001b[38;5;28;01mNone\u001b[39;00m):\n\u001b[32m--> \u001b[39m\u001b[32m302\u001b[39m     new_opt = \u001b[43m_make_options_dict\u001b[49m\u001b[43m(\u001b[49m\u001b[43mprecision\u001b[49m\u001b[43m,\u001b[49m\u001b[43m \u001b[49m\u001b[43mthreshold\u001b[49m\u001b[43m,\u001b[49m\u001b[43m \u001b[49m\u001b[43medgeitems\u001b[49m\u001b[43m,\u001b[49m\u001b[43m \u001b[49m\u001b[43mlinewidth\u001b[49m\u001b[43m,\u001b[49m\n\u001b[32m    303\u001b[39m \u001b[43m                                 \u001b[49m\u001b[43msuppress\u001b[49m\u001b[43m,\u001b[49m\u001b[43m \u001b[49m\u001b[43mnanstr\u001b[49m\u001b[43m,\u001b[49m\u001b[43m \u001b[49m\u001b[43minfstr\u001b[49m\u001b[43m,\u001b[49m\u001b[43m \u001b[49m\u001b[43msign\u001b[49m\u001b[43m,\u001b[49m\u001b[43m \u001b[49m\u001b[43mformatter\u001b[49m\u001b[43m,\u001b[49m\n\u001b[32m    304\u001b[39m \u001b[43m                                 \u001b[49m\u001b[43mfloatmode\u001b[49m\u001b[43m,\u001b[49m\u001b[43m \u001b[49m\u001b[43mlegacy\u001b[49m\u001b[43m)\u001b[49m\n\u001b[32m    305\u001b[39m     \u001b[38;5;66;03m# formatter and override_repr are always reset\u001b[39;00m\n\u001b[32m    306\u001b[39m     new_opt[\u001b[33m'\u001b[39m\u001b[33mformatter\u001b[39m\u001b[33m'\u001b[39m] = formatter\n",
      "\u001b[36mFile \u001b[39m\u001b[32m~/Documents/Python/.venv/lib64/python3.13/site-packages/numpy/_core/arrayprint.py:100\u001b[39m, in \u001b[36m_make_options_dict\u001b[39m\u001b[34m(precision, threshold, edgeitems, linewidth, suppress, nanstr, infstr, sign, formatter, floatmode, legacy, override_repr)\u001b[39m\n\u001b[32m     98\u001b[39m         \u001b[38;5;28;01mraise\u001b[39;00m \u001b[38;5;167;01mTypeError\u001b[39;00m(\u001b[33m\"\u001b[39m\u001b[33mthreshold must be numeric\u001b[39m\u001b[33m\"\u001b[39m)\n\u001b[32m     99\u001b[39m     \u001b[38;5;28;01mif\u001b[39;00m np.isnan(threshold):\n\u001b[32m--> \u001b[39m\u001b[32m100\u001b[39m         \u001b[38;5;28;01mraise\u001b[39;00m \u001b[38;5;167;01mValueError\u001b[39;00m(\u001b[33m\"\u001b[39m\u001b[33mthreshold must be non-NAN, try \u001b[39m\u001b[33m\"\u001b[39m\n\u001b[32m    101\u001b[39m                          \u001b[33m\"\u001b[39m\u001b[33msys.maxsize for untruncated representation\u001b[39m\u001b[33m\"\u001b[39m)\n\u001b[32m    103\u001b[39m \u001b[38;5;28;01mif\u001b[39;00m precision \u001b[38;5;129;01mis\u001b[39;00m \u001b[38;5;129;01mnot\u001b[39;00m \u001b[38;5;28;01mNone\u001b[39;00m:\n\u001b[32m    104\u001b[39m     \u001b[38;5;66;03m# forbid the bad precision arg as suggested by issue #18254\u001b[39;00m\n\u001b[32m    105\u001b[39m     \u001b[38;5;28;01mtry\u001b[39;00m:\n",
      "\u001b[31mValueError\u001b[39m: threshold must be non-NAN, try sys.maxsize for untruncated representation"
     ]
    }
   ],
   "source": [
    "np.set_printoptions(threshold=np.nan)\n",
    "Z = np.zeros((16,16))\n",
    "print(Z)"
   ]
  },
  {
   "cell_type": "markdown",
   "metadata": {
    "_uuid": "3cd7d90b37471536a03b27117c01d82a1ed1439c"
   },
   "source": [
    "#### 50. How to find the closest value (to a given scalar) in a vector? (★★☆)"
   ]
  },
  {
   "cell_type": "code",
   "execution_count": null,
   "metadata": {
    "_uuid": "2d0087af5d396d4b823122485c006f0e4a8f5b86",
    "execution": {
     "iopub.status.busy": "2025-03-19T04:16:28.762599Z",
     "iopub.status.idle": "2025-03-19T04:16:28.763334Z",
     "shell.execute_reply": "2025-03-19T04:16:28.763000Z"
    },
    "trusted": true
   },
   "outputs": [
    {
     "name": "stdout",
     "output_type": "stream",
     "text": [
      "27\n"
     ]
    }
   ],
   "source": [
    "Z = np.arange(100)\n",
    "v = np.random.uniform(0,100)\n",
    "index = (np.abs(Z-v)).argmin()\n",
    "print(Z[index])"
   ]
  },
  {
   "cell_type": "markdown",
   "metadata": {
    "_uuid": "6282f6e53b61d3d121c0a4be1bb3441da1069e37"
   },
   "source": [
    "#### 51. Create a structured array representing a position (x,y) and a color (r,g,b) (★★☆)"
   ]
  },
  {
   "cell_type": "code",
   "execution_count": null,
   "metadata": {
    "_uuid": "3a84a0c89222c2e959c7a618c2d5f70f1b1b3066",
    "execution": {
     "iopub.status.busy": "2025-03-19T04:16:28.764336Z",
     "iopub.status.idle": "2025-03-19T04:16:28.765066Z",
     "shell.execute_reply": "2025-03-19T04:16:28.764633Z"
    },
    "trusted": true
   },
   "outputs": [
    {
     "name": "stdout",
     "output_type": "stream",
     "text": [
      "[(([0.], [0.]), ([0.], [0.], [0.])) (([0.], [0.]), ([0.], [0.], [0.]))\n",
      " (([0.], [0.]), ([0.], [0.], [0.])) (([0.], [0.]), ([0.], [0.], [0.]))\n",
      " (([0.], [0.]), ([0.], [0.], [0.])) (([0.], [0.]), ([0.], [0.], [0.]))\n",
      " (([0.], [0.]), ([0.], [0.], [0.])) (([0.], [0.]), ([0.], [0.], [0.]))\n",
      " (([0.], [0.]), ([0.], [0.], [0.])) (([0.], [0.]), ([0.], [0.], [0.]))]\n"
     ]
    }
   ],
   "source": [
    "Z = np.zeros(10, [ ('position', [ ('x', float, 1),\n",
    "                                  ('y', float, 1)]),\n",
    "                   ('color',    [ ('r', float, 1),\n",
    "                                  ('g', float, 1),\n",
    "                                  ('b', float, 1)])])\n",
    "print(Z)"
   ]
  },
  {
   "cell_type": "markdown",
   "metadata": {
    "_uuid": "d516168bf762ce6077e2d6aff43d1e075e6bb252"
   },
   "source": [
    "#### 52. Consider a random vector with shape (100,2) representing coordinates, find point by point distances (★★☆)"
   ]
  },
  {
   "cell_type": "code",
   "execution_count": 30,
   "metadata": {
    "_uuid": "65d11532bfd393269790b8209036a862545f5154",
    "execution": {
     "iopub.status.busy": "2025-03-19T04:16:28.766293Z",
     "iopub.status.idle": "2025-03-19T04:16:28.767089Z",
     "shell.execute_reply": "2025-03-19T04:16:28.766729Z"
    },
    "trusted": true
   },
   "outputs": [
    {
     "name": "stdout",
     "output_type": "stream",
     "text": [
      "[[0.         0.9567894  0.9276622  0.74356316 0.60771251 0.43331237\n",
      "  0.60806878 0.56699863 0.36379076 0.54777355]\n",
      " [0.9567894  0.         0.18326586 0.41381759 0.5135287  0.56303942\n",
      "  0.40881555 0.87232927 0.60394379 0.42232804]\n",
      " [0.9276622  0.18326586 0.         0.53614022 0.60110607 0.59072555\n",
      "  0.32639698 0.74050899 0.56387259 0.44916329]\n",
      " [0.74356316 0.41381759 0.53614022 0.         0.14500857 0.31541975\n",
      "  0.48322536 0.92122532 0.49424094 0.26391731]\n",
      " [0.60771251 0.5135287  0.60110607 0.14500857 0.         0.19627285\n",
      "  0.46208296 0.84957327 0.40200118 0.21164988]\n",
      " [0.43331237 0.56303942 0.59072555 0.31541975 0.19627285 0.\n",
      "  0.35184009 0.66722574 0.21482224 0.14352263]\n",
      " [0.60806878 0.40881555 0.32639698 0.48322536 0.46208296 0.35184009\n",
      "  0.         0.47847892 0.24762806 0.25139295]\n",
      " [0.56699863 0.87232927 0.74050899 0.92122532 0.84957327 0.66722574\n",
      "  0.47847892 0.         0.45241419 0.65789071]\n",
      " [0.36379076 0.60394379 0.56387259 0.49424094 0.40200118 0.21482224\n",
      "  0.24762806 0.45241419 0.         0.23797461]\n",
      " [0.54777355 0.42232804 0.44916329 0.26391731 0.21164988 0.14352263\n",
      "  0.25139295 0.65789071 0.23797461 0.        ]]\n",
      "[[0.         0.51469975 0.09145401 0.30678743 0.51814838 0.77324957\n",
      "  0.58894461 0.70871217 0.51913499 0.38799131]\n",
      " [0.51469975 0.         0.52290355 0.71782041 0.67999001 0.63704446\n",
      "  0.62260842 0.63114362 0.67459049 0.60174716]\n",
      " [0.09145401 0.52290355 0.         0.38885069 0.60892634 0.84982729\n",
      "  0.67481345 0.78903816 0.60974469 0.47879707]\n",
      " [0.30678743 0.71782041 0.38885069 0.         0.33120911 0.69942739\n",
      "  0.46396958 0.6157124  0.33654748 0.23527114]\n",
      " [0.51814838 0.67999001 0.60892634 0.33120911 0.         0.39357566\n",
      "  0.15251606 0.30545536 0.00810085 0.13015724]\n",
      " [0.77324957 0.63704446 0.84982729 0.69942739 0.39357566 0.\n",
      "  0.24197786 0.08833309 0.38591513 0.46428198]\n",
      " [0.58894461 0.62260842 0.67481345 0.46396958 0.15251606 0.24197786\n",
      "  0.         0.15456578 0.14466404 0.23237025]\n",
      " [0.70871217 0.63114362 0.78903816 0.6157124  0.30545536 0.08833309\n",
      "  0.15456578 0.         0.29784595 0.38136182]\n",
      " [0.51913499 0.67459049 0.60974469 0.33654748 0.00810085 0.38591513\n",
      "  0.14466404 0.29784595 0.         0.13131729]\n",
      " [0.38799131 0.60174716 0.47879707 0.23527114 0.13015724 0.46428198\n",
      "  0.23237025 0.38136182 0.13131729 0.        ]]\n"
     ]
    }
   ],
   "source": [
    "import numpy as np\n",
    "Z = np.random.random((10,2))\n",
    "X,Y = np.atleast_2d(Z[:,0], Z[:,1])\n",
    "D = np.sqrt( (X-X.T)**2 + (Y-Y.T)**2)\n",
    "print(D)\n",
    "\n",
    "# Much faster with scipy\n",
    "import scipy\n",
    "# Thanks Gavin Heverly-Coulson (#issue 1)\n",
    "import scipy.spatial\n",
    "\n",
    "Z = np.random.random((10,2))\n",
    "D = scipy.spatial.distance.cdist(Z,Z)\n",
    "print(D)"
   ]
  },
  {
   "cell_type": "markdown",
   "metadata": {
    "_uuid": "35b4e9307a72301c43b077924e4674cdee69fdf0"
   },
   "source": [
    "#### 53. How to convert a float (32 bits) array into an integer (32 bits) in place?"
   ]
  },
  {
   "cell_type": "code",
   "execution_count": null,
   "metadata": {
    "_uuid": "c67695d2efff4f63dbe4037694504a84deb8d4b9",
    "execution": {
     "iopub.status.busy": "2025-03-19T04:16:28.767998Z",
     "iopub.status.idle": "2025-03-19T04:16:28.768653Z",
     "shell.execute_reply": "2025-03-19T04:16:28.768305Z"
    },
    "trusted": true
   },
   "outputs": [
    {
     "name": "stdout",
     "output_type": "stream",
     "text": [
      "[0 1 2 3 4 5 6 7 8 9]\n"
     ]
    }
   ],
   "source": [
    "Z = np.arange(10, dtype=np.float32)\n",
    "Z = Z.astype(np.int32, copy=False)\n",
    "print(Z)"
   ]
  },
  {
   "cell_type": "markdown",
   "metadata": {
    "_uuid": "ba624a09e6c7ad2469893f0803914f9df40b6e43"
   },
   "source": [
    "#### 54. How to read the following file? (★★☆)"
   ]
  },
  {
   "cell_type": "code",
   "execution_count": null,
   "metadata": {
    "_uuid": "18545a5b5bde85eb8b664df655672a35a88e63b1",
    "execution": {
     "iopub.status.busy": "2025-03-19T04:16:28.769457Z",
     "iopub.status.idle": "2025-03-19T04:16:28.770101Z",
     "shell.execute_reply": "2025-03-19T04:16:28.769750Z"
    },
    "trusted": true
   },
   "outputs": [
    {
     "ename": "AttributeError",
     "evalue": "module 'numpy' has no attribute 'int'.\n`np.int` was a deprecated alias for the builtin `int`. To avoid this error in existing code, use `int` by itself. Doing this will not modify any behavior and is safe. When replacing `np.int`, you may wish to use e.g. `np.int64` or `np.int32` to specify the precision. If you wish to review your current use, check the release note link for additional information.\nThe aliases was originally deprecated in NumPy 1.20; for more details and guidance see the original release note at:\n    https://numpy.org/devdocs/release/1.20.0-notes.html#deprecations",
     "output_type": "error",
     "traceback": [
      "\u001b[31m---------------------------------------------------------------------------\u001b[39m",
      "\u001b[31mAttributeError\u001b[39m                            Traceback (most recent call last)",
      "\u001b[36mCell\u001b[39m\u001b[36m \u001b[39m\u001b[32mIn[32]\u001b[39m\u001b[32m, line 7\u001b[39m\n\u001b[32m      3\u001b[39m \u001b[38;5;66;03m# Fake file \u001b[39;00m\n\u001b[32m      4\u001b[39m s = StringIO(\u001b[33m\"\"\"\u001b[39m\u001b[33m1, 2, 3, 4, 5\u001b[39m\u001b[38;5;130;01m\\n\u001b[39;00m\n\u001b[32m      5\u001b[39m \u001b[33m                6,  ,  , 7, 8\u001b[39m\u001b[38;5;130;01m\\n\u001b[39;00m\n\u001b[32m      6\u001b[39m \u001b[33m                 ,  , 9,10,11\u001b[39m\u001b[38;5;130;01m\\n\u001b[39;00m\u001b[33m\"\"\"\u001b[39m)\n\u001b[32m----> \u001b[39m\u001b[32m7\u001b[39m Z = np.genfromtxt(s, delimiter=\u001b[33m\"\u001b[39m\u001b[33m,\u001b[39m\u001b[33m\"\u001b[39m, dtype=\u001b[43mnp\u001b[49m\u001b[43m.\u001b[49m\u001b[43mint\u001b[49m)\n\u001b[32m      8\u001b[39m \u001b[38;5;28mprint\u001b[39m(Z)\n",
      "\u001b[36mFile \u001b[39m\u001b[32m~/Documents/Python/.venv/lib64/python3.13/site-packages/numpy/__init__.py:397\u001b[39m, in \u001b[36m__getattr__\u001b[39m\u001b[34m(attr)\u001b[39m\n\u001b[32m    392\u001b[39m     warnings.warn(\n\u001b[32m    393\u001b[39m         \u001b[33mf\u001b[39m\u001b[33m\"\u001b[39m\u001b[33mIn the future `np.\u001b[39m\u001b[38;5;132;01m{\u001b[39;00mattr\u001b[38;5;132;01m}\u001b[39;00m\u001b[33m` will be defined as the \u001b[39m\u001b[33m\"\u001b[39m\n\u001b[32m    394\u001b[39m         \u001b[33m\"\u001b[39m\u001b[33mcorresponding NumPy scalar.\u001b[39m\u001b[33m\"\u001b[39m, \u001b[38;5;167;01mFutureWarning\u001b[39;00m, stacklevel=\u001b[32m2\u001b[39m)\n\u001b[32m    396\u001b[39m \u001b[38;5;28;01mif\u001b[39;00m attr \u001b[38;5;129;01min\u001b[39;00m __former_attrs__:\n\u001b[32m--> \u001b[39m\u001b[32m397\u001b[39m     \u001b[38;5;28;01mraise\u001b[39;00m \u001b[38;5;167;01mAttributeError\u001b[39;00m(__former_attrs__[attr], name=\u001b[38;5;28;01mNone\u001b[39;00m)\n\u001b[32m    399\u001b[39m \u001b[38;5;28;01mif\u001b[39;00m attr \u001b[38;5;129;01min\u001b[39;00m __expired_attributes__:\n\u001b[32m    400\u001b[39m     \u001b[38;5;28;01mraise\u001b[39;00m \u001b[38;5;167;01mAttributeError\u001b[39;00m(\n\u001b[32m    401\u001b[39m         \u001b[33mf\u001b[39m\u001b[33m\"\u001b[39m\u001b[33m`np.\u001b[39m\u001b[38;5;132;01m{\u001b[39;00mattr\u001b[38;5;132;01m}\u001b[39;00m\u001b[33m` was removed in the NumPy 2.0 release. \u001b[39m\u001b[33m\"\u001b[39m\n\u001b[32m    402\u001b[39m         \u001b[33mf\u001b[39m\u001b[33m\"\u001b[39m\u001b[38;5;132;01m{\u001b[39;00m__expired_attributes__[attr]\u001b[38;5;132;01m}\u001b[39;00m\u001b[33m\"\u001b[39m,\n\u001b[32m    403\u001b[39m         name=\u001b[38;5;28;01mNone\u001b[39;00m\n\u001b[32m    404\u001b[39m     )\n",
      "\u001b[31mAttributeError\u001b[39m: module 'numpy' has no attribute 'int'.\n`np.int` was a deprecated alias for the builtin `int`. To avoid this error in existing code, use `int` by itself. Doing this will not modify any behavior and is safe. When replacing `np.int`, you may wish to use e.g. `np.int64` or `np.int32` to specify the precision. If you wish to review your current use, check the release note link for additional information.\nThe aliases was originally deprecated in NumPy 1.20; for more details and guidance see the original release note at:\n    https://numpy.org/devdocs/release/1.20.0-notes.html#deprecations"
     ]
    }
   ],
   "source": [
    "from io import StringIO\n",
    "\n",
    "# Fake file \n",
    "s = StringIO(\"\"\"1, 2, 3, 4, 5\\n\n",
    "                6,  ,  , 7, 8\\n\n",
    "                 ,  , 9,10,11\\n\"\"\")\n",
    "Z = np.genfromtxt(s, delimiter=\",\", dtype=np.int)\n",
    "print(Z)"
   ]
  },
  {
   "cell_type": "markdown",
   "metadata": {
    "_uuid": "2069af8a433b9e7ed0adba61834ee1c08a691e86"
   },
   "source": [
    "#### 55. What is the equivalent of enumerate for numpy arrays? (★★☆)"
   ]
  },
  {
   "cell_type": "code",
   "execution_count": null,
   "metadata": {
    "_uuid": "336bd26b33356fb424875e33319f8bd857b29f30",
    "execution": {
     "iopub.status.busy": "2025-03-19T04:16:28.771424Z",
     "iopub.status.idle": "2025-03-19T04:16:28.772096Z",
     "shell.execute_reply": "2025-03-19T04:16:28.771704Z"
    },
    "trusted": true
   },
   "outputs": [
    {
     "name": "stdout",
     "output_type": "stream",
     "text": [
      "(0, 0) 0\n",
      "(0, 1) 1\n",
      "(0, 2) 2\n",
      "(1, 0) 3\n",
      "(1, 1) 4\n",
      "(1, 2) 5\n",
      "(2, 0) 6\n",
      "(2, 1) 7\n",
      "(2, 2) 8\n",
      "(0, 0) 0\n",
      "(0, 1) 1\n",
      "(0, 2) 2\n",
      "(1, 0) 3\n",
      "(1, 1) 4\n",
      "(1, 2) 5\n",
      "(2, 0) 6\n",
      "(2, 1) 7\n",
      "(2, 2) 8\n"
     ]
    }
   ],
   "source": [
    "Z = np.arange(9).reshape(3,3)\n",
    "for index, value in np.ndenumerate(Z):\n",
    "    print(index, value)\n",
    "for index in np.ndindex(Z.shape):\n",
    "    print(index, Z[index])"
   ]
  },
  {
   "cell_type": "markdown",
   "metadata": {
    "_uuid": "93ffc8b3b84a62c05657bebcea6a1f825017907f"
   },
   "source": [
    "#### 56. Generate a generic 2D Gaussian-like array (★★☆)"
   ]
  },
  {
   "cell_type": "code",
   "execution_count": null,
   "metadata": {
    "_uuid": "8c14b899fb4ecb85fbbfea299f36d42f567fce25",
    "execution": {
     "iopub.status.busy": "2025-03-19T04:16:28.772889Z",
     "iopub.status.idle": "2025-03-19T04:16:28.773590Z",
     "shell.execute_reply": "2025-03-19T04:16:28.773148Z"
    },
    "trusted": true
   },
   "outputs": [
    {
     "name": "stdout",
     "output_type": "stream",
     "text": [
      "[[0.36787944 0.44822088 0.51979489 0.57375342 0.60279818 0.60279818\n",
      "  0.57375342 0.51979489 0.44822088 0.36787944]\n",
      " [0.44822088 0.54610814 0.63331324 0.69905581 0.73444367 0.73444367\n",
      "  0.69905581 0.63331324 0.54610814 0.44822088]\n",
      " [0.51979489 0.63331324 0.73444367 0.81068432 0.85172308 0.85172308\n",
      "  0.81068432 0.73444367 0.63331324 0.51979489]\n",
      " [0.57375342 0.69905581 0.81068432 0.89483932 0.9401382  0.9401382\n",
      "  0.89483932 0.81068432 0.69905581 0.57375342]\n",
      " [0.60279818 0.73444367 0.85172308 0.9401382  0.98773022 0.98773022\n",
      "  0.9401382  0.85172308 0.73444367 0.60279818]\n",
      " [0.60279818 0.73444367 0.85172308 0.9401382  0.98773022 0.98773022\n",
      "  0.9401382  0.85172308 0.73444367 0.60279818]\n",
      " [0.57375342 0.69905581 0.81068432 0.89483932 0.9401382  0.9401382\n",
      "  0.89483932 0.81068432 0.69905581 0.57375342]\n",
      " [0.51979489 0.63331324 0.73444367 0.81068432 0.85172308 0.85172308\n",
      "  0.81068432 0.73444367 0.63331324 0.51979489]\n",
      " [0.44822088 0.54610814 0.63331324 0.69905581 0.73444367 0.73444367\n",
      "  0.69905581 0.63331324 0.54610814 0.44822088]\n",
      " [0.36787944 0.44822088 0.51979489 0.57375342 0.60279818 0.60279818\n",
      "  0.57375342 0.51979489 0.44822088 0.36787944]]\n"
     ]
    }
   ],
   "source": [
    "X, Y = np.meshgrid(np.linspace(-1,1,10), np.linspace(-1,1,10))\n",
    "D = np.sqrt(X*X+Y*Y)\n",
    "sigma, mu = 1.0, 0.0\n",
    "G = np.exp(-( (D-mu)**2 / ( 2.0 * sigma**2 ) ) )\n",
    "print(G)"
   ]
  },
  {
   "cell_type": "markdown",
   "metadata": {
    "_uuid": "389113b4e22ac2f5454686a38fa9f4e2500e4c52"
   },
   "source": [
    "#### 57. How to randomly place p elements in a 2D array? (★★☆)"
   ]
  },
  {
   "cell_type": "code",
   "execution_count": null,
   "metadata": {
    "_uuid": "442c3c5664c0d9dbbe7149a0924e47c4a9699097",
    "execution": {
     "iopub.status.busy": "2025-03-19T04:16:28.774543Z",
     "iopub.status.idle": "2025-03-19T04:16:28.775081Z",
     "shell.execute_reply": "2025-03-19T04:16:28.774774Z"
    },
    "trusted": true
   },
   "outputs": [
    {
     "name": "stdout",
     "output_type": "stream",
     "text": [
      "[[0. 0. 0. 0. 0. 0. 0. 0. 0. 0.]\n",
      " [0. 0. 0. 0. 0. 0. 0. 0. 0. 1.]\n",
      " [0. 0. 0. 0. 0. 0. 0. 0. 0. 0.]\n",
      " [0. 0. 0. 0. 0. 0. 0. 0. 0. 0.]\n",
      " [1. 0. 0. 0. 0. 0. 0. 0. 0. 0.]\n",
      " [0. 0. 0. 0. 0. 0. 0. 0. 0. 0.]\n",
      " [0. 0. 0. 0. 0. 0. 1. 0. 0. 0.]\n",
      " [0. 0. 0. 0. 0. 0. 0. 0. 0. 0.]\n",
      " [0. 0. 0. 0. 0. 0. 0. 0. 0. 0.]\n",
      " [0. 0. 0. 0. 0. 0. 0. 0. 0. 0.]]\n"
     ]
    }
   ],
   "source": [
    "# Author: Divakar\n",
    "\n",
    "n = 10\n",
    "p = 3\n",
    "Z = np.zeros((n,n))\n",
    "np.put(Z, np.random.choice(range(n*n), p, replace=False),1)\n",
    "print(Z)"
   ]
  },
  {
   "cell_type": "markdown",
   "metadata": {
    "_uuid": "ad23d8b28a5016197192b4a6ecdfa61d3c54f49f"
   },
   "source": [
    "#### 58. Subtract the mean of each row of a matrix (★★☆)"
   ]
  },
  {
   "cell_type": "code",
   "execution_count": null,
   "metadata": {
    "_uuid": "62937a93af1f4bd2ee201a0a28d92ad2e39aeadf",
    "execution": {
     "iopub.status.busy": "2025-03-19T04:16:28.775859Z",
     "iopub.status.idle": "2025-03-19T04:16:28.776405Z",
     "shell.execute_reply": "2025-03-19T04:16:28.776108Z"
    },
    "trusted": true
   },
   "outputs": [
    {
     "name": "stdout",
     "output_type": "stream",
     "text": [
      "[[-0.20624855  0.083291    0.30165773 -0.00067624 -0.49134763 -0.2335663\n",
      "  -0.10550013  0.15300851  0.32121931  0.17816229]\n",
      " [ 0.24003231 -0.31686891  0.20323487  0.10576163  0.03514006  0.39792081\n",
      "  -0.12529618  0.15772127 -0.34997951 -0.34766635]\n",
      " [ 0.29630577  0.06084353 -0.02772063  0.0489471   0.39696358 -0.36676106\n",
      "  -0.39730401 -0.27804209  0.40652407 -0.13975627]\n",
      " [ 0.11239729  0.30629811 -0.39150302  0.43929314 -0.19587253 -0.24598822\n",
      "  -0.33516901  0.45896034 -0.46125404  0.31283794]\n",
      " [ 0.30081266 -0.31835868  0.04987725  0.17483269  0.33169832  0.23077225\n",
      "  -0.28579542 -0.3543969  -0.3705119   0.24106975]]\n"
     ]
    }
   ],
   "source": [
    "# Author: Warren Weckesser\n",
    "\n",
    "X = np.random.rand(5, 10)\n",
    "\n",
    "# Recent versions of numpy\n",
    "Y = X - X.mean(axis=1, keepdims=True)\n",
    "\n",
    "# Older versions of numpy\n",
    "Y = X - X.mean(axis=1).reshape(-1, 1)\n",
    "\n",
    "print(Y)"
   ]
  },
  {
   "cell_type": "markdown",
   "metadata": {
    "_uuid": "6dfaee28f6ffc182b31d95b2dd7db135b3cda134"
   },
   "source": [
    "#### 59. How to sort an array by the nth column? (★★☆)"
   ]
  },
  {
   "cell_type": "code",
   "execution_count": null,
   "metadata": {
    "_uuid": "6d6526eff2206d6766e34a8a9d4aa45222304ecc",
    "execution": {
     "iopub.status.busy": "2025-03-19T04:16:28.777264Z",
     "iopub.status.idle": "2025-03-19T04:16:28.778227Z",
     "shell.execute_reply": "2025-03-19T04:16:28.777597Z"
    },
    "trusted": true
   },
   "outputs": [
    {
     "name": "stdout",
     "output_type": "stream",
     "text": [
      "[[3 0 8]\n",
      " [4 5 8]\n",
      " [4 7 0]]\n",
      "[[3 0 8]\n",
      " [4 5 8]\n",
      " [4 7 0]]\n"
     ]
    }
   ],
   "source": [
    "# Author: Steve Tjoa\n",
    "\n",
    "Z = np.random.randint(0,10,(3,3))\n",
    "print(Z)\n",
    "print(Z[Z[:,1].argsort()])"
   ]
  },
  {
   "cell_type": "markdown",
   "metadata": {
    "_uuid": "26c24e107a164a8a931e1458db472aeabc0dd9d1"
   },
   "source": [
    "#### 60. How to tell if a given 2D array has null columns? (★★☆)"
   ]
  },
  {
   "cell_type": "code",
   "execution_count": null,
   "metadata": {
    "_uuid": "dd0d10eb40f387704fb2d5873460e2ff8d40a6a2",
    "execution": {
     "iopub.status.busy": "2025-03-19T04:16:28.779017Z",
     "iopub.status.idle": "2025-03-19T04:16:28.779777Z",
     "shell.execute_reply": "2025-03-19T04:16:28.779377Z"
    },
    "trusted": true
   },
   "outputs": [
    {
     "name": "stdout",
     "output_type": "stream",
     "text": [
      "False\n"
     ]
    }
   ],
   "source": [
    "# Author: Warren Weckesser\n",
    "\n",
    "Z = np.random.randint(0,3,(3,10))\n",
    "print((~Z.any(axis=0)).any())"
   ]
  },
  {
   "cell_type": "markdown",
   "metadata": {
    "_uuid": "c446326eba80f10ee44e69c38975a02b76272c66"
   },
   "source": [
    "#### 61. Find the nearest value from a given value in an array (★★☆)"
   ]
  },
  {
   "cell_type": "code",
   "execution_count": null,
   "metadata": {
    "_uuid": "475de3550f77c7407940a0b31eeb5016286445c4",
    "execution": {
     "iopub.status.busy": "2025-03-19T04:16:28.780629Z",
     "iopub.status.idle": "2025-03-19T04:16:28.781220Z",
     "shell.execute_reply": "2025-03-19T04:16:28.780854Z"
    },
    "trusted": true
   },
   "outputs": [
    {
     "name": "stdout",
     "output_type": "stream",
     "text": [
      "0.507269251861057\n"
     ]
    }
   ],
   "source": [
    "Z = np.random.uniform(0,1,10)\n",
    "z = 0.5\n",
    "m = Z.flat[np.abs(Z - z).argmin()]\n",
    "print(m)"
   ]
  },
  {
   "cell_type": "markdown",
   "metadata": {
    "_uuid": "ed78b6480e33d62936d0454ef9757390456a37e8"
   },
   "source": [
    "#### 62. Considering two arrays with shape (1,3) and (3,1), how to compute their sum using an iterator? (★★☆)"
   ]
  },
  {
   "cell_type": "code",
   "execution_count": null,
   "metadata": {
    "_uuid": "59b473c6731410e9a83cbf30b56fc6463c4ee8a4",
    "execution": {
     "iopub.status.busy": "2025-03-19T04:16:28.782326Z",
     "iopub.status.idle": "2025-03-19T04:16:28.782937Z",
     "shell.execute_reply": "2025-03-19T04:16:28.782605Z"
    },
    "trusted": true
   },
   "outputs": [
    {
     "name": "stdout",
     "output_type": "stream",
     "text": [
      "[[0 1 2]\n",
      " [1 2 3]\n",
      " [2 3 4]]\n"
     ]
    }
   ],
   "source": [
    "A = np.arange(3).reshape(3,1)\n",
    "B = np.arange(3).reshape(1,3)\n",
    "it = np.nditer([A,B,None])\n",
    "for x,y,z in it: z[...] = x + y\n",
    "print(it.operands[2])"
   ]
  },
  {
   "cell_type": "markdown",
   "metadata": {
    "_uuid": "7c4a7f4c7f71603b7803cb77e1c8dc4556378f4b"
   },
   "source": [
    "#### 63. Create an array class that has a name attribute (★★☆)"
   ]
  },
  {
   "cell_type": "code",
   "execution_count": null,
   "metadata": {
    "_uuid": "561bba582d49b158a3d3f9129d7874d8fe74644a",
    "execution": {
     "iopub.status.busy": "2025-03-19T04:16:28.783600Z",
     "iopub.status.idle": "2025-03-19T04:16:28.784130Z",
     "shell.execute_reply": "2025-03-19T04:16:28.783801Z"
    },
    "trusted": true
   },
   "outputs": [
    {
     "name": "stdout",
     "output_type": "stream",
     "text": [
      "range_10\n"
     ]
    }
   ],
   "source": [
    "class NamedArray(np.ndarray):\n",
    "    def __new__(cls, array, name=\"no name\"):\n",
    "        obj = np.asarray(array).view(cls)\n",
    "        obj.name = name\n",
    "        return obj\n",
    "    def __array_finalize__(self, obj):\n",
    "        if obj is None: return\n",
    "        self.info = getattr(obj, 'name', \"no name\")\n",
    "\n",
    "Z = NamedArray(np.arange(10), \"range_10\")\n",
    "print (Z.name)"
   ]
  },
  {
   "cell_type": "markdown",
   "metadata": {
    "_uuid": "28ced8d1105155575199e1e57e16ab27ba7dcb3c"
   },
   "source": [
    "#### 64. Consider a given vector, how to add 1 to each element indexed by a second vector (be careful with repeated indices)? (★★★)"
   ]
  },
  {
   "cell_type": "code",
   "execution_count": null,
   "metadata": {
    "_uuid": "f084a985aaaa6582f0fe1d3a24db309414ee85ed",
    "execution": {
     "iopub.status.busy": "2025-03-19T04:16:28.784732Z",
     "iopub.status.idle": "2025-03-19T04:16:28.785091Z",
     "shell.execute_reply": "2025-03-19T04:16:28.784877Z"
    },
    "trusted": true
   },
   "outputs": [
    {
     "name": "stdout",
     "output_type": "stream",
     "text": [
      "[3. 2. 4. 1. 1. 1. 2. 5. 7. 4.]\n",
      "[ 5.  3.  7.  1.  1.  1.  3.  9. 13.  7.]\n"
     ]
    }
   ],
   "source": [
    "# Author: Brett Olsen\n",
    "\n",
    "Z = np.ones(10)\n",
    "I = np.random.randint(0,len(Z),20)\n",
    "Z += np.bincount(I, minlength=len(Z))\n",
    "print(Z)\n",
    "\n",
    "# Another solution\n",
    "# Author: Bartosz Telenczuk\n",
    "np.add.at(Z, I, 1)\n",
    "print(Z)"
   ]
  },
  {
   "cell_type": "markdown",
   "metadata": {
    "_uuid": "3c1d4443ce35bca0ec477f22957adc49b3da9071"
   },
   "source": [
    "#### 65. How to accumulate elements of a vector (X) to an array (F) based on an index list (I)? (★★★)"
   ]
  },
  {
   "cell_type": "code",
   "execution_count": null,
   "metadata": {
    "_uuid": "6397f06d610a9363b0907cec7fd545c22d34879c",
    "execution": {
     "iopub.status.busy": "2025-03-19T04:16:28.785847Z",
     "iopub.status.idle": "2025-03-19T04:16:28.786492Z",
     "shell.execute_reply": "2025-03-19T04:16:28.786234Z"
    },
    "trusted": true
   },
   "outputs": [
    {
     "name": "stdout",
     "output_type": "stream",
     "text": [
      "[0. 7. 0. 6. 5. 0. 0. 0. 0. 3.]\n"
     ]
    }
   ],
   "source": [
    "# Author: Alan G Isaac\n",
    "\n",
    "X = [1,2,3,4,5,6]\n",
    "I = [1,3,9,3,4,1]\n",
    "F = np.bincount(I,X)\n",
    "print(F)"
   ]
  },
  {
   "cell_type": "markdown",
   "metadata": {
    "_uuid": "3ee7aa17d1e2574ff7c9467ce117a84bf1457a90"
   },
   "source": [
    "#### 66. Considering a (w,h,3) image of (dtype=ubyte), compute the number of unique colors (★★★)"
   ]
  },
  {
   "cell_type": "code",
   "execution_count": null,
   "metadata": {
    "_uuid": "c29b77b23a40a737a9710d16ba88c1d32274a905",
    "execution": {
     "iopub.status.busy": "2025-03-19T04:16:28.787311Z",
     "iopub.status.idle": "2025-03-19T04:16:28.787659Z",
     "shell.execute_reply": "2025-03-19T04:16:28.787458Z"
    },
    "trusted": true
   },
   "outputs": [
    {
     "ename": "OverflowError",
     "evalue": "Python integer 65536 out of bounds for uint8",
     "output_type": "error",
     "traceback": [
      "\u001b[31m---------------------------------------------------------------------------\u001b[39m",
      "\u001b[31mOverflowError\u001b[39m                             Traceback (most recent call last)",
      "\u001b[36mCell\u001b[39m\u001b[36m \u001b[39m\u001b[32mIn[44]\u001b[39m\u001b[32m, line 7\u001b[39m\n\u001b[32m      4\u001b[39m I = np.random.randint(\u001b[32m0\u001b[39m,\u001b[32m2\u001b[39m,(h,w,\u001b[32m3\u001b[39m)).astype(np.ubyte)\n\u001b[32m      5\u001b[39m \u001b[38;5;66;03m#Note that we should compute 256*256 first. \u001b[39;00m\n\u001b[32m      6\u001b[39m \u001b[38;5;66;03m#Otherwise numpy will only promote F.dtype to 'uint16' and overfolw will occur\u001b[39;00m\n\u001b[32m----> \u001b[39m\u001b[32m7\u001b[39m F = \u001b[43mI\u001b[49m\u001b[43m[\u001b[49m\u001b[43m.\u001b[49m\u001b[43m.\u001b[49m\u001b[43m.\u001b[49m\u001b[43m,\u001b[49m\u001b[32;43m0\u001b[39;49m\u001b[43m]\u001b[49m\u001b[43m*\u001b[49m\u001b[43m(\u001b[49m\u001b[32;43m256\u001b[39;49m\u001b[43m*\u001b[49m\u001b[32;43m256\u001b[39;49m\u001b[43m)\u001b[49m + I[...,\u001b[32m1\u001b[39m]*\u001b[32m256\u001b[39m +I[...,\u001b[32m2\u001b[39m]\n\u001b[32m      8\u001b[39m n = \u001b[38;5;28mlen\u001b[39m(np.unique(F))\n\u001b[32m      9\u001b[39m \u001b[38;5;28mprint\u001b[39m(n)\n",
      "\u001b[31mOverflowError\u001b[39m: Python integer 65536 out of bounds for uint8"
     ]
    }
   ],
   "source": [
    "# Author: Nadav Horesh\n",
    "\n",
    "w,h = 16,16\n",
    "I = np.random.randint(0,2,(h,w,3)).astype(np.ubyte)\n",
    "#Note that we should compute 256*256 first. \n",
    "#Otherwise numpy will only promote F.dtype to 'uint16' and overfolw will occur\n",
    "F = I[...,0]*(256*256) + I[...,1]*256 +I[...,2]\n",
    "n = len(np.unique(F))\n",
    "print(n)"
   ]
  },
  {
   "cell_type": "markdown",
   "metadata": {
    "_uuid": "1f437c758e09b1d20cdb7db2d58806768c3914e1"
   },
   "source": [
    "#### 67. Considering a four dimensions array, how to get sum over the last two axis at once? (★★★)"
   ]
  },
  {
   "cell_type": "code",
   "execution_count": null,
   "metadata": {
    "_uuid": "acbe18b60c84054f6744757f00d565de06c70084",
    "execution": {
     "iopub.status.busy": "2025-03-19T04:16:28.788218Z",
     "iopub.status.idle": "2025-03-19T04:16:28.788534Z",
     "shell.execute_reply": "2025-03-19T04:16:28.788367Z"
    },
    "trusted": true
   },
   "outputs": [
    {
     "name": "stdout",
     "output_type": "stream",
     "text": [
      "[[58 60 58 62]\n",
      " [73 44 40 38]\n",
      " [40 50 89 64]]\n",
      "[[58 60 58 62]\n",
      " [73 44 40 38]\n",
      " [40 50 89 64]]\n"
     ]
    }
   ],
   "source": [
    "A = np.random.randint(0,10,(3,4,3,4))\n",
    "# solution by passing a tuple of axes (introduced in numpy 1.7.0)\n",
    "sum = A.sum(axis=(-2,-1))\n",
    "print(sum)\n",
    "# solution by flattening the last two dimensions into one\n",
    "# (useful for functions that don't accept tuples for axis argument)\n",
    "sum = A.reshape(A.shape[:-2] + (-1,)).sum(axis=-1)\n",
    "print(sum)"
   ]
  },
  {
   "cell_type": "markdown",
   "metadata": {
    "_uuid": "69e45dc9ae67c5a964c1f44e7d434c12356e55f6"
   },
   "source": [
    "#### 68. Considering a one-dimensional vector D, how to compute means of subsets of D using a vector S of same size describing subset  indices? (★★★)"
   ]
  },
  {
   "cell_type": "code",
   "execution_count": null,
   "metadata": {
    "_uuid": "a9fe735c39c47e3c43a2b475c3ca3ecf72aa0985",
    "execution": {
     "iopub.status.busy": "2025-03-19T04:16:28.789171Z",
     "iopub.status.idle": "2025-03-19T04:16:28.789511Z",
     "shell.execute_reply": "2025-03-19T04:16:28.789317Z"
    },
    "trusted": true
   },
   "outputs": [
    {
     "name": "stdout",
     "output_type": "stream",
     "text": [
      "[0.5348281  0.62238941 0.353396   0.43930555 0.42388591 0.67292994\n",
      " 0.52743501 0.57365338 0.65328764 0.52231652]\n"
     ]
    },
    {
     "ename": "ModuleNotFoundError",
     "evalue": "No module named 'pandas'",
     "output_type": "error",
     "traceback": [
      "\u001b[31m---------------------------------------------------------------------------\u001b[39m",
      "\u001b[31mModuleNotFoundError\u001b[39m                       Traceback (most recent call last)",
      "\u001b[36mCell\u001b[39m\u001b[36m \u001b[39m\u001b[32mIn[46]\u001b[39m\u001b[32m, line 11\u001b[39m\n\u001b[32m      8\u001b[39m \u001b[38;5;28mprint\u001b[39m(D_means)\n\u001b[32m     10\u001b[39m \u001b[38;5;66;03m# Pandas solution as a reference due to more intuitive code\u001b[39;00m\n\u001b[32m---> \u001b[39m\u001b[32m11\u001b[39m \u001b[38;5;28;01mimport\u001b[39;00m\u001b[38;5;250m \u001b[39m\u001b[34;01mpandas\u001b[39;00m\u001b[38;5;250m \u001b[39m\u001b[38;5;28;01mas\u001b[39;00m\u001b[38;5;250m \u001b[39m\u001b[34;01mpd\u001b[39;00m\n\u001b[32m     12\u001b[39m \u001b[38;5;28mprint\u001b[39m(pd.Series(D).groupby(S).mean())\n",
      "\u001b[31mModuleNotFoundError\u001b[39m: No module named 'pandas'"
     ]
    }
   ],
   "source": [
    "# Author: Jaime Fernández del Río\n",
    "\n",
    "D = np.random.uniform(0,1,100)\n",
    "S = np.random.randint(0,10,100)\n",
    "D_sums = np.bincount(S, weights=D)\n",
    "D_counts = np.bincount(S)\n",
    "D_means = D_sums / D_counts\n",
    "print(D_means)\n",
    "\n",
    "# Pandas solution as a reference due to more intuitive code\n",
    "import pandas as pd\n",
    "print(pd.Series(D).groupby(S).mean())"
   ]
  },
  {
   "cell_type": "markdown",
   "metadata": {
    "_uuid": "620cc111a526a41f264e47d9738fb2d27ef1aa6e"
   },
   "source": [
    "#### 69. How to get the diagonal of a dot product? (★★★)"
   ]
  },
  {
   "cell_type": "code",
   "execution_count": null,
   "metadata": {
    "_uuid": "752296a67bbe85f6b35a51255964822fd4373a36",
    "execution": {
     "iopub.status.busy": "2025-03-19T04:16:28.790353Z",
     "iopub.status.idle": "2025-03-19T04:16:28.790729Z",
     "shell.execute_reply": "2025-03-19T04:16:28.790509Z"
    },
    "trusted": true
   },
   "outputs": [
    {
     "data": {
      "text/plain": [
       "array([0.94530688, 1.89159903, 0.94198748, 0.51837658, 0.72138064])"
      ]
     },
     "execution_count": 47,
     "metadata": {},
     "output_type": "execute_result"
    }
   ],
   "source": [
    "# Author: Mathieu Blondel\n",
    "\n",
    "A = np.random.uniform(0,1,(5,5))\n",
    "B = np.random.uniform(0,1,(5,5))\n",
    "\n",
    "# Slow version  \n",
    "np.diag(np.dot(A, B))\n",
    "\n",
    "# Fast version\n",
    "np.sum(A * B.T, axis=1)\n",
    "\n",
    "# Faster version\n",
    "np.einsum(\"ij,ji->i\", A, B)"
   ]
  },
  {
   "cell_type": "markdown",
   "metadata": {
    "_uuid": "e117871c83cf8f95effaeaf57c8e39d342173ac8"
   },
   "source": [
    "#### 70. Consider the vector \\[1, 2, 3, 4, 5\\], how to build a new vector with 3 consecutive zeros interleaved between each value? (★★★)"
   ]
  },
  {
   "cell_type": "code",
   "execution_count": null,
   "metadata": {
    "_uuid": "6ca8fdad8b10470dc10098a00b5a82df503b9f30",
    "execution": {
     "iopub.status.busy": "2025-03-19T04:16:28.791753Z",
     "iopub.status.idle": "2025-03-19T04:16:28.792313Z",
     "shell.execute_reply": "2025-03-19T04:16:28.792016Z"
    },
    "trusted": true
   },
   "outputs": [
    {
     "name": "stdout",
     "output_type": "stream",
     "text": [
      "[1. 0. 0. 0. 2. 0. 0. 0. 3. 0. 0. 0. 4. 0. 0. 0. 5.]\n"
     ]
    }
   ],
   "source": [
    "# Author: Warren Weckesser\n",
    "\n",
    "Z = np.array([1,2,3,4,5])\n",
    "nz = 3\n",
    "Z0 = np.zeros(len(Z) + (len(Z)-1)*(nz))\n",
    "Z0[::nz+1] = Z\n",
    "print(Z0)"
   ]
  },
  {
   "cell_type": "markdown",
   "metadata": {
    "_uuid": "967288203450de09d5761904c7911e16c842b6b3"
   },
   "source": [
    "#### 71. Consider an array of dimension (5,5,3), how to mulitply it by an array with dimensions (5,5)? (★★★)"
   ]
  },
  {
   "cell_type": "code",
   "execution_count": null,
   "metadata": {
    "_uuid": "ce08e9ef2d47e6b39da8c3587ae27223aaeebdff",
    "execution": {
     "iopub.status.busy": "2025-03-19T04:16:28.793247Z",
     "iopub.status.idle": "2025-03-19T04:16:28.793832Z",
     "shell.execute_reply": "2025-03-19T04:16:28.793498Z"
    },
    "trusted": true
   },
   "outputs": [
    {
     "name": "stdout",
     "output_type": "stream",
     "text": [
      "[[[2. 2. 2.]\n",
      "  [2. 2. 2.]\n",
      "  [2. 2. 2.]\n",
      "  [2. 2. 2.]\n",
      "  [2. 2. 2.]]\n",
      "\n",
      " [[2. 2. 2.]\n",
      "  [2. 2. 2.]\n",
      "  [2. 2. 2.]\n",
      "  [2. 2. 2.]\n",
      "  [2. 2. 2.]]\n",
      "\n",
      " [[2. 2. 2.]\n",
      "  [2. 2. 2.]\n",
      "  [2. 2. 2.]\n",
      "  [2. 2. 2.]\n",
      "  [2. 2. 2.]]\n",
      "\n",
      " [[2. 2. 2.]\n",
      "  [2. 2. 2.]\n",
      "  [2. 2. 2.]\n",
      "  [2. 2. 2.]\n",
      "  [2. 2. 2.]]\n",
      "\n",
      " [[2. 2. 2.]\n",
      "  [2. 2. 2.]\n",
      "  [2. 2. 2.]\n",
      "  [2. 2. 2.]\n",
      "  [2. 2. 2.]]]\n"
     ]
    }
   ],
   "source": [
    "A = np.ones((5,5,3))\n",
    "B = 2*np.ones((5,5))\n",
    "print(A * B[:,:,None])"
   ]
  },
  {
   "cell_type": "markdown",
   "metadata": {
    "_uuid": "899841bbc67e2a7e0f51536f3191625078f29864"
   },
   "source": [
    "#### 72. How to swap two rows of an array? (★★★)"
   ]
  },
  {
   "cell_type": "code",
   "execution_count": null,
   "metadata": {
    "_uuid": "c1e1056d07c1b9be34aa5c71beb522b57b450bc3",
    "execution": {
     "iopub.status.busy": "2025-03-19T04:16:28.794850Z",
     "iopub.status.idle": "2025-03-19T04:16:28.795560Z",
     "shell.execute_reply": "2025-03-19T04:16:28.795169Z"
    },
    "trusted": true
   },
   "outputs": [
    {
     "name": "stdout",
     "output_type": "stream",
     "text": [
      "[[ 5  6  7  8  9]\n",
      " [ 0  1  2  3  4]\n",
      " [10 11 12 13 14]\n",
      " [15 16 17 18 19]\n",
      " [20 21 22 23 24]]\n"
     ]
    }
   ],
   "source": [
    "# Author: Eelco Hoogendoorn\n",
    "\n",
    "A = np.arange(25).reshape(5,5)\n",
    "A[[0,1]] = A[[1,0]]\n",
    "print(A)"
   ]
  },
  {
   "cell_type": "markdown",
   "metadata": {
    "_uuid": "27b3d2e02f5c0a32071d3efbf9528a5a0a54d763"
   },
   "source": [
    "#### 73. Consider a set of 10 triplets describing 10 triangles (with shared vertices), find the set of unique line segments composing all the  triangles (★★★)"
   ]
  },
  {
   "cell_type": "code",
   "execution_count": null,
   "metadata": {
    "_uuid": "d585765a886d99e53361320c28a1e6aa5e0e4ebc",
    "execution": {
     "iopub.status.busy": "2025-03-19T04:16:28.796308Z",
     "iopub.status.idle": "2025-03-19T04:16:28.796947Z",
     "shell.execute_reply": "2025-03-19T04:16:28.796553Z"
    },
    "trusted": true
   },
   "outputs": [
    {
     "name": "stdout",
     "output_type": "stream",
     "text": [
      "[( 2, 62) ( 2, 71) (11, 26) (11, 76) (22, 79) (22, 91) (26, 76) (30, 43)\n",
      " (30, 62) (33, 56) (33, 84) (33, 93) (33, 97) (43, 62) (44, 63) (44, 65)\n",
      " (54, 65) (54, 94) (56, 93) (62, 71) (63, 65) (65, 94) (74, 85) (74, 96)\n",
      " (79, 91) (83, 93) (83, 96) (84, 97) (85, 96) (93, 96)]\n"
     ]
    }
   ],
   "source": [
    "# Author: Nicolas P. Rougier\n",
    "\n",
    "faces = np.random.randint(0,100,(10,3))\n",
    "F = np.roll(faces.repeat(2,axis=1),-1,axis=1)\n",
    "F = F.reshape(len(F)*3,2)\n",
    "F = np.sort(F,axis=1)\n",
    "G = F.view( dtype=[('p0',F.dtype),('p1',F.dtype)] )\n",
    "G = np.unique(G)\n",
    "print(G)"
   ]
  },
  {
   "cell_type": "markdown",
   "metadata": {
    "_uuid": "4822e0e421b959ecd054474216e08fcba9aaced8"
   },
   "source": [
    "#### 74. Given an array C that is a bincount, how to produce an array A such that np.bincount(A) == C? (★★★)"
   ]
  },
  {
   "cell_type": "code",
   "execution_count": null,
   "metadata": {
    "_uuid": "fea19dbeb6be018c63a67319fc6c6abe9d3b6dfb",
    "execution": {
     "iopub.status.busy": "2025-03-19T04:16:28.797693Z",
     "iopub.status.idle": "2025-03-19T04:16:28.798294Z",
     "shell.execute_reply": "2025-03-19T04:16:28.797923Z"
    },
    "trusted": true
   },
   "outputs": [
    {
     "name": "stdout",
     "output_type": "stream",
     "text": [
      "[1 1 2 3 4 4 6]\n"
     ]
    }
   ],
   "source": [
    "# Author: Jaime Fernández del Río\n",
    "\n",
    "C = np.bincount([1,1,2,3,4,4,6])\n",
    "A = np.repeat(np.arange(len(C)), C)\n",
    "print(A)"
   ]
  },
  {
   "cell_type": "markdown",
   "metadata": {
    "_uuid": "db98ac94341682cad0c85dc68c7dba1572346778"
   },
   "source": [
    "#### 75. How to compute averages using a sliding window over an array? (★★★)"
   ]
  },
  {
   "cell_type": "code",
   "execution_count": null,
   "metadata": {
    "_uuid": "aaa1f7e514e17e55758647e682d746de91fe0c52",
    "execution": {
     "iopub.status.busy": "2025-03-19T04:16:28.799242Z",
     "iopub.status.idle": "2025-03-19T04:16:28.799774Z",
     "shell.execute_reply": "2025-03-19T04:16:28.799482Z"
    },
    "trusted": true
   },
   "outputs": [
    {
     "name": "stdout",
     "output_type": "stream",
     "text": [
      "[ 1.  2.  3.  4.  5.  6.  7.  8.  9. 10. 11. 12. 13. 14. 15. 16. 17. 18.]\n"
     ]
    }
   ],
   "source": [
    "# Author: Jaime Fernández del Río\n",
    "\n",
    "def moving_average(a, n=3) :\n",
    "    ret = np.cumsum(a, dtype=float)\n",
    "    ret[n:] = ret[n:] - ret[:-n]\n",
    "    return ret[n - 1:] / n\n",
    "Z = np.arange(20)\n",
    "print(moving_average(Z, n=3))"
   ]
  },
  {
   "cell_type": "markdown",
   "metadata": {
    "_uuid": "794378d0e03ed3462a6f87827ffae487496cf85d"
   },
   "source": [
    "#### 76. Consider a one-dimensional array Z, build a two-dimensional array whose first row is (Z\\[0\\],Z\\[1\\],Z\\[2\\]) and each subsequent row is  shifted by 1 (last row should be (Z\\[-3\\],Z\\[-2\\],Z\\[-1\\]) (★★★)"
   ]
  },
  {
   "cell_type": "code",
   "execution_count": null,
   "metadata": {
    "_uuid": "9ef5a36a4d0ce67c1ed4327e983105fc5ba56fb3",
    "execution": {
     "iopub.status.busy": "2025-03-19T04:16:28.800502Z",
     "iopub.status.idle": "2025-03-19T04:16:28.801076Z",
     "shell.execute_reply": "2025-03-19T04:16:28.800724Z"
    },
    "trusted": true
   },
   "outputs": [
    {
     "name": "stdout",
     "output_type": "stream",
     "text": [
      "[[0 1 2]\n",
      " [1 2 3]\n",
      " [2 3 4]\n",
      " [3 4 5]\n",
      " [4 5 6]\n",
      " [5 6 7]\n",
      " [6 7 8]\n",
      " [7 8 9]]\n"
     ]
    }
   ],
   "source": [
    "# Author: Joe Kington / Erik Rigtorp\n",
    "from numpy.lib import stride_tricks\n",
    "\n",
    "def rolling(a, window):\n",
    "    shape = (a.size - window + 1, window)\n",
    "    strides = (a.itemsize, a.itemsize)\n",
    "    return stride_tricks.as_strided(a, shape=shape, strides=strides)\n",
    "Z = rolling(np.arange(10), 3)\n",
    "print(Z)"
   ]
  },
  {
   "cell_type": "markdown",
   "metadata": {
    "_uuid": "f5349e34f831b12ac2f7b75bc67a065ba32d71df"
   },
   "source": [
    "#### 77. How to negate a boolean, or to change the sign of a float inplace? (★★★)"
   ]
  },
  {
   "cell_type": "code",
   "execution_count": null,
   "metadata": {
    "_uuid": "f0a9b5c8c0b3667c6445ef1f9261246571f3d0e6",
    "execution": {
     "iopub.status.busy": "2025-03-19T04:16:28.801798Z",
     "iopub.status.idle": "2025-03-19T04:16:28.802539Z",
     "shell.execute_reply": "2025-03-19T04:16:28.802220Z"
    },
    "trusted": true
   },
   "outputs": [
    {
     "data": {
      "text/plain": [
       "array([ 0.134925  , -0.49399037,  0.66179074, -0.6648038 ,  0.15297847,\n",
       "        0.45364214,  0.28266876,  0.91753949, -0.72942149,  0.66775383,\n",
       "        0.48170794,  0.39977082, -0.90448819,  0.49517091,  0.66925437,\n",
       "       -0.74756584,  0.37669754,  0.41819262,  0.09286951,  0.98948565,\n",
       "        0.38552712, -0.32911413,  0.96941352, -0.94286183, -0.20937218,\n",
       "       -0.14467293,  0.21771809, -0.11864386,  0.1278121 , -0.62788152,\n",
       "       -0.49220609,  0.38083648,  0.2335297 , -0.74134084,  0.67003984,\n",
       "       -0.02695914, -0.73291857,  0.35282929,  0.52306491,  0.47817474,\n",
       "       -0.170962  ,  0.24827658, -0.60238721, -0.58496962,  0.69448454,\n",
       "        0.70392794,  0.72540346, -0.59824409, -0.45588676, -0.55336387,\n",
       "        0.32904965,  0.88035814, -0.39382702, -0.92913758,  0.08276131,\n",
       "       -0.82309426, -0.53460688, -0.58625268,  0.31920041,  0.41106204,\n",
       "        0.49777712,  0.27906759,  0.36726741,  0.59591891,  0.63569754,\n",
       "       -0.13713852,  0.51311807, -0.59359379,  0.20821618,  0.30595667,\n",
       "        0.47109425,  0.21592006, -0.87459593, -0.91121826,  0.2285779 ,\n",
       "        0.8914249 ,  0.44823018,  0.39952114, -0.75345468,  0.83432877,\n",
       "       -0.86794534, -0.68472898,  0.35323077, -0.47182592, -0.63171644,\n",
       "        0.1732122 , -0.61734657,  0.58753374, -0.75421639,  0.1875323 ,\n",
       "       -0.97878205,  0.47678695,  0.21715284, -0.78409524, -0.11109573,\n",
       "        0.30905645,  0.21098597, -0.7124968 ,  0.64499178, -0.84922938])"
      ]
     },
     "execution_count": 55,
     "metadata": {},
     "output_type": "execute_result"
    }
   ],
   "source": [
    "# Author: Nathaniel J. Smith\n",
    "\n",
    "Z = np.random.randint(0,2,100)\n",
    "np.logical_not(Z, out=Z)\n",
    "\n",
    "Z = np.random.uniform(-1.0,1.0,100)\n",
    "np.negative(Z, out=Z)"
   ]
  },
  {
   "cell_type": "markdown",
   "metadata": {
    "_uuid": "ce309f54e1032b505c9fced97839bf257bc2cf64"
   },
   "source": [
    "#### 78. Consider 2 sets of points P0,P1 describing lines (2d) and a point p, how to compute distance from p to each line i  (P0\\[i\\],P1\\[i\\])? (★★★)"
   ]
  },
  {
   "cell_type": "code",
   "execution_count": null,
   "metadata": {
    "_uuid": "b5d3bc01c0d08e0f1d7e5c08d737b7bdf138b19c",
    "execution": {
     "iopub.status.busy": "2025-03-19T04:16:28.803790Z",
     "iopub.status.idle": "2025-03-19T04:16:28.804325Z",
     "shell.execute_reply": "2025-03-19T04:16:28.804029Z"
    },
    "trusted": true
   },
   "outputs": [
    {
     "name": "stdout",
     "output_type": "stream",
     "text": [
      "[10.59918048  0.50907201  0.41129225  4.46273058 12.74550006  3.44135837\n",
      "  3.7397425   2.27924869  5.03762525  1.7277246 ]\n"
     ]
    }
   ],
   "source": [
    "def distance(P0, P1, p):\n",
    "    T = P1 - P0\n",
    "    L = (T**2).sum(axis=1)\n",
    "    U = -((P0[:,0]-p[...,0])*T[:,0] + (P0[:,1]-p[...,1])*T[:,1]) / L\n",
    "    U = U.reshape(len(U),1)\n",
    "    D = P0 + U*T - p\n",
    "    return np.sqrt((D**2).sum(axis=1))\n",
    "\n",
    "P0 = np.random.uniform(-10,10,(10,2))\n",
    "P1 = np.random.uniform(-10,10,(10,2))\n",
    "p  = np.random.uniform(-10,10,( 1,2))\n",
    "print(distance(P0, P1, p))"
   ]
  },
  {
   "cell_type": "markdown",
   "metadata": {
    "_uuid": "df3a094eb31c73f48bfb72132dadbe47a69e8bb4"
   },
   "source": [
    "#### 79. Consider 2 sets of points P0,P1 describing lines (2d) and a set of points P, how to compute distance from each point j (P\\[j\\]) to each line i (P0\\[i\\],P1\\[i\\])? (★★★)"
   ]
  },
  {
   "cell_type": "code",
   "execution_count": null,
   "metadata": {
    "_uuid": "1fdccdc0a96f92195c8b57bbc821708d86fba2be",
    "execution": {
     "iopub.status.busy": "2025-03-19T04:16:28.805459Z",
     "iopub.status.idle": "2025-03-19T04:16:28.805988Z",
     "shell.execute_reply": "2025-03-19T04:16:28.805688Z"
    },
    "trusted": true
   },
   "outputs": [
    {
     "name": "stdout",
     "output_type": "stream",
     "text": [
      "[[ 9.88096598  0.91417577  3.64267499  0.26447988 16.61806187  5.24374762\n",
      "   6.04315754  2.54592456  1.50066278  4.02670508]\n",
      " [ 9.55182944  6.49840165  1.09300573  9.07201308  7.07053904  5.45604048\n",
      "   3.55227122  7.27680751  5.27312426  3.47111068]\n",
      " [ 4.69341969  7.21292424  4.7476612  15.69221524  1.01830699  0.87396259\n",
      "   7.4183786  12.66170506  2.87486417  4.27641492]\n",
      " [ 4.64644297  3.3286922   1.71873656  3.78263666 14.04846284  0.08092317\n",
      "   5.91367731  0.83387428  2.78476946  6.3776107 ]\n",
      " [ 0.31575636  7.39622605  6.28098092  5.09884511 13.81948313  4.939555\n",
      "   8.04521081  1.49521876  7.79763883 10.40394487]\n",
      " [ 5.4382302   4.26487454 13.13465248 14.77811916  4.48767161  9.60188777\n",
      "   0.95505089  7.23645484  9.05560444  7.15133884]\n",
      " [ 4.32596762  3.18987382  2.13082242  4.32339793 13.53547442  0.21481661\n",
      "   5.54245192  0.36091594  2.89397473  6.23181942]\n",
      " [ 8.22409699  7.6008245   0.76850204 11.91092498  4.29094974  4.26821533\n",
      "   5.75856961  9.91349472  5.10243892  4.60808531]\n",
      " [ 4.34876423  2.13252943 12.49548949 15.89587266  3.00020663  8.41166056\n",
      "   1.08365762  8.97331594  7.29280953  5.0147296 ]\n",
      " [ 0.30786263  5.15925642  9.23053243 18.60487005  1.096382    3.45370717\n",
      "   7.48788321 14.05658962  0.73196313  2.27571086]]\n"
     ]
    }
   ],
   "source": [
    "# Author: Italmassov Kuanysh\n",
    "\n",
    "# based on distance function from previous question\n",
    "P0 = np.random.uniform(-10, 10, (10,2))\n",
    "P1 = np.random.uniform(-10,10,(10,2))\n",
    "p = np.random.uniform(-10, 10, (10,2))\n",
    "print(np.array([distance(P0,P1,p_i) for p_i in p]))"
   ]
  },
  {
   "cell_type": "markdown",
   "metadata": {
    "_uuid": "4cf8d4a09224f87c8df4de7af1fb6bd79e255769"
   },
   "source": [
    "#### 80. Consider an arbitrary array, write a function that extract a subpart with a fixed shape and centered on a given element (pad with a `fill` value when necessary) (★★★)"
   ]
  },
  {
   "cell_type": "code",
   "execution_count": null,
   "metadata": {
    "_uuid": "bd0f84fa830cff3baa5923ed8766475674375685",
    "execution": {
     "iopub.status.busy": "2025-03-19T04:16:28.807046Z",
     "iopub.status.idle": "2025-03-19T04:16:28.807653Z",
     "shell.execute_reply": "2025-03-19T04:16:28.807286Z"
    },
    "trusted": true
   },
   "outputs": [
    {
     "ename": "IndexError",
     "evalue": "only integers, slices (`:`), ellipsis (`...`), numpy.newaxis (`None`) and integer or boolean arrays are valid indices",
     "output_type": "error",
     "traceback": [
      "\u001b[31m---------------------------------------------------------------------------\u001b[39m",
      "\u001b[31mIndexError\u001b[39m                                Traceback (most recent call last)",
      "\u001b[36mCell\u001b[39m\u001b[36m \u001b[39m\u001b[32mIn[58]\u001b[39m\u001b[32m, line 25\u001b[39m\n\u001b[32m     23\u001b[39m r = [\u001b[38;5;28mslice\u001b[39m(start,stop) \u001b[38;5;28;01mfor\u001b[39;00m start,stop \u001b[38;5;129;01min\u001b[39;00m \u001b[38;5;28mzip\u001b[39m(R_start,R_stop)]\n\u001b[32m     24\u001b[39m z = [\u001b[38;5;28mslice\u001b[39m(start,stop) \u001b[38;5;28;01mfor\u001b[39;00m start,stop \u001b[38;5;129;01min\u001b[39;00m \u001b[38;5;28mzip\u001b[39m(Z_start,Z_stop)]\n\u001b[32m---> \u001b[39m\u001b[32m25\u001b[39m R[r] = \u001b[43mZ\u001b[49m\u001b[43m[\u001b[49m\u001b[43mz\u001b[49m\u001b[43m]\u001b[49m\n\u001b[32m     26\u001b[39m \u001b[38;5;28mprint\u001b[39m(Z)\n\u001b[32m     27\u001b[39m \u001b[38;5;28mprint\u001b[39m(R)\n",
      "\u001b[31mIndexError\u001b[39m: only integers, slices (`:`), ellipsis (`...`), numpy.newaxis (`None`) and integer or boolean arrays are valid indices"
     ]
    }
   ],
   "source": [
    "# Author: Nicolas Rougier\n",
    "\n",
    "Z = np.random.randint(0,10,(10,10))\n",
    "shape = (5,5)\n",
    "fill  = 0\n",
    "position = (1,1)\n",
    "\n",
    "R = np.ones(shape, dtype=Z.dtype)*fill\n",
    "P  = np.array(list(position)).astype(int)\n",
    "Rs = np.array(list(R.shape)).astype(int)\n",
    "Zs = np.array(list(Z.shape)).astype(int)\n",
    "\n",
    "R_start = np.zeros((len(shape),)).astype(int)\n",
    "R_stop  = np.array(list(shape)).astype(int)\n",
    "Z_start = (P-Rs//2)\n",
    "Z_stop  = (P+Rs//2)+Rs%2\n",
    "\n",
    "R_start = (R_start - np.minimum(Z_start,0)).tolist()\n",
    "Z_start = (np.maximum(Z_start,0)).tolist()\n",
    "R_stop = np.maximum(R_start, (R_stop - np.maximum(Z_stop-Zs,0))).tolist()\n",
    "Z_stop = (np.minimum(Z_stop,Zs)).tolist()\n",
    "\n",
    "r = [slice(start,stop) for start,stop in zip(R_start,R_stop)]\n",
    "z = [slice(start,stop) for start,stop in zip(Z_start,Z_stop)]\n",
    "R[r] = Z[z]\n",
    "print(Z)\n",
    "print(R)"
   ]
  },
  {
   "cell_type": "markdown",
   "metadata": {
    "_uuid": "8c82f8a6f87f80e600419bc6e3728b21dbc4b8ff"
   },
   "source": [
    "#### 81. Consider an array Z = \\[1,2,3,4,5,6,7,8,9,10,11,12,13,14\\], how to generate an array R = \\[\\[1,2,3,4\\], \\[2,3,4,5\\], \\[3,4,5,6\\], ..., \\[11,12,13,14\\]\\]? (★★★)"
   ]
  },
  {
   "cell_type": "code",
   "execution_count": null,
   "metadata": {
    "_uuid": "bef941cec7f009e83a39913705597ef1085a25b3",
    "execution": {
     "iopub.status.busy": "2025-03-19T04:16:28.808488Z",
     "iopub.status.idle": "2025-03-19T04:16:28.809037Z",
     "shell.execute_reply": "2025-03-19T04:16:28.808719Z"
    },
    "trusted": true
   },
   "outputs": [
    {
     "name": "stdout",
     "output_type": "stream",
     "text": [
      "[[ 1  2  3  4]\n",
      " [ 2  3  4  5]\n",
      " [ 3  4  5  6]\n",
      " [ 4  5  6  7]\n",
      " [ 5  6  7  8]\n",
      " [ 6  7  8  9]\n",
      " [ 7  8  9 10]\n",
      " [ 8  9 10 11]\n",
      " [ 9 10 11 12]\n",
      " [10 11 12 13]\n",
      " [11 12 13 14]]\n"
     ]
    }
   ],
   "source": [
    "# Author: Stefan van der Walt\n",
    "\n",
    "Z = np.arange(1,15,dtype=np.uint32)\n",
    "R = stride_tricks.as_strided(Z,(11,4),(4,4))\n",
    "print(R)"
   ]
  },
  {
   "cell_type": "markdown",
   "metadata": {
    "_uuid": "657e96419a48dfb4bc697876935cef0e6cdcb8f5"
   },
   "source": [
    "#### 82. Compute a matrix rank (★★★)"
   ]
  },
  {
   "cell_type": "code",
   "execution_count": null,
   "metadata": {
    "_uuid": "10403fe400f5d3cdeb5725cb628830230c754ec1",
    "execution": {
     "iopub.status.busy": "2025-03-19T04:16:28.810135Z",
     "iopub.status.idle": "2025-03-19T04:16:28.810649Z",
     "shell.execute_reply": "2025-03-19T04:16:28.810378Z"
    },
    "trusted": true
   },
   "outputs": [
    {
     "name": "stdout",
     "output_type": "stream",
     "text": [
      "10\n"
     ]
    }
   ],
   "source": [
    "# Author: Stefan van der Walt\n",
    "\n",
    "Z = np.random.uniform(0,1,(10,10))\n",
    "U, S, V = np.linalg.svd(Z) # Singular Value Decomposition\n",
    "rank = np.sum(S > 1e-10)\n",
    "print(rank)"
   ]
  },
  {
   "cell_type": "markdown",
   "metadata": {
    "_uuid": "24b86507600d4f283f09b3117a0b9266446e5b98"
   },
   "source": [
    "#### 83. How to find the most frequent value in an array?"
   ]
  },
  {
   "cell_type": "code",
   "execution_count": null,
   "metadata": {
    "_uuid": "bc112b94dc08691f315afb878bdd2c52cbb4c3bc",
    "execution": {
     "iopub.status.busy": "2025-03-19T04:16:28.811491Z",
     "iopub.status.idle": "2025-03-19T04:16:28.812195Z",
     "shell.execute_reply": "2025-03-19T04:16:28.811863Z"
    },
    "trusted": true
   },
   "outputs": [
    {
     "name": "stdout",
     "output_type": "stream",
     "text": [
      "3\n"
     ]
    }
   ],
   "source": [
    "Z = np.random.randint(0,10,50)\n",
    "print(np.bincount(Z).argmax())"
   ]
  },
  {
   "cell_type": "markdown",
   "metadata": {
    "_uuid": "62f38d5b2a9486d69d708d91a2ff76c52b5e409e"
   },
   "source": [
    "#### 84. Extract all the contiguous 3x3 blocks from a random 10x10 matrix (★★★)"
   ]
  },
  {
   "cell_type": "code",
   "execution_count": null,
   "metadata": {
    "_uuid": "b21371cfb99568a01218ce485aca3089f38d45cf",
    "execution": {
     "iopub.status.busy": "2025-03-19T04:16:28.813010Z",
     "iopub.status.idle": "2025-03-19T04:16:28.813636Z",
     "shell.execute_reply": "2025-03-19T04:16:28.813275Z"
    },
    "trusted": true
   },
   "outputs": [
    {
     "name": "stdout",
     "output_type": "stream",
     "text": [
      "[[[[1 1 1]\n",
      "   [4 1 1]\n",
      "   [4 4 4]]\n",
      "\n",
      "  [[1 1 0]\n",
      "   [1 1 2]\n",
      "   [4 4 1]]\n",
      "\n",
      "  [[1 0 3]\n",
      "   [1 2 2]\n",
      "   [4 1 2]]\n",
      "\n",
      "  [[0 3 2]\n",
      "   [2 2 1]\n",
      "   [1 2 1]]\n",
      "\n",
      "  [[3 2 4]\n",
      "   [2 1 1]\n",
      "   [2 1 1]]\n",
      "\n",
      "  [[2 4 3]\n",
      "   [1 1 3]\n",
      "   [1 1 0]]\n",
      "\n",
      "  [[4 3 3]\n",
      "   [1 3 3]\n",
      "   [1 0 1]]\n",
      "\n",
      "  [[3 3 2]\n",
      "   [3 3 3]\n",
      "   [0 1 1]]]\n",
      "\n",
      "\n",
      " [[[4 1 1]\n",
      "   [4 4 4]\n",
      "   [3 2 2]]\n",
      "\n",
      "  [[1 1 2]\n",
      "   [4 4 1]\n",
      "   [2 2 2]]\n",
      "\n",
      "  [[1 2 2]\n",
      "   [4 1 2]\n",
      "   [2 2 1]]\n",
      "\n",
      "  [[2 2 1]\n",
      "   [1 2 1]\n",
      "   [2 1 1]]\n",
      "\n",
      "  [[2 1 1]\n",
      "   [2 1 1]\n",
      "   [1 1 4]]\n",
      "\n",
      "  [[1 1 3]\n",
      "   [1 1 0]\n",
      "   [1 4 1]]\n",
      "\n",
      "  [[1 3 3]\n",
      "   [1 0 1]\n",
      "   [4 1 4]]\n",
      "\n",
      "  [[3 3 3]\n",
      "   [0 1 1]\n",
      "   [1 4 0]]]\n",
      "\n",
      "\n",
      " [[[4 4 4]\n",
      "   [3 2 2]\n",
      "   [2 0 0]]\n",
      "\n",
      "  [[4 4 1]\n",
      "   [2 2 2]\n",
      "   [0 0 3]]\n",
      "\n",
      "  [[4 1 2]\n",
      "   [2 2 1]\n",
      "   [0 3 2]]\n",
      "\n",
      "  [[1 2 1]\n",
      "   [2 1 1]\n",
      "   [3 2 1]]\n",
      "\n",
      "  [[2 1 1]\n",
      "   [1 1 4]\n",
      "   [2 1 0]]\n",
      "\n",
      "  [[1 1 0]\n",
      "   [1 4 1]\n",
      "   [1 0 3]]\n",
      "\n",
      "  [[1 0 1]\n",
      "   [4 1 4]\n",
      "   [0 3 1]]\n",
      "\n",
      "  [[0 1 1]\n",
      "   [1 4 0]\n",
      "   [3 1 2]]]\n",
      "\n",
      "\n",
      " [[[3 2 2]\n",
      "   [2 0 0]\n",
      "   [3 3 1]]\n",
      "\n",
      "  [[2 2 2]\n",
      "   [0 0 3]\n",
      "   [3 1 2]]\n",
      "\n",
      "  [[2 2 1]\n",
      "   [0 3 2]\n",
      "   [1 2 1]]\n",
      "\n",
      "  [[2 1 1]\n",
      "   [3 2 1]\n",
      "   [2 1 1]]\n",
      "\n",
      "  [[1 1 4]\n",
      "   [2 1 0]\n",
      "   [1 1 2]]\n",
      "\n",
      "  [[1 4 1]\n",
      "   [1 0 3]\n",
      "   [1 2 2]]\n",
      "\n",
      "  [[4 1 4]\n",
      "   [0 3 1]\n",
      "   [2 2 0]]\n",
      "\n",
      "  [[1 4 0]\n",
      "   [3 1 2]\n",
      "   [2 0 0]]]\n",
      "\n",
      "\n",
      " [[[2 0 0]\n",
      "   [3 3 1]\n",
      "   [0 3 0]]\n",
      "\n",
      "  [[0 0 3]\n",
      "   [3 1 2]\n",
      "   [3 0 2]]\n",
      "\n",
      "  [[0 3 2]\n",
      "   [1 2 1]\n",
      "   [0 2 1]]\n",
      "\n",
      "  [[3 2 1]\n",
      "   [2 1 1]\n",
      "   [2 1 1]]\n",
      "\n",
      "  [[2 1 0]\n",
      "   [1 1 2]\n",
      "   [1 1 2]]\n",
      "\n",
      "  [[1 0 3]\n",
      "   [1 2 2]\n",
      "   [1 2 3]]\n",
      "\n",
      "  [[0 3 1]\n",
      "   [2 2 0]\n",
      "   [2 3 0]]\n",
      "\n",
      "  [[3 1 2]\n",
      "   [2 0 0]\n",
      "   [3 0 4]]]\n",
      "\n",
      "\n",
      " [[[3 3 1]\n",
      "   [0 3 0]\n",
      "   [3 2 0]]\n",
      "\n",
      "  [[3 1 2]\n",
      "   [3 0 2]\n",
      "   [2 0 4]]\n",
      "\n",
      "  [[1 2 1]\n",
      "   [0 2 1]\n",
      "   [0 4 3]]\n",
      "\n",
      "  [[2 1 1]\n",
      "   [2 1 1]\n",
      "   [4 3 1]]\n",
      "\n",
      "  [[1 1 2]\n",
      "   [1 1 2]\n",
      "   [3 1 2]]\n",
      "\n",
      "  [[1 2 2]\n",
      "   [1 2 3]\n",
      "   [1 2 0]]\n",
      "\n",
      "  [[2 2 0]\n",
      "   [2 3 0]\n",
      "   [2 0 0]]\n",
      "\n",
      "  [[2 0 0]\n",
      "   [3 0 4]\n",
      "   [0 0 4]]]\n",
      "\n",
      "\n",
      " [[[0 3 0]\n",
      "   [3 2 0]\n",
      "   [3 1 0]]\n",
      "\n",
      "  [[3 0 2]\n",
      "   [2 0 4]\n",
      "   [1 0 3]]\n",
      "\n",
      "  [[0 2 1]\n",
      "   [0 4 3]\n",
      "   [0 3 0]]\n",
      "\n",
      "  [[2 1 1]\n",
      "   [4 3 1]\n",
      "   [3 0 0]]\n",
      "\n",
      "  [[1 1 2]\n",
      "   [3 1 2]\n",
      "   [0 0 2]]\n",
      "\n",
      "  [[1 2 3]\n",
      "   [1 2 0]\n",
      "   [0 2 4]]\n",
      "\n",
      "  [[2 3 0]\n",
      "   [2 0 0]\n",
      "   [2 4 3]]\n",
      "\n",
      "  [[3 0 4]\n",
      "   [0 0 4]\n",
      "   [4 3 4]]]\n",
      "\n",
      "\n",
      " [[[3 2 0]\n",
      "   [3 1 0]\n",
      "   [0 1 4]]\n",
      "\n",
      "  [[2 0 4]\n",
      "   [1 0 3]\n",
      "   [1 4 4]]\n",
      "\n",
      "  [[0 4 3]\n",
      "   [0 3 0]\n",
      "   [4 4 4]]\n",
      "\n",
      "  [[4 3 1]\n",
      "   [3 0 0]\n",
      "   [4 4 0]]\n",
      "\n",
      "  [[3 1 2]\n",
      "   [0 0 2]\n",
      "   [4 0 3]]\n",
      "\n",
      "  [[1 2 0]\n",
      "   [0 2 4]\n",
      "   [0 3 1]]\n",
      "\n",
      "  [[2 0 0]\n",
      "   [2 4 3]\n",
      "   [3 1 2]]\n",
      "\n",
      "  [[0 0 4]\n",
      "   [4 3 4]\n",
      "   [1 2 1]]]]\n"
     ]
    }
   ],
   "source": [
    "# Author: Chris Barker\n",
    "\n",
    "Z = np.random.randint(0,5,(10,10))\n",
    "n = 3\n",
    "i = 1 + (Z.shape[0]-3)\n",
    "j = 1 + (Z.shape[1]-3)\n",
    "C = stride_tricks.as_strided(Z, shape=(i, j, n, n), strides=Z.strides + Z.strides)\n",
    "print(C)"
   ]
  },
  {
   "cell_type": "markdown",
   "metadata": {
    "_uuid": "356cb226b8732db0b4956dcbb10146f370e5b21a"
   },
   "source": [
    "#### 85. Create a 2D array subclass such that Z\\[i,j\\] == Z\\[j,i\\] (★★★)"
   ]
  },
  {
   "cell_type": "code",
   "execution_count": null,
   "metadata": {
    "_uuid": "50cab105c14392c68f791edcb3d65920bc84c07d",
    "execution": {
     "iopub.status.busy": "2025-03-19T04:16:28.814703Z",
     "iopub.status.idle": "2025-03-19T04:16:28.815290Z",
     "shell.execute_reply": "2025-03-19T04:16:28.814961Z"
    },
    "trusted": true
   },
   "outputs": [
    {
     "name": "stdout",
     "output_type": "stream",
     "text": [
      "[[ 9  8  6 12  9]\n",
      " [ 8  1 14  2  8]\n",
      " [ 6 14  0 42 10]\n",
      " [12  2 42  0  8]\n",
      " [ 9  8 10  8  7]]\n"
     ]
    }
   ],
   "source": [
    "# Author: Eric O. Lebigot\n",
    "# Note: only works for 2d array and value setting using indices\n",
    "\n",
    "class Symetric(np.ndarray):\n",
    "    def __setitem__(self, index, value):\n",
    "        i,j = index\n",
    "        super(Symetric, self).__setitem__((i,j), value)\n",
    "        super(Symetric, self).__setitem__((j,i), value)\n",
    "\n",
    "def symetric(Z):\n",
    "    return np.asarray(Z + Z.T - np.diag(Z.diagonal())).view(Symetric)\n",
    "\n",
    "S = symetric(np.random.randint(0,10,(5,5)))\n",
    "S[2,3] = 42\n",
    "print(S)"
   ]
  },
  {
   "cell_type": "markdown",
   "metadata": {
    "_uuid": "eee96b7539939d2440942d090dbb3aa1b740536f"
   },
   "source": [
    "#### 86. Consider a set of p matrices wich shape (n,n) and a set of p vectors with shape (n,1). How to compute the sum of of the p matrix products at once? (result has shape (n,1)) (★★★)"
   ]
  },
  {
   "cell_type": "code",
   "execution_count": null,
   "metadata": {
    "_uuid": "40736a29c5fb6424104130976aa4c27cc8ed77df",
    "execution": {
     "iopub.status.busy": "2025-03-19T04:16:28.816023Z",
     "iopub.status.idle": "2025-03-19T04:16:28.816654Z",
     "shell.execute_reply": "2025-03-19T04:16:28.816261Z"
    },
    "trusted": true
   },
   "outputs": [
    {
     "name": "stdout",
     "output_type": "stream",
     "text": [
      "[[200.]\n",
      " [200.]\n",
      " [200.]\n",
      " [200.]\n",
      " [200.]\n",
      " [200.]\n",
      " [200.]\n",
      " [200.]\n",
      " [200.]\n",
      " [200.]\n",
      " [200.]\n",
      " [200.]\n",
      " [200.]\n",
      " [200.]\n",
      " [200.]\n",
      " [200.]\n",
      " [200.]\n",
      " [200.]\n",
      " [200.]\n",
      " [200.]]\n"
     ]
    }
   ],
   "source": [
    "# Author: Stefan van der Walt\n",
    "\n",
    "p, n = 10, 20\n",
    "M = np.ones((p,n,n))\n",
    "V = np.ones((p,n,1))\n",
    "S = np.tensordot(M, V, axes=[[0, 2], [0, 1]])\n",
    "print(S)\n",
    "\n",
    "# It works, because:\n",
    "# M is (p,n,n)\n",
    "# V is (p,n,1)\n",
    "# Thus, summing over the paired axes 0 and 0 (of M and V independently),\n",
    "# and 2 and 1, to remain with a (n,1) vector."
   ]
  },
  {
   "cell_type": "markdown",
   "metadata": {
    "_uuid": "a818718ccd3bec10bb97bd7ceb01d269df14f0b9"
   },
   "source": [
    "#### 87. Consider a 16x16 array, how to get the block-sum (block size is 4x4)? (★★★)"
   ]
  },
  {
   "cell_type": "code",
   "execution_count": null,
   "metadata": {
    "_uuid": "b92047bfcc3cd8ea2d2c33f42c2cf34e0284ed1e",
    "execution": {
     "iopub.status.busy": "2025-03-19T04:16:28.818099Z",
     "iopub.status.idle": "2025-03-19T04:16:28.818737Z",
     "shell.execute_reply": "2025-03-19T04:16:28.818348Z"
    },
    "trusted": true
   },
   "outputs": [
    {
     "name": "stdout",
     "output_type": "stream",
     "text": [
      "[[16. 16. 16. 16.]\n",
      " [16. 16. 16. 16.]\n",
      " [16. 16. 16. 16.]\n",
      " [16. 16. 16. 16.]]\n"
     ]
    }
   ],
   "source": [
    "# Author: Robert Kern\n",
    "\n",
    "Z = np.ones((16,16))\n",
    "k = 4\n",
    "S = np.add.reduceat(np.add.reduceat(Z, np.arange(0, Z.shape[0], k), axis=0),\n",
    "                                       np.arange(0, Z.shape[1], k), axis=1)\n",
    "print(S)"
   ]
  },
  {
   "cell_type": "markdown",
   "metadata": {
    "_uuid": "5efdc16efb03117e516f8b10aa9413a5abc70e02"
   },
   "source": [
    "#### 88. How to implement the Game of Life using numpy arrays? (★★★)"
   ]
  },
  {
   "cell_type": "code",
   "execution_count": null,
   "metadata": {
    "_uuid": "e6bdac77a289d19582779ef6853c1102433b7b8e",
    "execution": {
     "iopub.status.busy": "2025-03-19T04:16:28.822425Z",
     "iopub.status.idle": "2025-03-19T04:16:28.823055Z",
     "shell.execute_reply": "2025-03-19T04:16:28.822716Z"
    },
    "trusted": true
   },
   "outputs": [
    {
     "name": "stdout",
     "output_type": "stream",
     "text": [
      "[[0 0 0 ... 0 0 0]\n",
      " [0 0 0 ... 0 0 0]\n",
      " [0 0 0 ... 1 0 0]\n",
      " ...\n",
      " [0 0 0 ... 0 0 0]\n",
      " [0 0 0 ... 0 0 0]\n",
      " [0 0 0 ... 0 0 0]]\n"
     ]
    }
   ],
   "source": [
    "# Author: Nicolas Rougier\n",
    "\n",
    "def iterate(Z):\n",
    "    # Count neighbours\n",
    "    N = (Z[0:-2,0:-2] + Z[0:-2,1:-1] + Z[0:-2,2:] +\n",
    "         Z[1:-1,0:-2]                + Z[1:-1,2:] +\n",
    "         Z[2:  ,0:-2] + Z[2:  ,1:-1] + Z[2:  ,2:])\n",
    "\n",
    "    # Apply rules\n",
    "    birth = (N==3) & (Z[1:-1,1:-1]==0)\n",
    "    survive = ((N==2) | (N==3)) & (Z[1:-1,1:-1]==1)\n",
    "    Z[...] = 0\n",
    "    Z[1:-1,1:-1][birth | survive] = 1\n",
    "    return Z\n",
    "\n",
    "Z = np.random.randint(0,2,(50,50))\n",
    "for i in range(100): Z = iterate(Z)\n",
    "print(Z)"
   ]
  },
  {
   "cell_type": "markdown",
   "metadata": {
    "_uuid": "976eba1abb40955e6bf05a5847ec1bf8591fab05"
   },
   "source": [
    "#### 89. How to get the n largest values of an array (★★★)"
   ]
  },
  {
   "cell_type": "code",
   "execution_count": null,
   "metadata": {
    "_uuid": "130ddce34dd70f334a1e0bd51b733a4b84a9bfc1",
    "execution": {
     "iopub.status.busy": "2025-03-19T04:16:28.829674Z",
     "iopub.status.idle": "2025-03-19T04:16:28.831484Z",
     "shell.execute_reply": "2025-03-19T04:16:28.830578Z"
    },
    "trusted": true
   },
   "outputs": [
    {
     "name": "stdout",
     "output_type": "stream",
     "text": [
      "[9995 9996 9997 9998 9999]\n",
      "[9999 9998 9997 9996 9995]\n"
     ]
    }
   ],
   "source": [
    "Z = np.arange(10000)\n",
    "np.random.shuffle(Z)\n",
    "n = 5\n",
    "\n",
    "# Slow\n",
    "print (Z[np.argsort(Z)[-n:]])\n",
    "\n",
    "# Fast\n",
    "print (Z[np.argpartition(-Z,n)[:n]])"
   ]
  },
  {
   "cell_type": "markdown",
   "metadata": {
    "_uuid": "ffe9e29aa6750ab693ef37ca60c461a82a761dd9"
   },
   "source": [
    "#### 90. Given an arbitrary number of vectors, build the cartesian product (every combinations of every item) (★★★)"
   ]
  },
  {
   "cell_type": "code",
   "execution_count": null,
   "metadata": {
    "_uuid": "cb67f935dd1f8f683ba5f06c9cf2a31d53ace2ef",
    "execution": {
     "iopub.status.busy": "2025-03-19T04:16:28.836531Z",
     "iopub.status.idle": "2025-03-19T04:16:28.837093Z",
     "shell.execute_reply": "2025-03-19T04:16:28.836766Z"
    },
    "scrolled": true,
    "trusted": true
   },
   "outputs": [
    {
     "name": "stdout",
     "output_type": "stream",
     "text": [
      "[[1 4 6]\n",
      " [1 4 7]\n",
      " [1 5 6]\n",
      " [1 5 7]\n",
      " [2 4 6]\n",
      " [2 4 7]\n",
      " [2 5 6]\n",
      " [2 5 7]\n",
      " [3 4 6]\n",
      " [3 4 7]\n",
      " [3 5 6]\n",
      " [3 5 7]]\n"
     ]
    }
   ],
   "source": [
    "# Author: Stefan Van der Walt\n",
    "\n",
    "def cartesian(arrays):\n",
    "    arrays = [np.asarray(a) for a in arrays]\n",
    "    shape = (len(x) for x in arrays)\n",
    "\n",
    "    ix = np.indices(shape, dtype=int)\n",
    "    ix = ix.reshape(len(arrays), -1).T\n",
    "\n",
    "    for n, arr in enumerate(arrays):\n",
    "        ix[:, n] = arrays[n][ix[:, n]]\n",
    "\n",
    "    return ix\n",
    "\n",
    "print (cartesian(([1, 2, 3], [4, 5], [6, 7])))"
   ]
  },
  {
   "cell_type": "markdown",
   "metadata": {
    "_uuid": "16034f8e04d44923f487cd2a734692578b585dfc"
   },
   "source": [
    "#### 91. How to create a record array from a regular array? (★★★)"
   ]
  },
  {
   "cell_type": "code",
   "execution_count": null,
   "metadata": {
    "_uuid": "a243156ca67b3a776cf9f4471a3f35e9399fa868",
    "execution": {
     "iopub.status.busy": "2025-03-19T04:16:28.842497Z",
     "iopub.status.idle": "2025-03-19T04:16:28.843560Z",
     "shell.execute_reply": "2025-03-19T04:16:28.843171Z"
    },
    "trusted": true
   },
   "outputs": [
    {
     "name": "stdout",
     "output_type": "stream",
     "text": [
      "[(b'Hello', 2.5, 3) (b'World', 3.6, 2)]\n"
     ]
    },
    {
     "name": "stderr",
     "output_type": "stream",
     "text": [
      "/tmp/ipykernel_14573/3979488781.py:3: DeprecationWarning: numpy.core is deprecated and has been renamed to numpy._core. The numpy._core namespace contains private NumPy internals and its use is discouraged, as NumPy internals can change without warning in any release. In practice, most real-world usage of numpy.core is to access functionality in the public NumPy API. If that is the case, use the public NumPy API. If not, you are using NumPy internals. If you would still like to access an internal attribute, use numpy._core.records.\n",
      "  R = np.core.records.fromarrays(Z.T,\n"
     ]
    }
   ],
   "source": [
    "Z = np.array([(\"Hello\", 2.5, 3),\n",
    "              (\"World\", 3.6, 2)])\n",
    "R = np.core.records.fromarrays(Z.T, \n",
    "                               names='col1, col2, col3',\n",
    "                               formats = 'S8, f8, i8')\n",
    "print(R)"
   ]
  },
  {
   "cell_type": "markdown",
   "metadata": {
    "_uuid": "4af186d08ff5a394f0bd3df61c08924180664242"
   },
   "source": [
    "#### 92. Consider a large vector Z, compute Z to the power of 3 using 3 different methods (★★★)"
   ]
  },
  {
   "cell_type": "code",
   "execution_count": null,
   "metadata": {
    "_uuid": "0d9e52e4417bf25096d540a15624f30ff3517c55",
    "execution": {
     "iopub.status.busy": "2025-03-19T04:16:28.848282Z",
     "iopub.status.idle": "2025-03-19T04:16:28.848842Z",
     "shell.execute_reply": "2025-03-19T04:16:28.848537Z"
    },
    "trusted": true
   },
   "outputs": [
    {
     "ename": "TypeError",
     "evalue": "'float' object cannot be interpreted as an integer",
     "output_type": "error",
     "traceback": [
      "\u001b[31m---------------------------------------------------------------------------\u001b[39m",
      "\u001b[31mTypeError\u001b[39m                                 Traceback (most recent call last)",
      "\u001b[36mCell\u001b[39m\u001b[36m \u001b[39m\u001b[32mIn[70]\u001b[39m\u001b[32m, line 3\u001b[39m\n\u001b[32m      1\u001b[39m \u001b[38;5;66;03m# Author: Ryan G.\u001b[39;00m\n\u001b[32m----> \u001b[39m\u001b[32m3\u001b[39m x = \u001b[43mnp\u001b[49m\u001b[43m.\u001b[49m\u001b[43mrandom\u001b[49m\u001b[43m.\u001b[49m\u001b[43mrand\u001b[49m\u001b[43m(\u001b[49m\u001b[32;43m5e7\u001b[39;49m\u001b[43m)\u001b[49m\n\u001b[32m      5\u001b[39m get_ipython().run_line_magic(\u001b[33m'\u001b[39m\u001b[33mtimeit\u001b[39m\u001b[33m'\u001b[39m, \u001b[33m'\u001b[39m\u001b[33mnp.power(x,3)\u001b[39m\u001b[33m'\u001b[39m)\n\u001b[32m      6\u001b[39m get_ipython().run_line_magic(\u001b[33m'\u001b[39m\u001b[33mtimeit\u001b[39m\u001b[33m'\u001b[39m, \u001b[33m'\u001b[39m\u001b[33mx*x*x\u001b[39m\u001b[33m'\u001b[39m)\n",
      "\u001b[36mFile \u001b[39m\u001b[32mnumpy/random/mtrand.pyx:1238\u001b[39m, in \u001b[36mnumpy.random.mtrand.RandomState.rand\u001b[39m\u001b[34m()\u001b[39m\n",
      "\u001b[36mFile \u001b[39m\u001b[32mnumpy/random/mtrand.pyx:441\u001b[39m, in \u001b[36mnumpy.random.mtrand.RandomState.random_sample\u001b[39m\u001b[34m()\u001b[39m\n",
      "\u001b[36mFile \u001b[39m\u001b[32m_common.pyx:312\u001b[39m, in \u001b[36mnumpy.random._common.double_fill\u001b[39m\u001b[34m()\u001b[39m\n",
      "\u001b[31mTypeError\u001b[39m: 'float' object cannot be interpreted as an integer"
     ]
    }
   ],
   "source": [
    "# Author: Ryan G.\n",
    "\n",
    "x = np.random.rand(5e7)\n",
    "\n",
    "%timeit np.power(x,3)\n",
    "%timeit x*x*x\n",
    "%timeit np.einsum('i,i,i->i',x,x,x)"
   ]
  },
  {
   "cell_type": "markdown",
   "metadata": {
    "_uuid": "31e96d464715e1711345f674f79cb64703d39f69"
   },
   "source": [
    "#### 93. Consider two arrays A and B of shape (8,3) and (2,2). How to find rows of A that contain elements of each row of B regardless of the order of the elements in B? (★★★)"
   ]
  },
  {
   "cell_type": "code",
   "execution_count": null,
   "metadata": {
    "_uuid": "6f54c8d1c80000fd49423927dc9cbf2cd820acd9",
    "execution": {
     "iopub.status.busy": "2025-03-19T04:16:28.854128Z",
     "iopub.status.idle": "2025-03-19T04:16:28.855041Z",
     "shell.execute_reply": "2025-03-19T04:16:28.854476Z"
    },
    "trusted": true
   },
   "outputs": [
    {
     "name": "stdout",
     "output_type": "stream",
     "text": [
      "[0 1 2 3 4 5 6]\n"
     ]
    }
   ],
   "source": [
    "# Author: Gabe Schwartz\n",
    "\n",
    "A = np.random.randint(0,5,(8,3))\n",
    "B = np.random.randint(0,5,(2,2))\n",
    "\n",
    "C = (A[..., np.newaxis, np.newaxis] == B)\n",
    "rows = np.where(C.any((3,1)).all(1))[0]\n",
    "print(rows)"
   ]
  },
  {
   "cell_type": "markdown",
   "metadata": {
    "_uuid": "74175efecabdb8e5f43531beab38a64203b0331f"
   },
   "source": [
    "#### 94. Considering a 10x3 matrix, extract rows with unequal values (e.g. \\[2,2,3\\]) (★★★)"
   ]
  },
  {
   "cell_type": "code",
   "execution_count": null,
   "metadata": {
    "_uuid": "2adc7d15835b2ac4e870db377555fff5a5da439b",
    "execution": {
     "iopub.execute_input": "2025-03-19T04:16:28.953991Z",
     "iopub.status.busy": "2025-03-19T04:16:28.953604Z",
     "iopub.status.idle": "2025-03-19T04:16:28.965081Z",
     "shell.execute_reply": "2025-03-19T04:16:28.963932Z",
     "shell.execute_reply.started": "2025-03-19T04:16:28.953898Z"
    },
    "trusted": true
   },
   "outputs": [
    {
     "name": "stdout",
     "output_type": "stream",
     "text": [
      "[[3 3 3]\n",
      " [2 0 4]\n",
      " [4 3 1]\n",
      " [0 3 1]\n",
      " [0 4 2]\n",
      " [3 4 4]\n",
      " [1 0 2]\n",
      " [0 1 0]\n",
      " [2 0 0]\n",
      " [1 3 1]]\n",
      "[[2 0 4]\n",
      " [4 3 1]\n",
      " [0 3 1]\n",
      " [0 4 2]\n",
      " [3 4 4]\n",
      " [1 0 2]\n",
      " [0 1 0]\n",
      " [2 0 0]\n",
      " [1 3 1]]\n",
      "[[2 0 4]\n",
      " [4 3 1]\n",
      " [0 3 1]\n",
      " [0 4 2]\n",
      " [3 4 4]\n",
      " [1 0 2]\n",
      " [0 1 0]\n",
      " [2 0 0]\n",
      " [1 3 1]]\n"
     ]
    }
   ],
   "source": [
    "# Author: Robert Kern\n",
    "\n",
    "Z = np.random.randint(0,5,(10,3))\n",
    "print(Z)\n",
    "# solution for arrays of all dtypes (including string arrays and record arrays)\n",
    "E = np.all(Z[:,1:] == Z[:,:-1], axis=1)\n",
    "U = Z[~E]\n",
    "print(U)\n",
    "# soluiton for numerical arrays only, will work for any number of columns in Z\n",
    "U = Z[Z.max(axis=1) != Z.min(axis=1),:]\n",
    "print(U)"
   ]
  },
  {
   "cell_type": "markdown",
   "metadata": {
    "_uuid": "5afd250a943d5e2f008bf0682376e140be69d007"
   },
   "source": [
    "#### 95. Convert a vector of ints into a matrix binary representation (★★★)"
   ]
  },
  {
   "cell_type": "code",
   "execution_count": null,
   "metadata": {
    "_uuid": "2f25d28334b03e5cab6d6dc3e7312991acf8bb18",
    "execution": {
     "iopub.execute_input": "2025-03-19T04:16:28.967264Z",
     "iopub.status.busy": "2025-03-19T04:16:28.966840Z",
     "iopub.status.idle": "2025-03-19T04:16:28.983457Z",
     "shell.execute_reply": "2025-03-19T04:16:28.982613Z",
     "shell.execute_reply.started": "2025-03-19T04:16:28.967178Z"
    },
    "trusted": true
   },
   "outputs": [
    {
     "name": "stdout",
     "output_type": "stream",
     "text": [
      "[[0 0 0 0 0 0 0 0]\n",
      " [0 0 0 0 0 0 0 1]\n",
      " [0 0 0 0 0 0 1 0]\n",
      " [0 0 0 0 0 0 1 1]\n",
      " [0 0 0 0 1 1 1 1]\n",
      " [0 0 0 1 0 0 0 0]\n",
      " [0 0 1 0 0 0 0 0]\n",
      " [0 1 0 0 0 0 0 0]\n",
      " [1 0 0 0 0 0 0 0]]\n",
      "[[0 0 0 0 0 0 0 0]\n",
      " [0 0 0 0 0 0 0 1]\n",
      " [0 0 0 0 0 0 1 0]\n",
      " [0 0 0 0 0 0 1 1]\n",
      " [0 0 0 0 1 1 1 1]\n",
      " [0 0 0 1 0 0 0 0]\n",
      " [0 0 1 0 0 0 0 0]\n",
      " [0 1 0 0 0 0 0 0]\n",
      " [1 0 0 0 0 0 0 0]]\n"
     ]
    }
   ],
   "source": [
    "# Author: Warren Weckesser\n",
    "\n",
    "I = np.array([0, 1, 2, 3, 15, 16, 32, 64, 128])\n",
    "B = ((I.reshape(-1,1) & (2**np.arange(8))) != 0).astype(int)\n",
    "print(B[:,::-1])\n",
    "\n",
    "# Author: Daniel T. McDonald\n",
    "\n",
    "I = np.array([0, 1, 2, 3, 15, 16, 32, 64, 128], dtype=np.uint8)\n",
    "print(np.unpackbits(I[:, np.newaxis], axis=1))"
   ]
  },
  {
   "cell_type": "markdown",
   "metadata": {
    "_uuid": "c5a8dd39a51cf4dbe37653e3d6131d06ac7a449c"
   },
   "source": [
    "#### 96. Given a two dimensional array, how to extract unique rows? (★★★)"
   ]
  },
  {
   "cell_type": "code",
   "execution_count": null,
   "metadata": {
    "_uuid": "2015fb48f278ce0021a3aa8f98db67438d2d92a6",
    "execution": {
     "iopub.execute_input": "2025-03-19T04:16:28.985271Z",
     "iopub.status.busy": "2025-03-19T04:16:28.984895Z",
     "iopub.status.idle": "2025-03-19T04:16:28.998379Z",
     "shell.execute_reply": "2025-03-19T04:16:28.997373Z",
     "shell.execute_reply.started": "2025-03-19T04:16:28.985195Z"
    },
    "trusted": true
   },
   "outputs": [
    {
     "name": "stdout",
     "output_type": "stream",
     "text": [
      "[[0 0 1]\n",
      " [1 0 0]\n",
      " [1 0 1]\n",
      " [1 1 0]]\n",
      "[[0 0 1]\n",
      " [1 0 0]\n",
      " [1 0 1]\n",
      " [1 1 0]]\n"
     ]
    }
   ],
   "source": [
    "# Author: Jaime Fernández del Río\n",
    "\n",
    "Z = np.random.randint(0,2,(6,3))\n",
    "T = np.ascontiguousarray(Z).view(np.dtype((np.void, Z.dtype.itemsize * Z.shape[1])))\n",
    "_, idx = np.unique(T, return_index=True)\n",
    "uZ = Z[idx]\n",
    "print(uZ)\n",
    "\n",
    "# Author: Andreas Kouzelis\n",
    "# NumPy >= 1.13\n",
    "uZ = np.unique(Z, axis=0)\n",
    "print(uZ)"
   ]
  },
  {
   "cell_type": "markdown",
   "metadata": {
    "_uuid": "d6b3ea56acfd5d993c47a9133717fe70f3475cb8"
   },
   "source": [
    "#### 97. Considering 2 vectors A & B, write the einsum equivalent of inner, outer, sum, and mul function (★★★)"
   ]
  },
  {
   "cell_type": "code",
   "execution_count": null,
   "metadata": {
    "_uuid": "7b358d49dc06cfd933516942d07cf909cccacb09",
    "execution": {
     "iopub.execute_input": "2025-03-19T04:16:29.002639Z",
     "iopub.status.busy": "2025-03-19T04:16:29.002304Z",
     "iopub.status.idle": "2025-03-19T04:16:29.021133Z",
     "shell.execute_reply": "2025-03-19T04:16:29.020205Z",
     "shell.execute_reply.started": "2025-03-19T04:16:29.002575Z"
    },
    "trusted": true
   },
   "outputs": [
    {
     "data": {
      "text/plain": [
       "array([[0.2035365 , 0.23932699, 0.18980664, 0.07214593, 0.19301242,\n",
       "        0.25000438, 0.17743082, 0.05562771, 0.03378212, 0.02023624],\n",
       "       [0.39292407, 0.46201706, 0.3664188 , 0.13927661, 0.37260751,\n",
       "        0.48262961, 0.34252746, 0.10738843, 0.06521587, 0.03906574],\n",
       "       [0.54889719, 0.64541699, 0.51187053, 0.19456313, 0.52051588,\n",
       "        0.67421179, 0.47849541, 0.1500168 , 0.09110362, 0.05457308],\n",
       "       [0.50194964, 0.59021403, 0.46808989, 0.17792202, 0.4759958 ,\n",
       "        0.61654599, 0.43756937, 0.13718576, 0.08331147, 0.04990541],\n",
       "       [0.59235657, 0.69651839, 0.55239828, 0.20996783, 0.56172814,\n",
       "        0.72759304, 0.51638066, 0.1618945 , 0.09831683, 0.05889395],\n",
       "       [0.48984527, 0.5759812 , 0.45680204, 0.17363148, 0.4645173 ,\n",
       "        0.60167817, 0.42701751, 0.13387756, 0.08130244, 0.04870195],\n",
       "       [0.39194186, 0.46086214, 0.36550285, 0.13892845, 0.37167609,\n",
       "        0.48142317, 0.34167124, 0.10711999, 0.06505284, 0.03896809],\n",
       "       [0.77476208, 0.91099866, 0.72249936, 0.27462363, 0.73470218,\n",
       "        0.95164219, 0.67539077, 0.21174698, 0.12859172, 0.07702927],\n",
       "       [0.19130094, 0.22493989, 0.17839645, 0.06780889, 0.18140952,\n",
       "        0.23497542, 0.1667646 , 0.05228366, 0.03175132, 0.01901974],\n",
       "       [0.7408888 , 0.871169  , 0.69091106, 0.26261684, 0.70258036,\n",
       "        0.91003556, 0.6458621 , 0.20248922, 0.12296958, 0.07366149]])"
      ]
     },
     "execution_count": 75,
     "metadata": {},
     "output_type": "execute_result"
    }
   ],
   "source": [
    "# Author: Alex Riley\n",
    "# Make sure to read: http://ajcr.net/Basic-guide-to-einsum/\n",
    "\n",
    "A = np.random.uniform(0,1,10)\n",
    "B = np.random.uniform(0,1,10)\n",
    "\n",
    "np.einsum('i->', A)       # np.sum(A)\n",
    "np.einsum('i,i->i', A, B) # A * B\n",
    "np.einsum('i,i', A, B)    # np.inner(A, B)\n",
    "np.einsum('i,j->ij', A, B)    # np.outer(A, B)"
   ]
  },
  {
   "cell_type": "markdown",
   "metadata": {
    "_uuid": "6a56f94c7bf3d56ee49bff6da8d1cc73c0098cee"
   },
   "source": [
    "#### 98. Considering a path described by two vectors (X,Y), how to sample it using equidistant samples (★★★)?"
   ]
  },
  {
   "cell_type": "code",
   "execution_count": null,
   "metadata": {
    "_uuid": "e185595ef1c04a7adf0497a694c11912d9ff9e70",
    "execution": {
     "iopub.execute_input": "2025-03-19T04:16:29.023005Z",
     "iopub.status.busy": "2025-03-19T04:16:29.022593Z",
     "iopub.status.idle": "2025-03-19T04:16:29.036372Z",
     "shell.execute_reply": "2025-03-19T04:16:29.035317Z",
     "shell.execute_reply.started": "2025-03-19T04:16:29.022904Z"
    },
    "trusted": true
   },
   "outputs": [],
   "source": [
    "# Author: Bas Swinckels\n",
    "\n",
    "phi = np.arange(0, 10*np.pi, 0.1)\n",
    "a = 1\n",
    "x = a*phi*np.cos(phi)\n",
    "y = a*phi*np.sin(phi)\n",
    "\n",
    "dr = (np.diff(x)**2 + np.diff(y)**2)**.5 # segment lengths\n",
    "r = np.zeros_like(x)\n",
    "r[1:] = np.cumsum(dr)                # integrate path\n",
    "r_int = np.linspace(0, r.max(), 200) # regular spaced path\n",
    "x_int = np.interp(r_int, r, x)       # integrate path\n",
    "y_int = np.interp(r_int, r, y)"
   ]
  },
  {
   "cell_type": "markdown",
   "metadata": {
    "_uuid": "5fb61ce6e7ea34a5b937334882106c1aa09d80a3"
   },
   "source": [
    "#### 99. Given an integer n and a 2D array X, select from X the rows which can be interpreted as draws from a multinomial distribution with n degrees, i.e., the rows which only contain integers and which sum to n. (★★★)"
   ]
  },
  {
   "cell_type": "code",
   "execution_count": null,
   "metadata": {
    "_uuid": "2b2e13184b51ea3ca665a2decf66fffd55cef70c",
    "execution": {
     "iopub.execute_input": "2025-03-19T04:16:29.038121Z",
     "iopub.status.busy": "2025-03-19T04:16:29.037729Z",
     "iopub.status.idle": "2025-03-19T04:16:29.050760Z",
     "shell.execute_reply": "2025-03-19T04:16:29.049618Z",
     "shell.execute_reply.started": "2025-03-19T04:16:29.038042Z"
    },
    "trusted": true
   },
   "outputs": [
    {
     "name": "stdout",
     "output_type": "stream",
     "text": [
      "[[2. 0. 1. 1.]]\n"
     ]
    }
   ],
   "source": [
    "# Author: Evgeni Burovski\n",
    "\n",
    "X = np.asarray([[1.0, 0.0, 3.0, 8.0],\n",
    "                [2.0, 0.0, 1.0, 1.0],\n",
    "                [1.5, 2.5, 1.0, 0.0]])\n",
    "n = 4\n",
    "M = np.logical_and.reduce(np.mod(X, 1) == 0, axis=-1)\n",
    "M &= (X.sum(axis=-1) == n)\n",
    "print(X[M])"
   ]
  },
  {
   "cell_type": "markdown",
   "metadata": {
    "_uuid": "93abcae8fa323bad995c5f6db368c6d8b21d995b"
   },
   "source": [
    "#### 100. Compute bootstrapped 95% confidence intervals for the mean of a 1D array X (i.e., resample the elements of an array with replacement N times, compute the mean of each sample, and then compute percentiles over the means). (★★★)"
   ]
  },
  {
   "cell_type": "code",
   "execution_count": null,
   "metadata": {
    "_uuid": "c1db0f15a88199e936aad0928b15a8f3976fbb1e",
    "execution": {
     "iopub.execute_input": "2025-03-19T04:16:29.052989Z",
     "iopub.status.busy": "2025-03-19T04:16:29.052606Z",
     "iopub.status.idle": "2025-03-19T04:16:29.074460Z",
     "shell.execute_reply": "2025-03-19T04:16:29.073262Z",
     "shell.execute_reply.started": "2025-03-19T04:16:29.052902Z"
    },
    "trusted": true
   },
   "outputs": [
    {
     "name": "stdout",
     "output_type": "stream",
     "text": [
      "[-0.10113714  0.32170701]\n"
     ]
    }
   ],
   "source": [
    "# Author: Jessica B. Hamrick\n",
    "\n",
    "X = np.random.randn(100) # random 1D array\n",
    "N = 1000 # number of bootstrap samples\n",
    "idx = np.random.randint(0, X.size, (N, X.size))\n",
    "means = X[idx].mean(axis=1)\n",
    "confint = np.percentile(means, [2.5, 97.5])\n",
    "print(confint)"
   ]
  }
 ],
 "metadata": {
  "kaggle": {
   "accelerator": "none",
   "dataSources": [],
   "dockerImageVersionId": 18195,
   "isGpuEnabled": false,
   "isInternetEnabled": false,
   "language": "python",
   "sourceType": "notebook"
  },
  "kernelspec": {
   "display_name": ".venv",
   "language": "python",
   "name": "python3"
  },
  "language_info": {
   "codemirror_mode": {
    "name": "ipython",
    "version": 3
   },
   "file_extension": ".py",
   "mimetype": "text/x-python",
   "name": "python",
   "nbconvert_exporter": "python",
   "pygments_lexer": "ipython3",
   "version": "3.13.2"
  }
 },
 "nbformat": 4,
 "nbformat_minor": 4
}
