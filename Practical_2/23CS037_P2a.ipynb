{
 "cells": [
  {
   "cell_type": "markdown",
   "metadata": {},
   "source": [
    "## => Practical 2a"
   ]
  },
  {
   "cell_type": "markdown",
   "metadata": {},
   "source": [
    "* Create tuples with different data types (integer, float, string, and mixed). "
   ]
  },
  {
   "cell_type": "code",
   "execution_count": 1,
   "metadata": {},
   "outputs": [
    {
     "name": "stdout",
     "output_type": "stream",
     "text": [
      "Integer tuple: (1, 2, 3, 4, 5)\n",
      "Float tuple: (1.1, 2.2, 3.3, 4.4, 5.5)\n",
      "String tuple: ('Prince', 'Aryan', 'Aarav', 'Suhana', 'Navya')\n",
      "Mixed tuple: (1, 2.2, 'Prince', 4.4, True)\n"
     ]
    }
   ],
   "source": [
    "t = (10, 20, 30, 10, 40, 50, 20, 30, 40)\n",
    "\n",
    "tuple_int = (1, 2, 3, 4, 5)\n",
    "print(\"Integer tuple:\", tuple_int)\n",
    "\n",
    "tuple_float = (1.1, 2.2, 3.3, 4.4, 5.5)\n",
    "print(\"Float tuple:\", tuple_float)\n",
    "\n",
    "tuple_str = ('Prince', 'Aryan', 'Aarav', 'Suhana', 'Navya')\n",
    "print(\"String tuple:\", tuple_str)\n",
    "\n",
    "tuples_mixed = (1, 2.2, 'Prince', 4.4, True)\n",
    "print(\"Mixed tuple:\", tuples_mixed)"
   ]
  },
  {
   "cell_type": "markdown",
   "metadata": {},
   "source": [
    "* Access tuple elements using positive and negative indices. "
   ]
  },
  {
   "cell_type": "code",
   "execution_count": 2,
   "metadata": {},
   "outputs": [
    {
     "name": "stdout",
     "output_type": "stream",
     "text": [
      "10\n",
      "30\n",
      "40\n",
      "30\n"
     ]
    }
   ],
   "source": [
    "print(t[0])   # Accessing the first element using positive index\n",
    "print(t[2])   # Accessing the third element using positive index\n",
    "print(t[-1])  # Accessing the last element using negative index\n",
    "print(t[-2])  # Accessing the second last element using negative index"
   ]
  },
  {
   "cell_type": "markdown",
   "metadata": {},
   "source": [
    "* Perform tuple slicing to extract specific portions of the tuple."
   ]
  },
  {
   "cell_type": "code",
   "execution_count": 3,
   "metadata": {},
   "outputs": [
    {
     "name": "stdout",
     "output_type": "stream",
     "text": [
      "(20, 30)\n",
      "(10, 20, 30, 10)\n",
      "(10, 30, 40, 20, 40)\n",
      "(10, 20, 30, 10, 40, 50, 20)\n",
      "(40, 20, 40, 30, 10)\n"
     ]
    }
   ],
   "source": [
    "print(t[1:3])   # Extract elements from index 1 to 2\n",
    "print(t[:4])    # Extract elements from the beginning to index 3\n",
    "print(t[::2])   # Extract every second element\n",
    "print(t[:-2])   # Extract elements from the beginning to the second last element\n",
    "print(t[::-2])  # Extract every second element in reverse order"
   ]
  },
  {
   "cell_type": "markdown",
   "metadata": {},
   "source": [
    "* Count occurrences of an element and find the index of an element in a tuple. "
   ]
  },
  {
   "cell_type": "code",
   "execution_count": 4,
   "metadata": {},
   "outputs": [
    {
     "name": "stdout",
     "output_type": "stream",
     "text": [
      "number of 10 :  2\n",
      "number of 20 :  2\n",
      "index of 10 :  0\n",
      "index of 20 :  1\n"
     ]
    }
   ],
   "source": [
    "print(\"number of 10 : \", t.count(10))\n",
    "print(\"number of 20 : \", t.count(20))\n",
    "\n",
    "print(\"index of 10 : \", t.index(10))\n",
    "try:\n",
    "    print(\"index of 20 : \", t.index(20))\n",
    "except ValueError:\n",
    "    print(\"20 is not in the tuple\")"
   ]
  },
  {
   "cell_type": "markdown",
   "metadata": {},
   "source": [
    "* Use built-in functions like len(), max(), min(), and sum() with tuples. "
   ]
  },
  {
   "cell_type": "code",
   "execution_count": 5,
   "metadata": {},
   "outputs": [
    {
     "name": "stdout",
     "output_type": "stream",
     "text": [
      "Length of tuple t:  9\n",
      "Max of tuple t:  50\n",
      "Min of tuple t:  10\n",
      "Sum of tuple t:  250\n"
     ]
    }
   ],
   "source": [
    "print(\"Length of tuple t: \", len(t))\n",
    "print(\"Max of tuple t: \", max(t))\n",
    "print(\"Min of tuple t: \", min(t))\n",
    "print(\"Sum of tuple t: \", sum(t))"
   ]
  },
  {
   "cell_type": "markdown",
   "metadata": {},
   "source": [
    "* Write a program to count and print distinct elements from a tuple. "
   ]
  },
  {
   "cell_type": "code",
   "execution_count": 6,
   "metadata": {},
   "outputs": [
    {
     "name": "stdout",
     "output_type": "stream",
     "text": [
      "Distinct elements in tuple 't': {40, 10, 50, 20, 30}\n",
      "Element 40 appears in tuple: 2 times\n",
      "Element 10 appears in tuple: 2 times\n",
      "Element 50 appears in tuple: 1 times\n",
      "Element 20 appears in tuple: 2 times\n",
      "Element 30 appears in tuple: 2 times\n"
     ]
    }
   ],
   "source": [
    "distinct_elements = set(t)\n",
    "print(\"Distinct elements in tuple 't':\", distinct_elements)\n",
    "\n",
    "for element in distinct_elements:\n",
    "    print(f\"Element {element} appears in tuple: {t.count(element)} times\")"
   ]
  },
  {
   "cell_type": "markdown",
   "metadata": {},
   "source": [
    "* Convert a list to tuple and vice versa"
   ]
  },
  {
   "cell_type": "code",
   "execution_count": 7,
   "metadata": {},
   "outputs": [
    {
     "name": "stdout",
     "output_type": "stream",
     "text": [
      "List: [10, 20, 30, 40, 50]\n",
      "Tuple: (10, 20, 30, 40, 50)\n"
     ]
    }
   ],
   "source": [
    "# Convert tuple to list\n",
    "new_tuple = (10, 20, 30, 40, 50)\n",
    "t_list = list(new_tuple)\n",
    "print(\"List:\", t_list)\n",
    "\n",
    "# Convert list back to tuple\n",
    "new_tuple_converted = tuple(t_list)\n",
    "print(\"Tuple:\", new_tuple_converted)"
   ]
  },
  {
   "cell_type": "markdown",
   "metadata": {},
   "source": [
    "* Demonstrate unpacking of elements in a tuple"
   ]
  },
  {
   "cell_type": "code",
   "execution_count": 8,
   "metadata": {},
   "outputs": [
    {
     "name": "stdout",
     "output_type": "stream",
     "text": [
      "First name :  Prince\n",
      "Last name :  Lad\n",
      "Age :  19\n"
     ]
    }
   ],
   "source": [
    "person = (\"Prince\", \"Lad\", 19)\n",
    "\n",
    "(f_name, l_name, age) = person\n",
    "\n",
    "print(\"First name : \", f_name)\n",
    "print(\"Last name : \", l_name)\n",
    "print(\"Age : \", age)"
   ]
  }
 ],
 "metadata": {
  "kernelspec": {
   "display_name": ".venv",
   "language": "python",
   "name": "python3"
  },
  "language_info": {
   "codemirror_mode": {
    "name": "ipython",
    "version": 3
   },
   "file_extension": ".py",
   "mimetype": "text/x-python",
   "name": "python",
   "nbconvert_exporter": "python",
   "pygments_lexer": "ipython3",
   "version": "3.13.1"
  }
 },
 "nbformat": 4,
 "nbformat_minor": 4
}
