{
 "cells": [
  {
   "cell_type": "markdown",
   "metadata": {},
   "source": [
    "## => Practical 2c"
   ]
  },
  {
   "cell_type": "markdown",
   "metadata": {},
   "source": [
    "* Create a dictionary to store key-value pairs."
   ]
  },
  {
   "cell_type": "code",
   "execution_count": 1,
   "metadata": {},
   "outputs": [
    {
     "name": "stdout",
     "output_type": "stream",
     "text": [
      "{'Name': 'Alice', 'Age': 25, 'Gender': 'F'}\n"
     ]
    }
   ],
   "source": [
    "# Create a dictionary to store key-value pairs\n",
    "my_dict = {\n",
    "    'Name': 'Alice',\n",
    "    'Age': 25,\n",
    "    'Gender': 'F'\n",
    "}\n",
    "\n",
    "print(my_dict)"
   ]
  },
  {
   "cell_type": "markdown",
   "metadata": {},
   "source": [
    "* Access, update, and delete dictionary elements using keys. "
   ]
  },
  {
   "cell_type": "code",
   "execution_count": 2,
   "metadata": {},
   "outputs": [
    {
     "name": "stdout",
     "output_type": "stream",
     "text": [
      "Name: Alice\n",
      "Updated Age: 26\n",
      "Dictionary after deletion: {'Name': 'Alice', 'Age': 26}\n"
     ]
    }
   ],
   "source": [
    "# Access dictionary elements using keys\n",
    "name = my_dict['Name']\n",
    "print(f\"Name: {name}\")\n",
    "\n",
    "# Update dictionary elements using keys\n",
    "my_dict['Age'] = 26\n",
    "print(f\"Updated Age: {my_dict['Age']}\")\n",
    "\n",
    "# Delete dictionary elements using keys\n",
    "del my_dict['Gender']\n",
    "print(f\"Dictionary after deletion: {my_dict}\")"
   ]
  },
  {
   "cell_type": "markdown",
   "metadata": {},
   "source": [
    "* Use dictionary methods like keys(), values(), and items(). "
   ]
  },
  {
   "cell_type": "code",
   "execution_count": 3,
   "metadata": {},
   "outputs": [
    {
     "name": "stdout",
     "output_type": "stream",
     "text": [
      "Keys: dict_keys(['Name', 'Age'])\n",
      "Values: dict_values(['Alice', 26])\n",
      "Items: dict_items([('Name', 'Alice'), ('Age', 26)])\n"
     ]
    }
   ],
   "source": [
    "# Get all keys in the dictionary\n",
    "keys = my_dict.keys()\n",
    "print(f\"Keys: {keys}\")\n",
    "\n",
    "# Get all values in the dictionary\n",
    "values = my_dict.values()\n",
    "print(f\"Values: {values}\")\n",
    "\n",
    "# Get all key-value pairs in the dictionary\n",
    "items = my_dict.items()\n",
    "print(f\"Items: {items}\")"
   ]
  },
  {
   "cell_type": "markdown",
   "metadata": {},
   "source": [
    "* Add a new key-value pair and remove an existing key-value pair. "
   ]
  },
  {
   "cell_type": "code",
   "execution_count": 4,
   "metadata": {},
   "outputs": [
    {
     "name": "stdout",
     "output_type": "stream",
     "text": [
      "Dictionary after adding new key-value pair: {'Name': 'Alice', 'Age': 26, 'Occupation': 'Engineer'}\n",
      "Dictionary after removing a key-value pair: {'Age': 26, 'Occupation': 'Engineer'}\n"
     ]
    }
   ],
   "source": [
    "# Add a new key-value pair\n",
    "my_dict['Occupation'] = 'Engineer'\n",
    "print(f\"Dictionary after adding new key-value pair: {my_dict}\")\n",
    "\n",
    "# Remove an existing key-value pair\n",
    "my_dict.pop('Name')\n",
    "print(f\"Dictionary after removing a key-value pair: {my_dict}\")"
   ]
  },
  {
   "cell_type": "markdown",
   "metadata": {},
   "source": [
    "* Create a nested dictionary to store student details (like name, age, and marks). "
   ]
  },
  {
   "cell_type": "code",
   "execution_count": 5,
   "metadata": {},
   "outputs": [
    {
     "name": "stdout",
     "output_type": "stream",
     "text": [
      "{'Student1': {'Name': 'Alice', 'Age': 20, 'Marks': {'Math': 85, 'Science': 90, 'English': 88}}, 'Student2': {'Name': 'Bob', 'Age': 22, 'Marks': {'Math': 78, 'Science': 83, 'English': 80}}, 'Student3': {'Name': 'Charlie', 'Age': 21, 'Marks': {'Math': 92, 'Science': 88, 'English': 91}}}\n"
     ]
    }
   ],
   "source": [
    "# Create a nested dictionary to store student details\n",
    "students = {\n",
    "    'Student1': {\n",
    "        'Name': 'Alice',\n",
    "        'Age': 20,\n",
    "        'Marks': {\n",
    "            'Math': 85,\n",
    "            'Science': 90,\n",
    "            'English': 88\n",
    "        }\n",
    "    },\n",
    "    'Student2': {\n",
    "        'Name': 'Bob',\n",
    "        'Age': 22,\n",
    "        'Marks': {\n",
    "            'Math': 78,\n",
    "            'Science': 83,\n",
    "            'English': 80\n",
    "        }\n",
    "    },\n",
    "    'Student3': {\n",
    "        'Name': 'Charlie',\n",
    "        'Age': 21,\n",
    "        'Marks': {\n",
    "            'Math': 92,\n",
    "            'Science': 88,\n",
    "            'English': 91\n",
    "        }\n",
    "    }\n",
    "}\n",
    "\n",
    "print(students)"
   ]
  },
  {
   "cell_type": "markdown",
   "metadata": {},
   "source": [
    "* Access and update elements in a nested dictionary. "
   ]
  },
  {
   "cell_type": "code",
   "execution_count": 6,
   "metadata": {},
   "outputs": [
    {
     "name": "stdout",
     "output_type": "stream",
     "text": [
      "Student1 Name: Alice\n",
      "Student2 Math Marks: 78\n",
      "Updated Student3 Science Marks: 95\n"
     ]
    }
   ],
   "source": [
    "# Access elements in a nested dictionary\n",
    "student1_name = students['Student1']['Name']\n",
    "student2_math_marks = students['Student2']['Marks']['Math']\n",
    "print(f\"Student1 Name: {student1_name}\")\n",
    "print(f\"Student2 Math Marks: {student2_math_marks}\")\n",
    "\n",
    "# Update elements in a nested dictionary\n",
    "students['Student3']['Marks']['Science'] = 95\n",
    "print(f\"Updated Student3 Science Marks: {students['Student3']['Marks']['Science']}\")"
   ]
  },
  {
   "cell_type": "markdown",
   "metadata": {},
   "source": [
    "* Merge two dictionaries using update(). "
   ]
  },
  {
   "cell_type": "code",
   "execution_count": 7,
   "metadata": {},
   "outputs": [
    {
     "name": "stdout",
     "output_type": "stream",
     "text": [
      "Merged Dictionary: {'Age': 26, 'Occupation': 'Engineer', 'Country': 'USA', 'City': 'New York'}\n"
     ]
    }
   ],
   "source": [
    "# Create another dictionary to merge with my_dict\n",
    "additional_info = {\n",
    "    'Country': 'USA',\n",
    "    'City': 'New York'\n",
    "}\n",
    "\n",
    "# Merge additional_info into my_dict\n",
    "my_dict.update(additional_info)\n",
    "print(f\"Merged Dictionary: {my_dict}\")"
   ]
  },
  {
   "cell_type": "markdown",
   "metadata": {},
   "source": [
    "* Write a program to sort a dictionary based on its values. "
   ]
  },
  {
   "cell_type": "code",
   "execution_count": 8,
   "metadata": {},
   "outputs": [
    {
     "name": "stdout",
     "output_type": "stream",
     "text": [
      "Sorted Dictionary: {'Age': 26, 'Occupation': 'Engineer', 'City': 'New York', 'Country': 'USA'}\n"
     ]
    }
   ],
   "source": [
    "# Sort the dictionary based on its values by converting all values to strings\n",
    "sorted_dict = dict(sorted(my_dict.items(), key=lambda item: str(item[1])))\n",
    "print(f\"Sorted Dictionary: {sorted_dict}\")"
   ]
  }
 ],
 "metadata": {
  "kernelspec": {
   "display_name": ".venv",
   "language": "python",
   "name": "python3"
  },
  "language_info": {
   "codemirror_mode": {
    "name": "ipython",
    "version": 3
   },
   "file_extension": ".py",
   "mimetype": "text/x-python",
   "name": "python",
   "nbconvert_exporter": "python",
   "pygments_lexer": "ipython3",
   "version": "3.13.2"
  }
 },
 "nbformat": 4,
 "nbformat_minor": 2
}
