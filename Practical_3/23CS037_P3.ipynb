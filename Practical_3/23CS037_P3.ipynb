{
  "cells": [
    {
      "cell_type": "markdown",
      "metadata": {
        "id": "9ZUZ3hTmOLtD"
      },
      "source": [
        "# **Basics of Function**"
      ]
    },
    {
      "cell_type": "markdown",
      "metadata": {
        "id": "5ec1uW84ODRo"
      },
      "source": [
        "**Define a simple function that takes input and returns an output**"
      ]
    },
    {
      "cell_type": "code",
      "execution_count": null,
      "metadata": {
        "colab": {
          "base_uri": "https://localhost:8080/"
        },
        "id": "dceb1kQYEDyE",
        "outputId": "aac903eb-79f3-4363-fcb6-86a784681972"
      },
      "outputs": [],
      "source": [
        "def my_function(input_value):\n",
        "  return input_value\n",
        "\n",
        "output = my_function(5)\n",
        "print(output)\n",
        "\n",
        "output = my_function('CSPIT CHARUSAT')\n",
        "print(output)"
      ]
    },
    {
      "cell_type": "markdown",
      "metadata": {
        "id": "Ffmum1TLORNa"
      },
      "source": [
        "**Define a function with positional, Keyword, default and variable length arguments**"
      ]
    },
    {
      "cell_type": "code",
      "execution_count": null,
      "metadata": {
        "colab": {
          "base_uri": "https://localhost:8080/"
        },
        "id": "LFOid1mgEeIb",
        "outputId": "56276f4e-2883-4bb1-a6f0-39feb2a29a96"
      },
      "outputs": [],
      "source": [
        "def example_function(pos_arg, /, default_arg=\"default\", *var_args, kw_only, **kw_args):\n",
        "    \"\"\"\n",
        "    Demonstrates positional, default, variable-length, and keyword-only arguments.\n",
        "\n",
        "    :param pos_arg: A required positional argument.\n",
        "    :param default_arg: A positional-or-keyword argument with a default value.\n",
        "    :param var_args: Captures additional positional arguments.\n",
        "    :param kw_only: A keyword-only argument (must be passed by name).\n",
        "    :param kw_args: Captures additional keyword arguments.\n",
        "    \"\"\"\n",
        "    print(f\"Positional argument: {pos_arg}\")\n",
        "    print(f\"Default argument: {default_arg}\")\n",
        "    print(f\"Variable positional arguments: {var_args}\")\n",
        "    print(f\"Keyword-only argument: {kw_only}\")\n",
        "    print(f\"Additional keyword arguments: {kw_args}\")\n",
        "\n",
        "\n",
        "example_function(1, \"custom\", 2, 3, 4, kw_only=\"required_kw\", extra=\"extra_kw\")\n"
      ]
    },
    {
      "cell_type": "markdown",
      "metadata": {
        "id": "mm_0V6i5Oaah"
      },
      "source": [
        "**Define a function that returns the multiple values using tuple**"
      ]
    },
    {
      "cell_type": "code",
      "execution_count": null,
      "metadata": {
        "colab": {
          "base_uri": "https://localhost:8080/"
        },
        "id": "6jTEcxvPE0Tb",
        "outputId": "91f0a5fd-f565-4060-9ea5-c66b962feb70"
      },
      "outputs": [],
      "source": [
        "def my_function(input_value):\n",
        "  square = input_value ** 2\n",
        "  cube = input_value ** 3\n",
        "  return (input_value, square, cube)\n",
        "\n",
        "\n",
        "result = my_function(5)\n",
        "print(result)\n",
        "print(type(result))"
      ]
    },
    {
      "cell_type": "markdown",
      "metadata": {
        "id": "WZl9IPshOlbf"
      },
      "source": [
        "**Define an anonymous function using lambda keyword**"
      ]
    },
    {
      "cell_type": "code",
      "execution_count": null,
      "metadata": {
        "colab": {
          "base_uri": "https://localhost:8080/"
        },
        "id": "B3sQ8I5BFO-w",
        "outputId": "05481876-ddaa-401c-fbf0-1e698584d7f1"
      },
      "outputs": [],
      "source": [
        "square = lambda x: x**2\n",
        "\n",
        "\n",
        "result = square(5)\n",
        "print(result)"
      ]
    },
    {
      "cell_type": "markdown",
      "metadata": {
        "id": "WJmgo1cjOvyo"
      },
      "source": [
        "**Define a functon using another Function**"
      ]
    },
    {
      "cell_type": "code",
      "execution_count": null,
      "metadata": {
        "colab": {
          "base_uri": "https://localhost:8080/"
        },
        "id": "F-gAj4JgFg8V",
        "outputId": "8afd975f-62a3-4ade-dd04-04c386c36a75"
      },
      "outputs": [],
      "source": [
        "def outer_function(x):\n",
        "\n",
        "  def inner_function(y):\n",
        "    return x + y\n",
        "\n",
        "  return inner_function\n",
        "\n",
        "# Example usage:\n",
        "my_function = outer_function(10)\n",
        "result = my_function(5)\n",
        "print(result)"
      ]
    },
    {
      "cell_type": "markdown",
      "metadata": {
        "id": "PS1IO2xXO3Kf"
      },
      "source": [
        "**Create and use decorators to modify the behaviour of functions**"
      ]
    },
    {
      "cell_type": "code",
      "execution_count": null,
      "metadata": {
        "colab": {
          "base_uri": "https://localhost:8080/"
        },
        "id": "uJE9yuMuFpCt",
        "outputId": "bed7a2f5-692b-4fb5-e464-6a0e76231f09"
      },
      "outputs": [],
      "source": [
        "import time\n",
        "import functools\n",
        "\n",
        "def timer(func):\n",
        "    @functools.wraps(func)\n",
        "    def wrapper(*args, **kwargs):\n",
        "        start_time = time.time()\n",
        "        result = func(*args, **kwargs)\n",
        "        end_time = time.time()\n",
        "        print(f\"Function {func.__name__} took {end_time - start_time:.4f} seconds to execute.\")\n",
        "        return result\n",
        "    return wrapper\n",
        "\n",
        "@timer\n",
        "def slow_function():\n",
        "    time.sleep(2)\n",
        "\n",
        "slow_function()"
      ]
    },
    {
      "cell_type": "markdown",
      "metadata": {
        "id": "2ow1XQj1O-id"
      },
      "source": [
        "**Define a function that call itself to solve a problem recursively**"
      ]
    },
    {
      "cell_type": "code",
      "execution_count": null,
      "metadata": {
        "colab": {
          "base_uri": "https://localhost:8080/"
        },
        "id": "CSdaVmfVGGKE",
        "outputId": "137c86d4-9ab3-4910-bd98-54fbc79d9338"
      },
      "outputs": [],
      "source": [
        "def fibonacci(n):\n",
        "    if n <= 1:\n",
        "        return n\n",
        "    else:\n",
        "        return fibonacci(n - 1) + fibonacci(n - 2)\n",
        "\n",
        "result = fibonacci(6)\n",
        "print(result)"
      ]
    },
    {
      "cell_type": "markdown",
      "metadata": {
        "id": "M6nk0nk3PNyo"
      },
      "source": [
        "**Define functions that take other functions as arguments or return functions as results.**"
      ]
    },
    {
      "cell_type": "code",
      "execution_count": null,
      "metadata": {
        "colab": {
          "base_uri": "https://localhost:8080/"
        },
        "id": "berGYdRVGa4b",
        "outputId": "8ded28fc-e469-4b24-d1d3-2ec199068e14"
      },
      "outputs": [],
      "source": [
        "# Function as Argument\n",
        "\n",
        "def apply_function(func, value):\n",
        "\n",
        "    return func(value)\n",
        "\n",
        "def square(x):\n",
        "    return x * x\n",
        "\n",
        "result = apply_function(square, 5)\n",
        "print(result)"
      ]
    },
    {
      "cell_type": "code",
      "execution_count": null,
      "metadata": {
        "colab": {
          "base_uri": "https://localhost:8080/"
        },
        "id": "PRF3UR75G5hR",
        "outputId": "bb50485c-e09f-43f9-c598-657beab640cf"
      },
      "outputs": [],
      "source": [
        "# Function as return value\n",
        "\n",
        "def create_adder(x):\n",
        "    def adder(y):\n",
        "        return x + y\n",
        "    return adder\n",
        "\n",
        "# Example usage:\n",
        "add_5 = create_adder(5)  # add_5 is now a function\n",
        "result = add_5(10)\n",
        "print(result)  # Output: 15"
      ]
    },
    {
      "cell_type": "markdown",
      "metadata": {
        "id": "X9MbFuWNPXsI"
      },
      "source": [
        "**Add docstrings fuunctions to document their purpose and usage**"
      ]
    },
    {
      "cell_type": "code",
      "execution_count": null,
      "metadata": {
        "colab": {
          "base_uri": "https://localhost:8080/"
        },
        "id": "BBE35GGVHC_P",
        "outputId": "aa11be09-21b8-47ae-ba45-003c9bc9cf48"
      },
      "outputs": [],
      "source": [
        "import functools\n",
        "\n",
        "def my_decorator(func):\n",
        "    @functools.wraps(func)\n",
        "    def wrapper(*args, **kwargs):\n",
        "        print(\"Something is happening before the function is called.\")\n",
        "        result = func(*args, **kwargs)\n",
        "        print(\"Something is happening after the function is called.\")\n",
        "        return result\n",
        "    return wrapper\n",
        "\n",
        "@my_decorator\n",
        "def say_hello(name):\n",
        "    \"\"\"This function prints a greeting.\"\"\"\n",
        "    print(f\"Hello, {name}!\")\n",
        "\n",
        "say_hello(\"World\")"
      ]
    },
    {
      "cell_type": "markdown",
      "metadata": {
        "id": "7WZFR3R5Pht2"
      },
      "source": [
        "**Use type annotations to specify the expected types of function argument and return values.**"
      ]
    },
    {
      "cell_type": "code",
      "execution_count": null,
      "metadata": {
        "colab": {
          "base_uri": "https://localhost:8080/"
        },
        "id": "ZEEl-_nRHSLS",
        "outputId": "df36bc90-5f49-4f2f-dfd8-4b8596dbf45e"
      },
      "outputs": [],
      "source": [
        "from typing import Any\n",
        "\n",
        "def example_function(\n",
        "    pos_arg: int, /,\n",
        "    default_arg: str = \"default\",\n",
        "    *var_args: float,\n",
        "    kw_only: bool,\n",
        "    **kw_args: Any\n",
        ") -> None:\n",
        "    print(f\"Positional argument: {pos_arg}\")\n",
        "    print(f\"Default argument: {default_arg}\")\n",
        "    print(f\"Variable positional arguments: {var_args}\")\n",
        "    print(f\"Keyword-only argument: {kw_only}\")\n",
        "    print(f\"Additional keyword arguments: {kw_args}\")\n",
        "\n",
        "# Example usage:\n",
        "example_function(1, \"custom\", 2.5, 3.7, kw_only=True, extra=\"extra_kw\")\n"
      ]
    },
    {
      "cell_type": "markdown",
      "metadata": {
        "id": "Il9qrh2mPvYy"
      },
      "source": [
        "# **Basics of Loops**"
      ]
    },
    {
      "cell_type": "markdown",
      "metadata": {
        "id": "lK25PqM8PvRL"
      },
      "source": [
        "**Iterate over a sequence (list, tuple, string, or range) using a for loop.**"
      ]
    },
    {
      "cell_type": "code",
      "execution_count": null,
      "metadata": {
        "colab": {
          "base_uri": "https://localhost:8080/"
        },
        "id": "SUC0RLOdJhkn",
        "outputId": "e3261e6c-76c1-409e-f174-d86010279126"
      },
      "outputs": [],
      "source": [
        "fruits = [\"apple\", \"banana\", \"cherry\"]\n",
        "for fruit in fruits:\n",
        "    print(fruit)"
      ]
    },
    {
      "cell_type": "code",
      "execution_count": null,
      "metadata": {
        "colab": {
          "base_uri": "https://localhost:8080/"
        },
        "id": "TuKqC2-DJ6EU",
        "outputId": "8a1a6e7d-9379-4e44-d5aa-0e9f37bf45d4"
      },
      "outputs": [],
      "source": [
        "text = \"hello\"\n",
        "for char in text:\n",
        "    print(char)"
      ]
    },
    {
      "cell_type": "code",
      "execution_count": null,
      "metadata": {
        "colab": {
          "base_uri": "https://localhost:8080/"
        },
        "id": "OoYb9y5lJ8Bp",
        "outputId": "24ac7eee-bc09-457b-ad1b-9799972ddf55"
      },
      "outputs": [],
      "source": [
        "numbers = (10, 20, 30)\n",
        "for num in numbers:\n",
        "    print(num)"
      ]
    },
    {
      "cell_type": "code",
      "execution_count": null,
      "metadata": {
        "colab": {
          "base_uri": "https://localhost:8080/"
        },
        "id": "QIUIRX7HJ-l_",
        "outputId": "4434babc-bd1d-4d4f-cad6-b1db9ee77710"
      },
      "outputs": [],
      "source": [
        "for i in range(5):\n",
        "    print(i)"
      ]
    },
    {
      "cell_type": "markdown",
      "metadata": {
        "id": "Nq64k8JSP3Kp"
      },
      "source": [
        "**Repeat a block of code as long as a condition is true using a while loop.**"
      ]
    },
    {
      "cell_type": "code",
      "execution_count": null,
      "metadata": {
        "colab": {
          "base_uri": "https://localhost:8080/"
        },
        "id": "F9b5Vhu9KBUg",
        "outputId": "ba6d2653-a2c3-40ea-d59d-5eb6ede270a9"
      },
      "outputs": [],
      "source": [
        "count = 0\n",
        "while count < 5:\n",
        "    print(f\"Count is {count}\")\n",
        "    count += 1"
      ]
    },
    {
      "cell_type": "markdown",
      "metadata": {
        "id": "-w5pchQVP7fG"
      },
      "source": [
        "**Use loops inside other loops to handle multi-dimensional data structures.**"
      ]
    },
    {
      "cell_type": "code",
      "execution_count": null,
      "metadata": {
        "colab": {
          "base_uri": "https://localhost:8080/"
        },
        "id": "_HUa3B83KWzF",
        "outputId": "84063b84-863f-4a20-9bdb-1c30050af1fc"
      },
      "outputs": [],
      "source": [
        "matrix = [\n",
        "    [1, 2, 3],\n",
        "    [4, 5, 6],\n",
        "    [7, 8, 9]\n",
        "]\n",
        "\n",
        "for row in matrix:\n",
        "    for value in row:\n",
        "        print(value, end=\" \")\n",
        "    print()"
      ]
    },
    {
      "cell_type": "markdown",
      "metadata": {
        "id": "eJP8MrChQAA5"
      },
      "source": [
        "**Use break, continue, and pass to control the flow of loops.**"
      ]
    },
    {
      "cell_type": "code",
      "execution_count": null,
      "metadata": {
        "colab": {
          "base_uri": "https://localhost:8080/"
        },
        "id": "vgpKrw2gMD9X",
        "outputId": "14207827-c392-4820-e381-a64f659230d1"
      },
      "outputs": [],
      "source": [
        "for num in range(1, 10):\n",
        "    if num == 5:\n",
        "        print(\"Stopping at\", num)\n",
        "        break  # Exits the loop when num is 5\n",
        "    print(num)"
      ]
    },
    {
      "cell_type": "code",
      "execution_count": null,
      "metadata": {
        "colab": {
          "base_uri": "https://localhost:8080/"
        },
        "id": "b5YkrkH4MTSW",
        "outputId": "8104f4f6-0869-412a-d16c-273510bdc880"
      },
      "outputs": [],
      "source": [
        "for num in range(1, 6):\n",
        "    if num == 3:\n",
        "        print(\"Skipping\", num)\n",
        "        continue  # Skips printing 3\n",
        "    print(num)"
      ]
    },
    {
      "cell_type": "code",
      "execution_count": null,
      "metadata": {
        "colab": {
          "base_uri": "https://localhost:8080/"
        },
        "id": "qg2edRgBMVRC",
        "outputId": "a64688ef-8a47-4c6f-c8b1-0fdb3906e297"
      },
      "outputs": [],
      "source": [
        "for num in range(1, 6):\n",
        "    if num == 3:\n",
        "        pass  # Placeholder for future logic\n",
        "    else:\n",
        "        print(num)"
      ]
    },
    {
      "cell_type": "markdown",
      "metadata": {
        "id": "RvNZow0tQEtg"
      },
      "source": [
        "**Use the enumerate function to get both the index and value while iterating over a sequence.**"
      ]
    },
    {
      "cell_type": "code",
      "execution_count": null,
      "metadata": {
        "colab": {
          "base_uri": "https://localhost:8080/"
        },
        "id": "EU_LxwE3MXVc",
        "outputId": "7ebd2f66-8255-4440-baba-e23980e306df"
      },
      "outputs": [],
      "source": [
        "fruits = [\"apple\", \"banana\", \"cherry\"]\n",
        "\n",
        "for index, fruit in enumerate(fruits):\n",
        "    print(f\"Index: {index}, Fruit: {fruit}\")"
      ]
    },
    {
      "cell_type": "markdown",
      "metadata": {
        "id": "gKN6ViZvQIN1"
      },
      "source": [
        "**Use the range function to generate a sequence of numbers for iteration.**"
      ]
    },
    {
      "cell_type": "code",
      "execution_count": null,
      "metadata": {
        "colab": {
          "base_uri": "https://localhost:8080/"
        },
        "id": "FR5pm73wMkaF",
        "outputId": "e9fc1f32-97ea-442a-f1aa-ee2865f639cf"
      },
      "outputs": [],
      "source": [
        "for num in range(5):  # Generates 0, 1, 2, 3, 4\n",
        "    print(num)"
      ]
    },
    {
      "cell_type": "markdown",
      "metadata": {
        "id": "moanwXJsQPRj"
      },
      "source": [
        "**Iterate over the key-value pairs of a dictionary using a for loop.**"
      ]
    },
    {
      "cell_type": "code",
      "execution_count": null,
      "metadata": {
        "colab": {
          "base_uri": "https://localhost:8080/"
        },
        "id": "_OxULQRjNLRf",
        "outputId": "c224501e-f4c9-4519-b2ea-2b163e2dea64"
      },
      "outputs": [],
      "source": [
        "student_scores = {\"Alice\": 85, \"Bob\": 90, \"Charlie\": 78}\n",
        "\n",
        "for value in student_scores.values():\n",
        "    print(f\"Score: {value}\")"
      ]
    },
    {
      "cell_type": "code",
      "execution_count": null,
      "metadata": {
        "colab": {
          "base_uri": "https://localhost:8080/"
        },
        "id": "jfZlgwZTMwtp",
        "outputId": "a81052db-e223-43c2-b2ad-68d124b6c1b9"
      },
      "outputs": [],
      "source": [
        "student_scores = {\"Alice\": 85, \"Bob\": 90, \"Charlie\": 78}\n",
        "\n",
        "for key, value in student_scores.items():\n",
        "    print(f\"Student: {key}, Score: {value}\")"
      ]
    },
    {
      "cell_type": "markdown",
      "metadata": {
        "id": "2WKx_Q-9QdsY"
      },
      "source": [
        "**Use list comprehensions to create new lists by applying an expression to each item in an existing list.**"
      ]
    },
    {
      "cell_type": "code",
      "execution_count": null,
      "metadata": {
        "colab": {
          "base_uri": "https://localhost:8080/"
        },
        "id": "hyIiYKZ2M7xI",
        "outputId": "4a7f9eea-7aae-42a4-b466-86ccde71acac"
      },
      "outputs": [],
      "source": [
        "numbers = [1, 2, 3, 4, 5]\n",
        "squares = [num ** 2 for num in numbers]\n",
        "print(squares)"
      ]
    }
  ],
  "metadata": {
    "colab": {
      "collapsed_sections": [
        "9ZUZ3hTmOLtD",
        "Il9qrh2mPvYy"
      ],
      "provenance": []
    },
    "kernelspec": {
      "display_name": "Python 3",
      "name": "python3"
    },
    "language_info": {
      "name": "python"
    }
  },
  "nbformat": 4,
  "nbformat_minor": 0
}
