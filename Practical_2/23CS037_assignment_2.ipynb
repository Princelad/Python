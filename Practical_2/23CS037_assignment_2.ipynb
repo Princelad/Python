{
 "cells": [
  {
   "cell_type": "markdown",
   "metadata": {},
   "source": [
    "## => Tuple"
   ]
  },
  {
   "cell_type": "markdown",
   "metadata": {},
   "source": [
    "* Write a function that takes a tuple as an argument and returns the tuple with all duplicates removed. "
   ]
  },
  {
   "cell_type": "code",
   "execution_count": null,
   "metadata": {},
   "outputs": [],
   "source": [
    "def remove_duplicates(t):\n",
    "    return tuple(set(t))\n",
    "\n",
    "# Example usage\n",
    "example_tuple = (1, 2, 3, 4, 5, 5, 6, 7, 8, 9, 9, 10)\n",
    "print(remove_duplicates(example_tuple))"
   ]
  },
  {
   "cell_type": "markdown",
   "metadata": {},
   "source": [
    "* Create a list of tuples representing student names and marks, and sort the list by marks."
   ]
  },
  {
   "cell_type": "code",
   "execution_count": null,
   "metadata": {},
   "outputs": [],
   "source": [
    "# List of tuples with student names and marks\n",
    "students = [\n",
    "    (\"Alice\", 85),\n",
    "    (\"Bob\", 75),\n",
    "    (\"Charlie\", 95),\n",
    "    (\"David\", 65),\n",
    "    (\"Eve\", 90)\n",
    "]\n",
    "\n",
    "# Sort the list by marks\n",
    "sorted_students = sorted(students, key=lambda student: student[1])\n",
    "\n",
    "# Print the sorted list\n",
    "print(sorted_students)"
   ]
  },
  {
   "cell_type": "markdown",
   "metadata": {},
   "source": [
    "* Write a program to count the frequency of elements in a tuple using Counter from the collections module. "
   ]
  },
  {
   "cell_type": "code",
   "execution_count": null,
   "metadata": {},
   "outputs": [],
   "source": [
    "from collections import Counter\n",
    "\n",
    "# Example tuple\n",
    "example_tuple = (1, 2, 2, 3, 3, 3, 4, 4, 4, 4)\n",
    "\n",
    "# Count the frequency of elements in the tuple\n",
    "frequency = Counter(example_tuple)\n",
    "\n",
    "# Print the frequency of elements\n",
    "print(frequency)"
   ]
  },
  {
   "cell_type": "markdown",
   "metadata": {},
   "source": [
    "* Implement a tuple-based record system where each tuple represents a record (ID, Name, and Marks) and perform search operations. "
   ]
  },
  {
   "cell_type": "code",
   "execution_count": null,
   "metadata": {},
   "outputs": [],
   "source": [
    "# List of tuples representing records (ID, Name, Marks)\n",
    "records = [\n",
    "    (1, \"Alice\", 85),\n",
    "    (2, \"Bob\", 75),\n",
    "    (3, \"Charlie\", 95),\n",
    "    (4, \"David\", 65),\n",
    "    (5, \"Eve\", 90)\n",
    "]\n",
    "\n",
    "# Function to search records by ID\n",
    "def search_by_id(record_list, record_id):\n",
    "    for record in record_list:\n",
    "        if record[0] == record_id:\n",
    "            return record\n",
    "    return None\n",
    "\n",
    "# Function to search records by Name\n",
    "def search_by_name(record_list, name):\n",
    "    for record in record_list:\n",
    "        if record[1] == name:\n",
    "            return record\n",
    "    return None\n",
    "\n",
    "# Example searches\n",
    "print(search_by_id(records, 3))  # Output: (3, 'Charlie', 95)\n",
    "print(search_by_name(records, \"Eve\"))  # Output: (5, 'Eve', 90)"
   ]
  },
  {
   "cell_type": "markdown",
   "metadata": {},
   "source": [
    "## => List"
   ]
  },
  {
   "cell_type": "markdown",
   "metadata": {},
   "source": [
    "* Implement a program to generate a list of prime numbers within a given range. "
   ]
  },
  {
   "cell_type": "code",
   "execution_count": null,
   "metadata": {},
   "outputs": [],
   "source": [
    "def is_prime(n):\n",
    "    if n <= 1:\n",
    "        return False\n",
    "    for i in range(2, int(n**0.5) + 1):\n",
    "        if n % i == 0:\n",
    "            return False\n",
    "    return True\n",
    "\n",
    "def generate_primes(start, end):\n",
    "    primes = []\n",
    "    for num in range(start, end + 1):\n",
    "        if is_prime(num):\n",
    "            primes.append(num)\n",
    "    return primes\n",
    "\n",
    "# Example usage\n",
    "start_range = 10\n",
    "end_range = 50\n",
    "prime_numbers = generate_primes(start_range, end_range)\n",
    "print(prime_numbers)"
   ]
  },
  {
   "cell_type": "markdown",
   "metadata": {},
   "source": [
    "* Flatten a nested list using recursion. "
   ]
  },
  {
   "cell_type": "code",
   "execution_count": null,
   "metadata": {},
   "outputs": [],
   "source": [
    "def flatten(nested_list):\n",
    "    flat_list = []\n",
    "    for item in nested_list:\n",
    "        if isinstance(item, list):\n",
    "            flat_list.extend(flatten(item))\n",
    "        else:\n",
    "            flat_list.append(item)\n",
    "    return flat_list\n",
    "\n",
    "# Example usage\n",
    "nested_list = [1, [2, [3, 4], 5], 6, [7, 8, [9, 10]]]\n",
    "flattened_list = flatten(nested_list)\n",
    "print(flattened_list)"
   ]
  },
  {
   "cell_type": "markdown",
   "metadata": {},
   "source": [
    "* Write a program to find the second largest element from a list without using built-in functions. "
   ]
  },
  {
   "cell_type": "code",
   "execution_count": null,
   "metadata": {},
   "outputs": [],
   "source": [
    "def find_second_largest(numbers):\n",
    "    if len(numbers) < 2:\n",
    "        return None\n",
    "    \n",
    "    first_largest = second_largest = float('-inf')\n",
    "    \n",
    "    for number in numbers:\n",
    "        if number > first_largest:\n",
    "            second_largest = first_largest\n",
    "            first_largest = number\n",
    "        elif number > second_largest and number != first_largest:\n",
    "            second_largest = number\n",
    "    \n",
    "    return second_largest if second_largest != float('-inf') else None\n",
    "\n",
    "# Example usage\n",
    "numbers = [1, 2, 3, 4, 5, 6, 7, 8, 9, 10]\n",
    "second_largest = find_second_largest(numbers)\n",
    "print(second_largest)  # Output: 9"
   ]
  },
  {
   "cell_type": "markdown",
   "metadata": {},
   "source": [
    "* Use a list to manage a task queue, where tasks are added, removed, and processed sequentially. "
   ]
  },
  {
   "cell_type": "code",
   "execution_count": null,
   "metadata": {},
   "outputs": [],
   "source": [
    "# Initialize an empty task queue\n",
    "task_queue = []\n",
    "\n",
    "# Function to add a task to the queue\n",
    "def add_task(task):\n",
    "    task_queue.append(task)\n",
    "    print(f\"Task '{task}' added to the queue.\")\n",
    "\n",
    "# Function to remove a task from the queue\n",
    "def remove_task():\n",
    "    if task_queue:\n",
    "        task = task_queue.pop(0)\n",
    "        print(f\"Task '{task}' removed from the queue.\")\n",
    "        return task\n",
    "    else:\n",
    "        print(\"No tasks in the queue to remove.\")\n",
    "        return None\n",
    "\n",
    "# Function to process tasks sequentially\n",
    "def process_tasks():\n",
    "    while task_queue:\n",
    "        task = remove_task()\n",
    "        print(f\"Processing task: {task}\")\n",
    "\n",
    "# Example usage\n",
    "add_task(\"Task 1\")\n",
    "add_task(\"Task 2\")\n",
    "add_task(\"Task 3\")\n",
    "\n",
    "process_tasks()"
   ]
  },
  {
   "cell_type": "markdown",
   "metadata": {},
   "source": [
    "## => Dictionary"
   ]
  },
  {
   "cell_type": "markdown",
   "metadata": {},
   "source": [
    "* Write a program to count the frequency of each word in a string and store it in a dictionary. "
   ]
  },
  {
   "cell_type": "code",
   "execution_count": null,
   "metadata": {},
   "outputs": [],
   "source": [
    "def count_word_frequency(text):\n",
    "    words = text.split()\n",
    "    frequency_dict = {}\n",
    "    for word in words:\n",
    "        if word in frequency_dict:\n",
    "            frequency_dict[word] += 1\n",
    "        else:\n",
    "            frequency_dict[word] = 1\n",
    "    return frequency_dict\n",
    "\n",
    "# Example usage\n",
    "text = \"this is a test this is only a test\"\n",
    "word_frequency = count_word_frequency(text)\n",
    "print(word_frequency)"
   ]
  },
  {
   "cell_type": "markdown",
   "metadata": {},
   "source": [
    "* Implement a simple phonebook application using a dictionary where users can add, delete, and search for contacts. "
   ]
  },
  {
   "cell_type": "code",
   "execution_count": null,
   "metadata": {},
   "outputs": [],
   "source": [
    "# Initialize an empty phonebook dictionary\n",
    "phonebook = {}\n",
    "\n",
    "# Function to add a contact to the phonebook\n",
    "def add_contact(name, number):\n",
    "    phonebook[name] = number\n",
    "    print(f\"Contact '{name}' added with number '{number}'.\")\n",
    "\n",
    "# Function to delete a contact from the phonebook\n",
    "def delete_contact(name):\n",
    "    if name in phonebook:\n",
    "        del phonebook[name]\n",
    "        print(f\"Contact '{name}' deleted from the phonebook.\")\n",
    "    else:\n",
    "        print(f\"Contact '{name}' not found in the phonebook.\")\n",
    "\n",
    "# Function to search for a contact by name\n",
    "def search_contact(name):\n",
    "    if name in phonebook:\n",
    "        print(f\"Contact '{name}' found with number '{phonebook[name]}'.\")\n",
    "        return phonebook[name]\n",
    "    else:\n",
    "        print(f\"Contact '{name}' not found in the phonebook.\")\n",
    "        return None\n",
    "\n",
    "# Example usage\n",
    "add_contact(\"Alice\", \"123-456-7890\")\n",
    "add_contact(\"Bob\", \"987-654-3210\")\n",
    "search_contact(\"Alice\")\n",
    "delete_contact(\"Bob\")\n",
    "search_contact(\"Bob\")"
   ]
  },
  {
   "cell_type": "markdown",
   "metadata": {},
   "source": [
    "* Create a dictionary of students and their grades. Write a program to filter students who scored more than a specific mark. "
   ]
  },
  {
   "cell_type": "code",
   "execution_count": null,
   "metadata": {},
   "outputs": [],
   "source": [
    "# Dictionary of students and their grades\n",
    "students_grades = {\n",
    "    \"Alice\": 85,\n",
    "    \"Bob\": 75,\n",
    "    \"Charlie\": 95,\n",
    "    \"David\": 65,\n",
    "    \"Eve\": 90\n",
    "}\n",
    "\n",
    "# Function to filter students who scored more than a specific mark\n",
    "def filter_students_by_grade(students, min_grade):\n",
    "    filtered_students = {name: grade for name, grade in students.items() if grade > min_grade}\n",
    "    return filtered_students\n",
    "\n",
    "# Example usage\n",
    "min_grade = 80\n",
    "filtered_students = filter_students_by_grade(students_grades, min_grade)\n",
    "print(filtered_students)"
   ]
  },
  {
   "cell_type": "markdown",
   "metadata": {},
   "source": [
    "* Write a program to convert a list of tuples (key-value pairs) into a dictionary and vice versa. "
   ]
  },
  {
   "cell_type": "code",
   "execution_count": null,
   "metadata": {},
   "outputs": [],
   "source": [
    "# Function to convert a list of tuples to a dictionary\n",
    "def tuples_to_dict(tuples_list):\n",
    "    return dict(tuples_list)\n",
    "\n",
    "# Function to convert a dictionary to a list of tuples\n",
    "def dict_to_tuples(dictionary):\n",
    "    return list(dictionary.items())\n",
    "\n",
    "# Example usage\n",
    "tuples_list = [(\"Alice\", 85), (\"Bob\", 75), (\"Charlie\", 95)]\n",
    "converted_dict = tuples_to_dict(tuples_list)\n",
    "print(converted_dict)  # Output: {'Alice': 85, 'Bob': 75, 'Charlie': 95}\n",
    "\n",
    "converted_tuples = dict_to_tuples(converted_dict)\n",
    "print(converted_tuples)  # Output: [('Alice', 85), ('Bob', 75), ('Charlie', 95)]"
   ]
  },
  {
   "cell_type": "markdown",
   "metadata": {},
   "source": [
    "## => Set"
   ]
  },
  {
   "cell_type": "markdown",
   "metadata": {},
   "source": [
    "* Write a program to remove duplicate elements from a list using a set."
   ]
  },
  {
   "cell_type": "code",
   "execution_count": null,
   "metadata": {},
   "outputs": [],
   "source": [
    "def rm_duplicates(nums):\n",
    "    return list(set(nums))\n",
    "\n",
    "# Example usage\n",
    "numbers = [1, 2, 3, 4, 5, 5, 6, 7, 8, 9, 9, 10]\n",
    "unique_numbers = rm_duplicates(numbers)\n",
    "print(unique_numbers)"
   ]
  },
  {
   "cell_type": "markdown",
   "metadata": {},
   "source": [
    "* Write a program to find the symmetric difference of multiple sets."
   ]
  },
  {
   "cell_type": "code",
   "execution_count": null,
   "metadata": {},
   "outputs": [],
   "source": [
    "diff = lambda x, y: x ^ y\n",
    "\n",
    "# Example usage\n",
    "set1 = {1, 2, 3, 4, 5}\n",
    "set2 = {3, 4, 5, 6, 7}\n",
    "\n",
    "difference = diff(set1, set2)\n",
    "\n",
    "print(difference)"
   ]
  },
  {
   "cell_type": "markdown",
   "metadata": {},
   "source": [
    "* Write a program to find the intersection of two sets where one set has even numbers and another has prime numbers."
   ]
  },
  {
   "cell_type": "code",
   "execution_count": null,
   "metadata": {},
   "outputs": [],
   "source": [
    "inter = lambda x, y: x & y\n",
    "\n",
    "# Example usage\n",
    "set1 = {2, 4, 6, 8, 10}\n",
    "set2 = {2, 3, 5, 7, 11}\n",
    "\n",
    "intersection = inter(set1, set2)\n",
    "\n",
    "print(intersection)"
   ]
  },
  {
   "cell_type": "markdown",
   "metadata": {},
   "source": [
    "* Write a program to find the union of two sets where one set has odd numbers and another has multiple of 9’s."
   ]
  },
  {
   "cell_type": "code",
   "execution_count": null,
   "metadata": {},
   "outputs": [],
   "source": [
    "un = lambda x, y : x | y\n",
    "\n",
    "# Example usage\n",
    "set1 = {1, 3, 5, 7, 9}\n",
    "set2 = {9, 18, 27, 36, 45}\n",
    "\n",
    "union = un(set1, set2)\n",
    "\n",
    "print(union)"
   ]
  },
  {
   "cell_type": "markdown",
   "metadata": {},
   "source": [
    "* Write a program to find the difference of two sets where one set has positive numbers and another has negative numbers."
   ]
  },
  {
   "cell_type": "code",
   "execution_count": null,
   "metadata": {},
   "outputs": [],
   "source": [
    "set1 = {1, 2, 3, 4, 5}\n",
    "set2 = {-1, -2, -3, -4, -5}\n",
    "\n",
    "difference = diff(set1, set2)\n",
    "\n",
    "print(difference)"
   ]
  }
 ],
 "metadata": {
  "kernelspec": {
   "display_name": ".venv",
   "language": "python",
   "name": "python3"
  },
  "language_info": {
   "codemirror_mode": {
    "name": "ipython",
    "version": 3
   },
   "file_extension": ".py",
   "mimetype": "text/x-python",
   "name": "python",
   "nbconvert_exporter": "python",
   "pygments_lexer": "ipython3",
   "version": "3.13.1"
  }
 },
 "nbformat": 4,
 "nbformat_minor": 2
}
